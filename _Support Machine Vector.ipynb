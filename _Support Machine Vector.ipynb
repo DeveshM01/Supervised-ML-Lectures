{
 "cells": [
  {
   "cell_type": "markdown",
   "id": "fd5527d6-213c-4089-a70b-8d4fb84be65e",
   "metadata": {},
   "source": [
    "## Support Machine Vector "
   ]
  },
  {
   "cell_type": "code",
   "execution_count": 5,
   "id": "7e8a8ecf-d5b3-4cf1-b915-1e484e1ce957",
   "metadata": {},
   "outputs": [],
   "source": [
    "import pandas as pd \n",
    "import numpy as np\n",
    "import seaborn as sns \n",
    "import matplotlib.pyplot as plt\n"
   ]
  },
  {
   "cell_type": "code",
   "execution_count": 23,
   "id": "31502562-d71a-408a-9c12-24f6c0a02185",
   "metadata": {},
   "outputs": [],
   "source": [
    "## lets make syntehtic data points\n",
    "from sklearn.datasets import make_classification"
   ]
  },
  {
   "cell_type": "code",
   "execution_count": 48,
   "id": "6a315c0f-b3f3-4a2f-91c4-e5f27f267dfb",
   "metadata": {},
   "outputs": [],
   "source": [
    "x,y=make_classification(n_samples=1000,n_features=2,n_classes=2,\n",
    "                       n_clusters_per_class=2,n_redundant=0)"
   ]
  },
  {
   "cell_type": "code",
   "execution_count": 49,
   "id": "5e7394db-d511-476d-8f16-8cccddef5e2e",
   "metadata": {},
   "outputs": [
    {
     "data": {
      "text/plain": [
       "array([[-1.01989565,  0.53212304],\n",
       "       [ 1.3942079 ,  0.94756026],\n",
       "       [-0.47062177, -1.43920082],\n",
       "       ...,\n",
       "       [-0.73193506, -1.62392861],\n",
       "       [ 1.96634421,  0.21033707],\n",
       "       [ 1.55262495,  1.10394012]])"
      ]
     },
     "execution_count": 49,
     "metadata": {},
     "output_type": "execute_result"
    }
   ],
   "source": [
    "x"
   ]
  },
  {
   "cell_type": "code",
   "execution_count": 50,
   "id": "5dcbad85-18d9-44bc-abef-3f6734e38273",
   "metadata": {},
   "outputs": [
    {
     "data": {
      "text/plain": [
       "array([1, 1, 0, 1, 1, 1, 1, 0, 1, 0, 0, 1, 0, 0, 1, 0, 1, 1, 1, 0, 1, 1,\n",
       "       1, 1, 0, 0, 0, 0, 0, 1, 1, 0, 1, 1, 1, 0, 0, 0, 1, 0, 0, 1, 0, 1,\n",
       "       1, 1, 0, 0, 0, 0, 1, 0, 1, 0, 1, 1, 1, 1, 0, 1, 0, 0, 0, 1, 0, 1,\n",
       "       1, 1, 0, 1, 0, 0, 0, 0, 0, 1, 1, 1, 1, 1, 1, 0, 1, 0, 0, 1, 1, 1,\n",
       "       0, 0, 1, 0, 0, 1, 1, 0, 0, 1, 0, 0, 1, 1, 1, 0, 1, 0, 1, 0, 0, 0,\n",
       "       0, 1, 1, 0, 0, 0, 0, 1, 0, 0, 0, 1, 1, 1, 0, 1, 1, 1, 0, 0, 1, 0,\n",
       "       0, 1, 0, 0, 1, 1, 1, 1, 1, 0, 1, 1, 0, 1, 0, 0, 1, 1, 1, 1, 0, 1,\n",
       "       0, 0, 1, 1, 0, 1, 0, 0, 0, 0, 0, 1, 0, 0, 1, 0, 0, 0, 1, 1, 0, 1,\n",
       "       1, 0, 1, 1, 0, 0, 0, 1, 0, 0, 1, 1, 1, 0, 1, 0, 0, 1, 0, 1, 0, 1,\n",
       "       1, 1, 1, 0, 0, 1, 1, 0, 1, 1, 0, 1, 1, 0, 0, 1, 0, 0, 1, 0, 1, 1,\n",
       "       0, 1, 0, 1, 0, 1, 1, 0, 0, 1, 0, 1, 1, 0, 0, 0, 0, 0, 0, 0, 1, 1,\n",
       "       0, 0, 1, 1, 0, 0, 1, 0, 1, 1, 0, 0, 1, 0, 1, 1, 0, 0, 1, 1, 1, 0,\n",
       "       1, 1, 0, 1, 0, 1, 0, 0, 0, 1, 0, 0, 0, 0, 0, 0, 1, 1, 1, 0, 0, 0,\n",
       "       0, 0, 1, 1, 0, 1, 1, 0, 0, 1, 0, 0, 1, 0, 0, 1, 1, 0, 0, 0, 0, 1,\n",
       "       0, 0, 1, 1, 0, 0, 0, 1, 0, 1, 1, 0, 0, 1, 0, 1, 1, 1, 0, 1, 1, 1,\n",
       "       1, 0, 1, 0, 1, 0, 0, 0, 1, 0, 0, 0, 1, 1, 0, 1, 0, 0, 1, 0, 0, 1,\n",
       "       1, 1, 1, 0, 0, 1, 1, 1, 0, 0, 1, 0, 1, 0, 1, 1, 0, 1, 1, 0, 0, 1,\n",
       "       0, 0, 0, 1, 0, 1, 0, 0, 0, 0, 0, 0, 0, 0, 1, 0, 0, 0, 1, 0, 1, 0,\n",
       "       0, 0, 1, 0, 1, 0, 0, 1, 1, 0, 1, 1, 0, 1, 1, 1, 1, 1, 1, 1, 1, 1,\n",
       "       1, 1, 1, 1, 0, 1, 0, 0, 1, 0, 0, 0, 0, 1, 0, 0, 1, 0, 1, 0, 0, 0,\n",
       "       1, 0, 0, 0, 0, 1, 1, 1, 1, 1, 1, 1, 1, 0, 0, 1, 0, 1, 1, 1, 1, 1,\n",
       "       0, 1, 1, 1, 1, 1, 1, 0, 0, 1, 1, 1, 0, 1, 0, 1, 0, 0, 0, 1, 1, 1,\n",
       "       1, 1, 1, 0, 0, 0, 1, 1, 1, 0, 0, 0, 1, 1, 1, 1, 0, 0, 1, 1, 1, 0,\n",
       "       1, 0, 1, 1, 1, 0, 0, 0, 1, 0, 1, 0, 0, 1, 1, 1, 0, 1, 1, 1, 1, 0,\n",
       "       0, 0, 0, 1, 1, 1, 1, 0, 1, 1, 0, 1, 1, 1, 1, 0, 1, 1, 0, 1, 0, 0,\n",
       "       1, 1, 1, 0, 1, 1, 1, 1, 1, 0, 1, 0, 1, 0, 1, 1, 0, 0, 0, 1, 1, 1,\n",
       "       0, 0, 1, 1, 0, 0, 0, 0, 1, 0, 1, 0, 1, 1, 0, 1, 0, 0, 1, 1, 0, 1,\n",
       "       0, 0, 0, 0, 0, 0, 1, 0, 1, 1, 1, 1, 1, 1, 0, 0, 0, 0, 1, 1, 1, 0,\n",
       "       1, 0, 0, 1, 0, 0, 1, 0, 1, 0, 0, 1, 1, 0, 1, 0, 1, 0, 1, 0, 1, 0,\n",
       "       1, 1, 0, 0, 0, 0, 0, 1, 0, 1, 0, 0, 0, 0, 1, 1, 1, 1, 1, 0, 1, 1,\n",
       "       1, 0, 0, 1, 0, 1, 1, 1, 1, 0, 1, 0, 1, 0, 0, 1, 1, 1, 0, 0, 1, 0,\n",
       "       0, 0, 0, 0, 1, 1, 0, 1, 0, 1, 1, 0, 1, 0, 1, 1, 1, 0, 0, 0, 1, 0,\n",
       "       1, 0, 1, 1, 1, 1, 0, 0, 0, 1, 0, 0, 0, 0, 1, 1, 0, 0, 1, 0, 0, 0,\n",
       "       0, 1, 0, 0, 1, 1, 0, 0, 1, 1, 0, 1, 1, 1, 1, 0, 0, 0, 1, 0, 0, 1,\n",
       "       0, 1, 0, 1, 0, 0, 1, 1, 1, 0, 1, 0, 0, 1, 0, 0, 0, 0, 1, 1, 0, 1,\n",
       "       0, 0, 0, 0, 0, 1, 0, 0, 1, 1, 1, 1, 1, 0, 0, 1, 0, 0, 0, 0, 1, 0,\n",
       "       1, 0, 0, 1, 1, 0, 1, 0, 1, 0, 1, 1, 1, 1, 0, 1, 1, 1, 1, 0, 0, 1,\n",
       "       1, 1, 0, 1, 0, 1, 0, 1, 0, 1, 0, 1, 0, 1, 1, 1, 1, 1, 0, 1, 0, 1,\n",
       "       1, 0, 1, 0, 0, 0, 0, 0, 0, 0, 1, 1, 0, 0, 0, 1, 0, 1, 0, 1, 0, 1,\n",
       "       1, 0, 1, 0, 0, 0, 1, 1, 1, 0, 0, 0, 0, 0, 1, 0, 1, 0, 0, 0, 0, 0,\n",
       "       0, 1, 1, 0, 1, 0, 1, 1, 0, 0, 0, 0, 0, 0, 0, 1, 0, 1, 1, 0, 1, 1,\n",
       "       0, 0, 0, 0, 1, 0, 1, 0, 1, 1, 0, 1, 1, 0, 0, 0, 1, 0, 1, 1, 0, 1,\n",
       "       0, 1, 0, 0, 0, 0, 0, 1, 0, 1, 1, 0, 1, 0, 1, 0, 0, 1, 1, 0, 1, 1,\n",
       "       1, 0, 0, 1, 0, 1, 0, 1, 0, 1, 0, 1, 0, 1, 1, 0, 0, 0, 1, 1, 0, 0,\n",
       "       1, 1, 0, 1, 1, 0, 1, 1, 0, 1, 0, 1, 1, 0, 1, 1, 0, 0, 1, 0, 0, 1,\n",
       "       1, 1, 0, 1, 0, 1, 0, 0, 1, 1])"
      ]
     },
     "execution_count": 50,
     "metadata": {},
     "output_type": "execute_result"
    }
   ],
   "source": [
    "y"
   ]
  },
  {
   "cell_type": "code",
   "execution_count": 51,
   "id": "4e79691a-ad51-4cac-9c7b-5258f0be9959",
   "metadata": {},
   "outputs": [
    {
     "data": {
      "text/plain": [
       "0     -1.019896\n",
       "1      1.394208\n",
       "2     -0.470622\n",
       "3     -0.959943\n",
       "4      1.322321\n",
       "         ...   \n",
       "995   -1.000470\n",
       "996   -0.595147\n",
       "997   -0.731935\n",
       "998    1.966344\n",
       "999    1.552625\n",
       "Name: 0, Length: 1000, dtype: float64"
      ]
     },
     "execution_count": 51,
     "metadata": {},
     "output_type": "execute_result"
    }
   ],
   "source": [
    "pd.DataFrame(x)[0]"
   ]
  },
  {
   "cell_type": "code",
   "execution_count": 52,
   "id": "8fef243a-dc63-40d5-8707-f5e9dcbd32ed",
   "metadata": {},
   "outputs": [
    {
     "data": {
      "text/plain": [
       "<AxesSubplot: xlabel='0', ylabel='1'>"
      ]
     },
     "execution_count": 52,
     "metadata": {},
     "output_type": "execute_result"
    },
    {
     "data": {
      "image/png": "[encoded data removed]",
      "text/plain": [
       "<Figure size 640x480 with 1 Axes>"
      ]
     },
     "metadata": {},
     "output_type": "display_data"
    }
   ],
   "source": [
    "sns.scatterplot(x=pd.DataFrame(x)[0],y=pd.DataFrame(x)[1],hue=y)"
   ]
  },
  {
   "cell_type": "code",
   "execution_count": 53,
   "id": "f8b486e3-c225-4164-91ca-36c8dd58964e",
   "metadata": {},
   "outputs": [],
   "source": [
    "from sklearn.model_selection import train_test_split\n",
    "x_train,x_test,y_train,y_test=train_test_split(x,y,test_size=0.25,random_state=10)"
   ]
  },
  {
   "cell_type": "code",
   "execution_count": 54,
   "id": "7d5b496e-d1ec-4ba9-93d7-7096fd3c0aba",
   "metadata": {},
   "outputs": [
    {
     "data": {
      "text/plain": [
       "((750, 2), (250, 2))"
      ]
     },
     "execution_count": 54,
     "metadata": {},
     "output_type": "execute_result"
    }
   ],
   "source": [
    "x_train.shape,x_test.shape"
   ]
  },
  {
   "cell_type": "code",
   "execution_count": 55,
   "id": "012fd453-9cae-479b-a9e1-dafb211b9e51",
   "metadata": {},
   "outputs": [],
   "source": [
    "from sklearn.svm import SVC"
   ]
  },
  {
   "cell_type": "code",
   "execution_count": 56,
   "id": "e44995e3-890b-4df2-903a-ff87012a88f4",
   "metadata": {},
   "outputs": [],
   "source": [
    "svc=SVC(kernel=\"linear\")\n",
    "#Kernel is taken linear because we have pridict in straight line and with marginal line"
   ]
  },
  {
   "cell_type": "code",
   "execution_count": 57,
   "id": "2b234622-8fe9-4510-b712-450234aa9394",
   "metadata": {},
   "outputs": [
    {
     "data": {
      "text/html": [
       "<style>#sk-container-id-1 {color: black;background-color: white;}#sk-container-id-1 pre{padding: 0;}#sk-container-id-1 div.sk-toggleable {background-color: white;}#sk-container-id-1 label.sk-toggleable__label {cursor: pointer;display: block;width: 100%;margin-bottom: 0;padding: 0.3em;box-sizing: border-box;text-align: center;}#sk-container-id-1 label.sk-toggleable__label-arrow:before {content: \"▸\";float: left;margin-right: 0.25em;color: #696969;}#sk-container-id-1 label.sk-toggleable__label-arrow:hover:before {color: black;}#sk-container-id-1 div.sk-estimator:hover label.sk-toggleable__label-arrow:before {color: black;}#sk-container-id-1 div.sk-toggleable__content {max-height: 0;max-width: 0;overflow: hidden;text-align: left;background-color: #f0f8ff;}#sk-container-id-1 div.sk-toggleable__content pre {margin: 0.2em;color: black;border-radius: 0.25em;background-color: #f0f8ff;}#sk-container-id-1 input.sk-toggleable__control:checked~div.sk-toggleable__content {max-height: 200px;max-width: 100%;overflow: auto;}#sk-container-id-1 input.sk-toggleable__control:checked~label.sk-toggleable__label-arrow:before {content: \"▾\";}#sk-container-id-1 div.sk-estimator input.sk-toggleable__control:checked~label.sk-toggleable__label {background-color: #d4ebff;}#sk-container-id-1 div.sk-label input.sk-toggleable__control:checked~label.sk-toggleable__label {background-color: #d4ebff;}#sk-container-id-1 input.sk-hidden--visually {border: 0;clip: rect(1px 1px 1px 1px);clip: rect(1px, 1px, 1px, 1px);height: 1px;margin: -1px;overflow: hidden;padding: 0;position: absolute;width: 1px;}#sk-container-id-1 div.sk-estimator {font-family: monospace;background-color: #f0f8ff;border: 1px dotted black;border-radius: 0.25em;box-sizing: border-box;margin-bottom: 0.5em;}#sk-container-id-1 div.sk-estimator:hover {background-color: #d4ebff;}#sk-container-id-1 div.sk-parallel-item::after {content: \"\";width: 100%;border-bottom: 1px solid gray;flex-grow: 1;}#sk-container-id-1 div.sk-label:hover label.sk-toggleable__label {background-color: #d4ebff;}#sk-container-id-1 div.sk-serial::before {content: \"\";position: absolute;border-left: 1px solid gray;box-sizing: border-box;top: 0;bottom: 0;left: 50%;z-index: 0;}#sk-container-id-1 div.sk-serial {display: flex;flex-direction: column;align-items: center;background-color: white;padding-right: 0.2em;padding-left: 0.2em;position: relative;}#sk-container-id-1 div.sk-item {position: relative;z-index: 1;}#sk-container-id-1 div.sk-parallel {display: flex;align-items: stretch;justify-content: center;background-color: white;position: relative;}#sk-container-id-1 div.sk-item::before, #sk-container-id-1 div.sk-parallel-item::before {content: \"\";position: absolute;border-left: 1px solid gray;box-sizing: border-box;top: 0;bottom: 0;left: 50%;z-index: -1;}#sk-container-id-1 div.sk-parallel-item {display: flex;flex-direction: column;z-index: 1;position: relative;background-color: white;}#sk-container-id-1 div.sk-parallel-item:first-child::after {align-self: flex-end;width: 50%;}#sk-container-id-1 div.sk-parallel-item:last-child::after {align-self: flex-start;width: 50%;}#sk-container-id-1 div.sk-parallel-item:only-child::after {width: 0;}#sk-container-id-1 div.sk-dashed-wrapped {border: 1px dashed gray;margin: 0 0.4em 0.5em 0.4em;box-sizing: border-box;padding-bottom: 0.4em;background-color: white;}#sk-container-id-1 div.sk-label label {font-family: monospace;font-weight: bold;display: inline-block;line-height: 1.2em;}#sk-container-id-1 div.sk-label-container {text-align: center;}#sk-container-id-1 div.sk-container {/* jupyter's `normalize.less` sets `[hidden] { display: none; }` but bootstrap.min.css set `[hidden] { display: none !important; }` so we also need the `!important` here to be able to override the default hidden behavior on the sphinx rendered scikit-learn.org. See: https://github.com/scikit-learn/scikit-learn/issues/21755 */display: inline-block !important;position: relative;}#sk-container-id-1 div.sk-text-repr-fallback {display: none;}</style><div id=\"sk-container-id-1\" class=\"sk-top-container\"><div class=\"sk-text-repr-fallback\"><pre>SVC(kernel=&#x27;linear&#x27;)</pre><b>In a Jupyter environment, please rerun this cell to show the HTML representation or trust the notebook. <br />On GitHub, the HTML representation is unable to render, please try loading this page with nbviewer.org.</b></div><div class=\"sk-container\" hidden><div class=\"sk-item\"><div class=\"sk-estimator sk-toggleable\"><input class=\"sk-toggleable__control sk-hidden--visually\" id=\"sk-estimator-id-1\" type=\"checkbox\" checked><label for=\"sk-estimator-id-1\" class=\"sk-toggleable__label sk-toggleable__label-arrow\">SVC</label><div class=\"sk-toggleable__content\"><pre>SVC(kernel=&#x27;linear&#x27;)</pre></div></div></div></div></div>"
      ],
      "text/plain": [
       "SVC(kernel='linear')"
      ]
     },
     "execution_count": 57,
     "metadata": {},
     "output_type": "execute_result"
    }
   ],
   "source": [
    "svc.fit(x_train,y_train)"
   ]
  },
  {
   "cell_type": "code",
   "execution_count": 58,
   "id": "eeb0446e-8273-47d7-9845-3623c67e1d81",
   "metadata": {},
   "outputs": [
    {
     "data": {
      "text/plain": [
       "array([[-0.12291647,  1.64861574]])"
      ]
     },
     "execution_count": 58,
     "metadata": {},
     "output_type": "execute_result"
    }
   ],
   "source": [
    "svc.coef_\n",
    "#here we get the value of theta 1 and theta 2"
   ]
  },
  {
   "cell_type": "code",
   "execution_count": 59,
   "id": "bfd43c83-5780-411f-bcf8-6f3f05e8e68b",
   "metadata": {},
   "outputs": [],
   "source": [
    "y_pred=svc.predict(x_test)"
   ]
  },
  {
   "cell_type": "code",
   "execution_count": 60,
   "id": "4613a494-579c-4e46-b2e4-e0fd6b23f5d5",
   "metadata": {},
   "outputs": [
    {
     "data": {
      "text/plain": [
       "array([0, 0, 1, 1, 0, 1, 1, 0, 1, 0, 1, 1, 0, 1, 1, 1, 0, 1, 0, 0, 1, 0,\n",
       "       1, 1, 1, 1, 1, 0, 0, 0, 0, 0, 1, 0, 1, 1, 1, 0, 0, 1, 0, 1, 1, 1,\n",
       "       1, 0, 0, 0, 1, 1, 0, 0, 0, 0, 1, 0, 1, 1, 0, 1, 0, 1, 0, 0, 1, 1,\n",
       "       0, 1, 1, 1, 0, 0, 1, 1, 0, 1, 1, 1, 1, 1, 0, 0, 1, 1, 1, 1, 1, 1,\n",
       "       0, 0, 1, 0, 1, 1, 0, 0, 1, 0, 0, 1, 1, 1, 1, 0, 0, 1, 0, 1, 1, 0,\n",
       "       1, 1, 1, 0, 1, 0, 1, 1, 0, 1, 1, 1, 0, 0, 1, 1, 0, 1, 1, 1, 1, 0,\n",
       "       0, 0, 1, 0, 1, 1, 1, 0, 0, 1, 0, 0, 0, 0, 1, 1, 1, 1, 0, 0, 0, 0,\n",
       "       1, 1, 1, 1, 0, 1, 1, 0, 1, 0, 1, 0, 0, 0, 0, 0, 0, 1, 1, 1, 0, 1,\n",
       "       1, 1, 0, 1, 0, 0, 1, 0, 0, 0, 0, 1, 0, 0, 1, 0, 0, 0, 1, 1, 0, 1,\n",
       "       1, 1, 0, 0, 1, 1, 0, 0, 0, 1, 0, 0, 0, 0, 0, 0, 0, 1, 0, 0, 0, 1,\n",
       "       1, 0, 0, 1, 0, 1, 0, 1, 0, 1, 0, 0, 1, 1, 0, 1, 1, 1, 1, 1, 0, 1,\n",
       "       1, 0, 1, 1, 0, 1, 1, 1])"
      ]
     },
     "execution_count": 60,
     "metadata": {},
     "output_type": "execute_result"
    }
   ],
   "source": [
    "y_pred"
   ]
  },
  {
   "cell_type": "code",
   "execution_count": 63,
   "id": "47b3d087-12ad-4c37-9873-ddd15bbce6ff",
   "metadata": {},
   "outputs": [],
   "source": [
    "from sklearn.metrics import classification_report,confusion_matrix,accuracy_score"
   ]
  },
  {
   "cell_type": "code",
   "execution_count": 64,
   "id": "08878149-3043-4506-85dc-e85a83353162",
   "metadata": {},
   "outputs": [
    {
     "name": "stdout",
     "output_type": "stream",
     "text": [
      "              precision    recall  f1-score   support\n",
      "\n",
      "           0       0.94      0.89      0.92       123\n",
      "           1       0.90      0.94      0.92       127\n",
      "\n",
      "    accuracy                           0.92       250\n",
      "   macro avg       0.92      0.92      0.92       250\n",
      "weighted avg       0.92      0.92      0.92       250\n",
      "\n",
      "[[110  13]\n",
      " [  7 120]]\n",
      "0.92\n"
     ]
    }
   ],
   "source": [
    "print(classification_report(y_test,y_pred))\n",
    "print(confusion_matrix(y_test,y_pred))\n",
    "print(accuracy_score(y_test,y_pred))\n"
   ]
  },
  {
   "cell_type": "markdown",
   "id": "b8aa5616-d936-4c79-93ec-4ff2299cccf7",
   "metadata": {},
   "source": [
    "## 91.2% Accuracy"
   ]
  },
  {
   "cell_type": "markdown",
   "id": "9c28e875-5a03-4500-a5f0-031e2adbf944",
   "metadata": {},
   "source": [
    "## Hyperparameter Tunning With SVC"
   ]
  },
  {
   "cell_type": "code",
   "execution_count": 80,
   "id": "c9435133-48f4-40a9-bf86-f2e7c0fc7b29",
   "metadata": {},
   "outputs": [],
   "source": [
    "from sklearn.model_selection import GridSearchCV\n",
    "\n",
    "#defining Parameter Range\n",
    "param_grid={\"C\":[0.1,1,10,100,1000],\n",
    "            \"gamma\":[1,0.1,0.01,0.001,0.0001],\n",
    "            \"kernel\":[\"linear\"]\n",
    "           }"
   ]
  },
  {
   "cell_type": "code",
   "execution_count": 81,
   "id": "bb44cecb-205c-4fe9-83f8-0573f3b3650d",
   "metadata": {},
   "outputs": [],
   "source": [
    "grid=GridSearchCV(SVC(),param_grid=param_grid,cv=5,verbose=3)\n",
    "#verbose gives the complete details about the cross validation and other things"
   ]
  },
  {
   "cell_type": "code",
   "execution_count": 82,
   "id": "b5b354b8-3cab-4653-ab98-db7432098c73",
   "metadata": {},
   "outputs": [
    {
     "name": "stdout",
     "output_type": "stream",
     "text": [
      "Fitting 5 folds for each of 25 candidates, totalling 125 fits\n",
      "[CV 1/5] END .....C=0.1, gamma=1, kernel=linear;, score=0.900 total time=   0.0s\n",
      "[CV 2/5] END .....C=0.1, gamma=1, kernel=linear;, score=0.840 total time=   0.0s\n",
      "[CV 3/5] END .....C=0.1, gamma=1, kernel=linear;, score=0.933 total time=   0.0s\n",
      "[CV 4/5] END .....C=0.1, gamma=1, kernel=linear;, score=0.947 total time=   0.0s\n",
      "[CV 5/5] END .....C=0.1, gamma=1, kernel=linear;, score=0.907 total time=   0.0s\n",
      "[CV 1/5] END ...C=0.1, gamma=0.1, kernel=linear;, score=0.900 total time=   0.0s\n",
      "[CV 2/5] END ...C=0.1, gamma=0.1, kernel=linear;, score=0.840 total time=   0.0s\n",
      "[CV 3/5] END ...C=0.1, gamma=0.1, kernel=linear;, score=0.933 total time=   0.0s\n",
      "[CV 4/5] END ...C=0.1, gamma=0.1, kernel=linear;, score=0.947 total time=   0.0s\n",
      "[CV 5/5] END ...C=0.1, gamma=0.1, kernel=linear;, score=0.907 total time=   0.0s\n",
      "[CV 1/5] END ..C=0.1, gamma=0.01, kernel=linear;, score=0.900 total time=   0.0s\n",
      "[CV 2/5] END ..C=0.1, gamma=0.01, kernel=linear;, score=0.840 total time=   0.0s\n",
      "[CV 3/5] END ..C=0.1, gamma=0.01, kernel=linear;, score=0.933 total time=   0.0s\n",
      "[CV 4/5] END ..C=0.1, gamma=0.01, kernel=linear;, score=0.947 total time=   0.0s\n",
      "[CV 5/5] END ..C=0.1, gamma=0.01, kernel=linear;, score=0.907 total time=   0.0s\n",
      "[CV 1/5] END .C=0.1, gamma=0.001, kernel=linear;, score=0.900 total time=   0.0s\n",
      "[CV 2/5] END .C=0.1, gamma=0.001, kernel=linear;, score=0.840 total time=   0.0s\n",
      "[CV 3/5] END .C=0.1, gamma=0.001, kernel=linear;, score=0.933 total time=   0.0s\n",
      "[CV 4/5] END .C=0.1, gamma=0.001, kernel=linear;, score=0.947 total time=   0.0s\n",
      "[CV 5/5] END .C=0.1, gamma=0.001, kernel=linear;, score=0.907 total time=   0.0s\n",
      "[CV 1/5] END C=0.1, gamma=0.0001, kernel=linear;, score=0.900 total time=   0.0s\n",
      "[CV 2/5] END C=0.1, gamma=0.0001, kernel=linear;, score=0.840 total time=   0.0s\n",
      "[CV 3/5] END C=0.1, gamma=0.0001, kernel=linear;, score=0.933 total time=   0.0s\n",
      "[CV 4/5] END C=0.1, gamma=0.0001, kernel=linear;, score=0.947 total time=   0.0s\n",
      "[CV 5/5] END C=0.1, gamma=0.0001, kernel=linear;, score=0.907 total time=   0.0s\n",
      "[CV 1/5] END .......C=1, gamma=1, kernel=linear;, score=0.900 total time=   0.0s\n",
      "[CV 2/5] END .......C=1, gamma=1, kernel=linear;, score=0.847 total time=   0.0s\n",
      "[CV 3/5] END .......C=1, gamma=1, kernel=linear;, score=0.940 total time=   0.0s\n",
      "[CV 4/5] END .......C=1, gamma=1, kernel=linear;, score=0.940 total time=   0.0s\n",
      "[CV 5/5] END .......C=1, gamma=1, kernel=linear;, score=0.913 total time=   0.0s\n",
      "[CV 1/5] END .....C=1, gamma=0.1, kernel=linear;, score=0.900 total time=   0.0s\n",
      "[CV 2/5] END .....C=1, gamma=0.1, kernel=linear;, score=0.847 total time=   0.0s\n",
      "[CV 3/5] END .....C=1, gamma=0.1, kernel=linear;, score=0.940 total time=   0.0s\n",
      "[CV 4/5] END .....C=1, gamma=0.1, kernel=linear;, score=0.940 total time=   0.0s\n",
      "[CV 5/5] END .....C=1, gamma=0.1, kernel=linear;, score=0.913 total time=   0.0s\n",
      "[CV 1/5] END ....C=1, gamma=0.01, kernel=linear;, score=0.900 total time=   0.0s\n",
      "[CV 2/5] END ....C=1, gamma=0.01, kernel=linear;, score=0.847 total time=   0.0s\n",
      "[CV 3/5] END ....C=1, gamma=0.01, kernel=linear;, score=0.940 total time=   0.0s\n",
      "[CV 4/5] END ....C=1, gamma=0.01, kernel=linear;, score=0.940 total time=   0.0s\n",
      "[CV 5/5] END ....C=1, gamma=0.01, kernel=linear;, score=0.913 total time=   0.0s\n",
      "[CV 1/5] END ...C=1, gamma=0.001, kernel=linear;, score=0.900 total time=   0.0s\n",
      "[CV 2/5] END ...C=1, gamma=0.001, kernel=linear;, score=0.847 total time=   0.0s\n",
      "[CV 3/5] END ...C=1, gamma=0.001, kernel=linear;, score=0.940 total time=   0.0s\n",
      "[CV 4/5] END ...C=1, gamma=0.001, kernel=linear;, score=0.940 total time=   0.0s\n",
      "[CV 5/5] END ...C=1, gamma=0.001, kernel=linear;, score=0.913 total time=   0.0s\n",
      "[CV 1/5] END ..C=1, gamma=0.0001, kernel=linear;, score=0.900 total time=   0.0s\n",
      "[CV 2/5] END ..C=1, gamma=0.0001, kernel=linear;, score=0.847 total time=   0.0s\n",
      "[CV 3/5] END ..C=1, gamma=0.0001, kernel=linear;, score=0.940 total time=   0.0s\n",
      "[CV 4/5] END ..C=1, gamma=0.0001, kernel=linear;, score=0.940 total time=   0.0s\n",
      "[CV 5/5] END ..C=1, gamma=0.0001, kernel=linear;, score=0.913 total time=   0.0s\n",
      "[CV 1/5] END ......C=10, gamma=1, kernel=linear;, score=0.900 total time=   0.0s\n",
      "[CV 2/5] END ......C=10, gamma=1, kernel=linear;, score=0.847 total time=   0.0s\n",
      "[CV 3/5] END ......C=10, gamma=1, kernel=linear;, score=0.940 total time=   0.0s\n",
      "[CV 4/5] END ......C=10, gamma=1, kernel=linear;, score=0.940 total time=   0.0s\n",
      "[CV 5/5] END ......C=10, gamma=1, kernel=linear;, score=0.907 total time=   0.0s\n",
      "[CV 1/5] END ....C=10, gamma=0.1, kernel=linear;, score=0.900 total time=   0.0s\n",
      "[CV 2/5] END ....C=10, gamma=0.1, kernel=linear;, score=0.847 total time=   0.0s\n",
      "[CV 3/5] END ....C=10, gamma=0.1, kernel=linear;, score=0.940 total time=   0.0s\n",
      "[CV 4/5] END ....C=10, gamma=0.1, kernel=linear;, score=0.940 total time=   0.0s\n",
      "[CV 5/5] END ....C=10, gamma=0.1, kernel=linear;, score=0.907 total time=   0.0s\n",
      "[CV 1/5] END ...C=10, gamma=0.01, kernel=linear;, score=0.900 total time=   0.0s\n",
      "[CV 2/5] END ...C=10, gamma=0.01, kernel=linear;, score=0.847 total time=   0.0s\n",
      "[CV 3/5] END ...C=10, gamma=0.01, kernel=linear;, score=0.940 total time=   0.0s\n",
      "[CV 4/5] END ...C=10, gamma=0.01, kernel=linear;, score=0.940 total time=   0.0s\n",
      "[CV 5/5] END ...C=10, gamma=0.01, kernel=linear;, score=0.907 total time=   0.0s\n",
      "[CV 1/5] END ..C=10, gamma=0.001, kernel=linear;, score=0.900 total time=   0.0s\n",
      "[CV 2/5] END ..C=10, gamma=0.001, kernel=linear;, score=0.847 total time=   0.0s\n",
      "[CV 3/5] END ..C=10, gamma=0.001, kernel=linear;, score=0.940 total time=   0.0s\n",
      "[CV 4/5] END ..C=10, gamma=0.001, kernel=linear;, score=0.940 total time=   0.0s\n",
      "[CV 5/5] END ..C=10, gamma=0.001, kernel=linear;, score=0.907 total time=   0.0s\n",
      "[CV 1/5] END .C=10, gamma=0.0001, kernel=linear;, score=0.900 total time=   0.0s\n",
      "[CV 2/5] END .C=10, gamma=0.0001, kernel=linear;, score=0.847 total time=   0.0s\n",
      "[CV 3/5] END .C=10, gamma=0.0001, kernel=linear;, score=0.940 total time=   0.0s\n",
      "[CV 4/5] END .C=10, gamma=0.0001, kernel=linear;, score=0.940 total time=   0.0s\n",
      "[CV 5/5] END .C=10, gamma=0.0001, kernel=linear;, score=0.907 total time=   0.0s\n",
      "[CV 1/5] END .....C=100, gamma=1, kernel=linear;, score=0.900 total time=   0.0s\n",
      "[CV 2/5] END .....C=100, gamma=1, kernel=linear;, score=0.847 total time=   0.0s\n",
      "[CV 3/5] END .....C=100, gamma=1, kernel=linear;, score=0.940 total time=   0.0s\n",
      "[CV 4/5] END .....C=100, gamma=1, kernel=linear;, score=0.940 total time=   0.0s\n",
      "[CV 5/5] END .....C=100, gamma=1, kernel=linear;, score=0.907 total time=   0.0s\n",
      "[CV 1/5] END ...C=100, gamma=0.1, kernel=linear;, score=0.900 total time=   0.0s\n",
      "[CV 2/5] END ...C=100, gamma=0.1, kernel=linear;, score=0.847 total time=   0.0s\n",
      "[CV 3/5] END ...C=100, gamma=0.1, kernel=linear;, score=0.940 total time=   0.0s\n",
      "[CV 4/5] END ...C=100, gamma=0.1, kernel=linear;, score=0.940 total time=   0.0s\n",
      "[CV 5/5] END ...C=100, gamma=0.1, kernel=linear;, score=0.907 total time=   0.0s\n",
      "[CV 1/5] END ..C=100, gamma=0.01, kernel=linear;, score=0.900 total time=   0.0s\n",
      "[CV 2/5] END ..C=100, gamma=0.01, kernel=linear;, score=0.847 total time=   0.0s\n",
      "[CV 3/5] END ..C=100, gamma=0.01, kernel=linear;, score=0.940 total time=   0.0s\n",
      "[CV 4/5] END ..C=100, gamma=0.01, kernel=linear;, score=0.940 total time=   0.0s\n",
      "[CV 5/5] END ..C=100, gamma=0.01, kernel=linear;, score=0.907 total time=   0.0s\n",
      "[CV 1/5] END .C=100, gamma=0.001, kernel=linear;, score=0.900 total time=   0.0s\n",
      "[CV 2/5] END .C=100, gamma=0.001, kernel=linear;, score=0.847 total time=   0.0s\n",
      "[CV 3/5] END .C=100, gamma=0.001, kernel=linear;, score=0.940 total time=   0.0s\n",
      "[CV 4/5] END .C=100, gamma=0.001, kernel=linear;, score=0.940 total time=   0.1s\n",
      "[CV 5/5] END .C=100, gamma=0.001, kernel=linear;, score=0.907 total time=   0.0s\n",
      "[CV 1/5] END C=100, gamma=0.0001, kernel=linear;, score=0.900 total time=   0.0s\n",
      "[CV 2/5] END C=100, gamma=0.0001, kernel=linear;, score=0.847 total time=   0.0s\n",
      "[CV 3/5] END C=100, gamma=0.0001, kernel=linear;, score=0.940 total time=   0.0s\n",
      "[CV 4/5] END C=100, gamma=0.0001, kernel=linear;, score=0.940 total time=   0.0s\n",
      "[CV 5/5] END C=100, gamma=0.0001, kernel=linear;, score=0.907 total time=   0.0s\n",
      "[CV 1/5] END ....C=1000, gamma=1, kernel=linear;, score=0.900 total time=   0.2s\n",
      "[CV 2/5] END ....C=1000, gamma=1, kernel=linear;, score=0.847 total time=   0.9s\n",
      "[CV 3/5] END ....C=1000, gamma=1, kernel=linear;, score=0.940 total time=   0.3s\n",
      "[CV 4/5] END ....C=1000, gamma=1, kernel=linear;, score=0.940 total time=   0.3s\n",
      "[CV 5/5] END ....C=1000, gamma=1, kernel=linear;, score=0.907 total time=   0.2s\n",
      "[CV 1/5] END ..C=1000, gamma=0.1, kernel=linear;, score=0.900 total time=   0.2s\n",
      "[CV 2/5] END ..C=1000, gamma=0.1, kernel=linear;, score=0.847 total time=   0.9s\n",
      "[CV 3/5] END ..C=1000, gamma=0.1, kernel=linear;, score=0.940 total time=   0.3s\n",
      "[CV 4/5] END ..C=1000, gamma=0.1, kernel=linear;, score=0.940 total time=   0.3s\n",
      "[CV 5/5] END ..C=1000, gamma=0.1, kernel=linear;, score=0.907 total time=   0.2s\n",
      "[CV 1/5] END .C=1000, gamma=0.01, kernel=linear;, score=0.900 total time=   0.2s\n",
      "[CV 2/5] END .C=1000, gamma=0.01, kernel=linear;, score=0.847 total time=   0.9s\n",
      "[CV 3/5] END .C=1000, gamma=0.01, kernel=linear;, score=0.940 total time=   0.3s\n",
      "[CV 4/5] END .C=1000, gamma=0.01, kernel=linear;, score=0.940 total time=   0.3s\n",
      "[CV 5/5] END .C=1000, gamma=0.01, kernel=linear;, score=0.907 total time=   0.2s\n",
      "[CV 1/5] END C=1000, gamma=0.001, kernel=linear;, score=0.900 total time=   0.2s\n",
      "[CV 2/5] END C=1000, gamma=0.001, kernel=linear;, score=0.847 total time=   0.9s\n",
      "[CV 3/5] END C=1000, gamma=0.001, kernel=linear;, score=0.940 total time=   0.3s\n",
      "[CV 4/5] END C=1000, gamma=0.001, kernel=linear;, score=0.940 total time=   0.3s\n",
      "[CV 5/5] END C=1000, gamma=0.001, kernel=linear;, score=0.907 total time=   0.2s\n",
      "[CV 1/5] END C=1000, gamma=0.0001, kernel=linear;, score=0.900 total time=   0.2s\n",
      "[CV 2/5] END C=1000, gamma=0.0001, kernel=linear;, score=0.847 total time=   0.9s\n",
      "[CV 3/5] END C=1000, gamma=0.0001, kernel=linear;, score=0.940 total time=   0.3s\n",
      "[CV 4/5] END C=1000, gamma=0.0001, kernel=linear;, score=0.940 total time=   0.3s\n",
      "[CV 5/5] END C=1000, gamma=0.0001, kernel=linear;, score=0.907 total time=   0.2s\n"
     ]
    },
    {
     "data": {
      "text/html": [
       "<style>#sk-container-id-7 {color: black;background-color: white;}#sk-container-id-7 pre{padding: 0;}#sk-container-id-7 div.sk-toggleable {background-color: white;}#sk-container-id-7 label.sk-toggleable__label {cursor: pointer;display: block;width: 100%;margin-bottom: 0;padding: 0.3em;box-sizing: border-box;text-align: center;}#sk-container-id-7 label.sk-toggleable__label-arrow:before {content: \"▸\";float: left;margin-right: 0.25em;color: #696969;}#sk-container-id-7 label.sk-toggleable__label-arrow:hover:before {color: black;}#sk-container-id-7 div.sk-estimator:hover label.sk-toggleable__label-arrow:before {color: black;}#sk-container-id-7 div.sk-toggleable__content {max-height: 0;max-width: 0;overflow: hidden;text-align: left;background-color: #f0f8ff;}#sk-container-id-7 div.sk-toggleable__content pre {margin: 0.2em;color: black;border-radius: 0.25em;background-color: #f0f8ff;}#sk-container-id-7 input.sk-toggleable__control:checked~div.sk-toggleable__content {max-height: 200px;max-width: 100%;overflow: auto;}#sk-container-id-7 input.sk-toggleable__control:checked~label.sk-toggleable__label-arrow:before {content: \"▾\";}#sk-container-id-7 div.sk-estimator input.sk-toggleable__control:checked~label.sk-toggleable__label {background-color: #d4ebff;}#sk-container-id-7 div.sk-label input.sk-toggleable__control:checked~label.sk-toggleable__label {background-color: #d4ebff;}#sk-container-id-7 input.sk-hidden--visually {border: 0;clip: rect(1px 1px 1px 1px);clip: rect(1px, 1px, 1px, 1px);height: 1px;margin: -1px;overflow: hidden;padding: 0;position: absolute;width: 1px;}#sk-container-id-7 div.sk-estimator {font-family: monospace;background-color: #f0f8ff;border: 1px dotted black;border-radius: 0.25em;box-sizing: border-box;margin-bottom: 0.5em;}#sk-container-id-7 div.sk-estimator:hover {background-color: #d4ebff;}#sk-container-id-7 div.sk-parallel-item::after {content: \"\";width: 100%;border-bottom: 1px solid gray;flex-grow: 1;}#sk-container-id-7 div.sk-label:hover label.sk-toggleable__label {background-color: #d4ebff;}#sk-container-id-7 div.sk-serial::before {content: \"\";position: absolute;border-left: 1px solid gray;box-sizing: border-box;top: 0;bottom: 0;left: 50%;z-index: 0;}#sk-container-id-7 div.sk-serial {display: flex;flex-direction: column;align-items: center;background-color: white;padding-right: 0.2em;padding-left: 0.2em;position: relative;}#sk-container-id-7 div.sk-item {position: relative;z-index: 1;}#sk-container-id-7 div.sk-parallel {display: flex;align-items: stretch;justify-content: center;background-color: white;position: relative;}#sk-container-id-7 div.sk-item::before, #sk-container-id-7 div.sk-parallel-item::before {content: \"\";position: absolute;border-left: 1px solid gray;box-sizing: border-box;top: 0;bottom: 0;left: 50%;z-index: -1;}#sk-container-id-7 div.sk-parallel-item {display: flex;flex-direction: column;z-index: 1;position: relative;background-color: white;}#sk-container-id-7 div.sk-parallel-item:first-child::after {align-self: flex-end;width: 50%;}#sk-container-id-7 div.sk-parallel-item:last-child::after {align-self: flex-start;width: 50%;}#sk-container-id-7 div.sk-parallel-item:only-child::after {width: 0;}#sk-container-id-7 div.sk-dashed-wrapped {border: 1px dashed gray;margin: 0 0.4em 0.5em 0.4em;box-sizing: border-box;padding-bottom: 0.4em;background-color: white;}#sk-container-id-7 div.sk-label label {font-family: monospace;font-weight: bold;display: inline-block;line-height: 1.2em;}#sk-container-id-7 div.sk-label-container {text-align: center;}#sk-container-id-7 div.sk-container {/* jupyter's `normalize.less` sets `[hidden] { display: none; }` but bootstrap.min.css set `[hidden] { display: none !important; }` so we also need the `!important` here to be able to override the default hidden behavior on the sphinx rendered scikit-learn.org. See: https://github.com/scikit-learn/scikit-learn/issues/21755 */display: inline-block !important;position: relative;}#sk-container-id-7 div.sk-text-repr-fallback {display: none;}</style><div id=\"sk-container-id-7\" class=\"sk-top-container\"><div class=\"sk-text-repr-fallback\"><pre>GridSearchCV(cv=5, estimator=SVC(),\n",
       "             param_grid={&#x27;C&#x27;: [0.1, 1, 10, 100, 1000],\n",
       "                         &#x27;gamma&#x27;: [1, 0.1, 0.01, 0.001, 0.0001],\n",
       "                         &#x27;kernel&#x27;: [&#x27;linear&#x27;]},\n",
       "             verbose=3)</pre><b>In a Jupyter environment, please rerun this cell to show the HTML representation or trust the notebook. <br />On GitHub, the HTML representation is unable to render, please try loading this page with nbviewer.org.</b></div><div class=\"sk-container\" hidden><div class=\"sk-item sk-dashed-wrapped\"><div class=\"sk-label-container\"><div class=\"sk-label sk-toggleable\"><input class=\"sk-toggleable__control sk-hidden--visually\" id=\"sk-estimator-id-17\" type=\"checkbox\" ><label for=\"sk-estimator-id-17\" class=\"sk-toggleable__label sk-toggleable__label-arrow\">GridSearchCV</label><div class=\"sk-toggleable__content\"><pre>GridSearchCV(cv=5, estimator=SVC(),\n",
       "             param_grid={&#x27;C&#x27;: [0.1, 1, 10, 100, 1000],\n",
       "                         &#x27;gamma&#x27;: [1, 0.1, 0.01, 0.001, 0.0001],\n",
       "                         &#x27;kernel&#x27;: [&#x27;linear&#x27;]},\n",
       "             verbose=3)</pre></div></div></div><div class=\"sk-parallel\"><div class=\"sk-parallel-item\"><div class=\"sk-item\"><div class=\"sk-label-container\"><div class=\"sk-label sk-toggleable\"><input class=\"sk-toggleable__control sk-hidden--visually\" id=\"sk-estimator-id-18\" type=\"checkbox\" ><label for=\"sk-estimator-id-18\" class=\"sk-toggleable__label sk-toggleable__label-arrow\">estimator: SVC</label><div class=\"sk-toggleable__content\"><pre>SVC()</pre></div></div></div><div class=\"sk-serial\"><div class=\"sk-item\"><div class=\"sk-estimator sk-toggleable\"><input class=\"sk-toggleable__control sk-hidden--visually\" id=\"sk-estimator-id-19\" type=\"checkbox\" ><label for=\"sk-estimator-id-19\" class=\"sk-toggleable__label sk-toggleable__label-arrow\">SVC</label><div class=\"sk-toggleable__content\"><pre>SVC()</pre></div></div></div></div></div></div></div></div></div></div>"
      ],
      "text/plain": [
       "GridSearchCV(cv=5, estimator=SVC(),\n",
       "             param_grid={'C': [0.1, 1, 10, 100, 1000],\n",
       "                         'gamma': [1, 0.1, 0.01, 0.001, 0.0001],\n",
       "                         'kernel': ['linear']},\n",
       "             verbose=3)"
      ]
     },
     "execution_count": 82,
     "metadata": {},
     "output_type": "execute_result"
    }
   ],
   "source": [
    "grid.fit(x_train,y_train)\n",
    "# verbose is giving details of the cross validation"
   ]
  },
  {
   "cell_type": "code",
   "execution_count": 83,
   "id": "01939fa3-195d-478e-93e0-1c2985c424d3",
   "metadata": {},
   "outputs": [
    {
     "data": {
      "text/plain": [
       "{'C': 1, 'gamma': 1, 'kernel': 'linear'}"
      ]
     },
     "execution_count": 83,
     "metadata": {},
     "output_type": "execute_result"
    }
   ],
   "source": [
    "grid.best_params_"
   ]
  },
  {
   "cell_type": "code",
   "execution_count": 84,
   "id": "f6de5aa4-061f-48a3-b1aa-dae3cda4d694",
   "metadata": {},
   "outputs": [
    {
     "name": "stdout",
     "output_type": "stream",
     "text": [
      "              precision    recall  f1-score   support\n",
      "\n",
      "           0       0.94      0.89      0.92       123\n",
      "           1       0.90      0.94      0.92       127\n",
      "\n",
      "    accuracy                           0.92       250\n",
      "   macro avg       0.92      0.92      0.92       250\n",
      "weighted avg       0.92      0.92      0.92       250\n",
      "\n",
      "[[110  13]\n",
      " [  7 120]]\n",
      "0.92\n"
     ]
    }
   ],
   "source": [
    "## Prediction\n",
    "y_pred4=grid.predict(x_test)\n",
    "print(classification_report(y_test,y_pred4))\n",
    "print(confusion_matrix(y_test,y_pred4))\n",
    "print(accuracy_score(y_test,y_pred4))\n"
   ]
  },
  {
   "cell_type": "markdown",
   "id": "8ddc157c-ff77-486f-ac05-fe03765aae61",
   "metadata": {},
   "source": [
    "## Support Vector Regression"
   ]
  },
  {
   "cell_type": "code",
   "execution_count": 85,
   "id": "0b638f0f-b5b4-4a6c-a1ae-74a5a3ae7e33",
   "metadata": {},
   "outputs": [],
   "source": [
    "## Import some nessasry libraries\n",
    "import pandas as pd\n",
    "import numpy as np\n",
    "import matplotlib.pyplot as plt\n",
    "import seaborn as sns"
   ]
  },
  {
   "cell_type": "code",
   "execution_count": 86,
   "id": "bf2e510a-57ac-43f3-af2b-e452c58f97a7",
   "metadata": {},
   "outputs": [],
   "source": [
    "#lets create synthetic data points\n",
    "from sklearn.datasets import make_regression"
   ]
  },
  {
   "cell_type": "code",
   "execution_count": 87,
   "id": "0e5bce47-9fe5-47d7-a19c-8530e4062e2d",
   "metadata": {},
   "outputs": [],
   "source": [
    "x,y=make_regression(n_samples=1000,n_features=2,n_targets=1,noise=3.0)"
   ]
  },
  {
   "cell_type": "code",
   "execution_count": 90,
   "id": "1f270d3f-3c3b-4e33-8f2f-f75915764af9",
   "metadata": {},
   "outputs": [
    {
     "data": {
      "text/plain": [
       "(1000, 2)"
      ]
     },
     "execution_count": 90,
     "metadata": {},
     "output_type": "execute_result"
    }
   ],
   "source": [
    "x.shape"
   ]
  },
  {
   "cell_type": "code",
   "execution_count": 91,
   "id": "fe1c1b6e-dc66-4e37-9868-f13f3808419b",
   "metadata": {},
   "outputs": [
    {
     "data": {
      "text/plain": [
       "(1000,)"
      ]
     },
     "execution_count": 91,
     "metadata": {},
     "output_type": "execute_result"
    }
   ],
   "source": [
    "y.shape"
   ]
  },
  {
   "cell_type": "code",
   "execution_count": 92,
   "id": "26950b66-dfd5-4d6c-adff-bc6aadef84f8",
   "metadata": {},
   "outputs": [
    {
     "data": {
      "text/plain": [
       "0     -1.901264\n",
       "1      0.407209\n",
       "2     -0.318018\n",
       "3     -0.522987\n",
       "4     -0.374251\n",
       "         ...   \n",
       "995    0.992075\n",
       "996   -0.839273\n",
       "997    1.661009\n",
       "998    0.813324\n",
       "999   -0.904406\n",
       "Name: 0, Length: 1000, dtype: float64"
      ]
     },
     "execution_count": 92,
     "metadata": {},
     "output_type": "execute_result"
    }
   ],
   "source": [
    "pd.DataFrame(x)[0]"
   ]
  },
  {
   "cell_type": "code",
   "execution_count": 96,
   "id": "2ec1bb8f-b998-49bf-a8d6-f653617df7de",
   "metadata": {},
   "outputs": [
    {
     "data": {
      "text/plain": [
       "<AxesSubplot: xlabel='0', ylabel='1'>"
      ]
     },
     "execution_count": 96,
     "metadata": {},
     "output_type": "execute_result"
    },
    {
     "data": {
      "image/png": "[encoded data removed]",
      "text/plain": [
       "<Figure size 640x480 with 1 Axes>"
      ]
     },
     "metadata": {},
     "output_type": "display_data"
    }
   ],
   "source": [
    "sns.scatterplot(x=pd.DataFrame(x)[0],y=pd.DataFrame(x)[1],hue=y)"
   ]
  },
  {
   "cell_type": "code",
   "execution_count": 97,
   "id": "5ff83bf3-05cd-4542-8ff9-e4b9ab6b02e4",
   "metadata": {},
   "outputs": [],
   "source": [
    "from sklearn.model_selection import train_test_split\n",
    "x_train,x_test,y_train,y_test=train_test_split(x,y,test_size=0.25,random_state=10)"
   ]
  },
  {
   "cell_type": "code",
   "execution_count": 98,
   "id": "f86407f2-25fb-4e64-bc40-41817524d009",
   "metadata": {},
   "outputs": [],
   "source": [
    "from sklearn.svm import SVR"
   ]
  },
  {
   "cell_type": "code",
   "execution_count": 99,
   "id": "1b41a830-e87e-46be-8958-e10aa406d267",
   "metadata": {},
   "outputs": [],
   "source": [
    "svr=SVR(kernel=\"linear\")"
   ]
  },
  {
   "cell_type": "code",
   "execution_count": 100,
   "id": "ca679667-6f30-4497-bd44-92ccc7402f82",
   "metadata": {},
   "outputs": [
    {
     "data": {
      "text/html": [
       "<style>#sk-container-id-8 {color: black;background-color: white;}#sk-container-id-8 pre{padding: 0;}#sk-container-id-8 div.sk-toggleable {background-color: white;}#sk-container-id-8 label.sk-toggleable__label {cursor: pointer;display: block;width: 100%;margin-bottom: 0;padding: 0.3em;box-sizing: border-box;text-align: center;}#sk-container-id-8 label.sk-toggleable__label-arrow:before {content: \"▸\";float: left;margin-right: 0.25em;color: #696969;}#sk-container-id-8 label.sk-toggleable__label-arrow:hover:before {color: black;}#sk-container-id-8 div.sk-estimator:hover label.sk-toggleable__label-arrow:before {color: black;}#sk-container-id-8 div.sk-toggleable__content {max-height: 0;max-width: 0;overflow: hidden;text-align: left;background-color: #f0f8ff;}#sk-container-id-8 div.sk-toggleable__content pre {margin: 0.2em;color: black;border-radius: 0.25em;background-color: #f0f8ff;}#sk-container-id-8 input.sk-toggleable__control:checked~div.sk-toggleable__content {max-height: 200px;max-width: 100%;overflow: auto;}#sk-container-id-8 input.sk-toggleable__control:checked~label.sk-toggleable__label-arrow:before {content: \"▾\";}#sk-container-id-8 div.sk-estimator input.sk-toggleable__control:checked~label.sk-toggleable__label {background-color: #d4ebff;}#sk-container-id-8 div.sk-label input.sk-toggleable__control:checked~label.sk-toggleable__label {background-color: #d4ebff;}#sk-container-id-8 input.sk-hidden--visually {border: 0;clip: rect(1px 1px 1px 1px);clip: rect(1px, 1px, 1px, 1px);height: 1px;margin: -1px;overflow: hidden;padding: 0;position: absolute;width: 1px;}#sk-container-id-8 div.sk-estimator {font-family: monospace;background-color: #f0f8ff;border: 1px dotted black;border-radius: 0.25em;box-sizing: border-box;margin-bottom: 0.5em;}#sk-container-id-8 div.sk-estimator:hover {background-color: #d4ebff;}#sk-container-id-8 div.sk-parallel-item::after {content: \"\";width: 100%;border-bottom: 1px solid gray;flex-grow: 1;}#sk-container-id-8 div.sk-label:hover label.sk-toggleable__label {background-color: #d4ebff;}#sk-container-id-8 div.sk-serial::before {content: \"\";position: absolute;border-left: 1px solid gray;box-sizing: border-box;top: 0;bottom: 0;left: 50%;z-index: 0;}#sk-container-id-8 div.sk-serial {display: flex;flex-direction: column;align-items: center;background-color: white;padding-right: 0.2em;padding-left: 0.2em;position: relative;}#sk-container-id-8 div.sk-item {position: relative;z-index: 1;}#sk-container-id-8 div.sk-parallel {display: flex;align-items: stretch;justify-content: center;background-color: white;position: relative;}#sk-container-id-8 div.sk-item::before, #sk-container-id-8 div.sk-parallel-item::before {content: \"\";position: absolute;border-left: 1px solid gray;box-sizing: border-box;top: 0;bottom: 0;left: 50%;z-index: -1;}#sk-container-id-8 div.sk-parallel-item {display: flex;flex-direction: column;z-index: 1;position: relative;background-color: white;}#sk-container-id-8 div.sk-parallel-item:first-child::after {align-self: flex-end;width: 50%;}#sk-container-id-8 div.sk-parallel-item:last-child::after {align-self: flex-start;width: 50%;}#sk-container-id-8 div.sk-parallel-item:only-child::after {width: 0;}#sk-container-id-8 div.sk-dashed-wrapped {border: 1px dashed gray;margin: 0 0.4em 0.5em 0.4em;box-sizing: border-box;padding-bottom: 0.4em;background-color: white;}#sk-container-id-8 div.sk-label label {font-family: monospace;font-weight: bold;display: inline-block;line-height: 1.2em;}#sk-container-id-8 div.sk-label-container {text-align: center;}#sk-container-id-8 div.sk-container {/* jupyter's `normalize.less` sets `[hidden] { display: none; }` but bootstrap.min.css set `[hidden] { display: none !important; }` so we also need the `!important` here to be able to override the default hidden behavior on the sphinx rendered scikit-learn.org. See: https://github.com/scikit-learn/scikit-learn/issues/21755 */display: inline-block !important;position: relative;}#sk-container-id-8 div.sk-text-repr-fallback {display: none;}</style><div id=\"sk-container-id-8\" class=\"sk-top-container\"><div class=\"sk-text-repr-fallback\"><pre>SVR(kernel=&#x27;linear&#x27;)</pre><b>In a Jupyter environment, please rerun this cell to show the HTML representation or trust the notebook. <br />On GitHub, the HTML representation is unable to render, please try loading this page with nbviewer.org.</b></div><div class=\"sk-container\" hidden><div class=\"sk-item\"><div class=\"sk-estimator sk-toggleable\"><input class=\"sk-toggleable__control sk-hidden--visually\" id=\"sk-estimator-id-20\" type=\"checkbox\" checked><label for=\"sk-estimator-id-20\" class=\"sk-toggleable__label sk-toggleable__label-arrow\">SVR</label><div class=\"sk-toggleable__content\"><pre>SVR(kernel=&#x27;linear&#x27;)</pre></div></div></div></div></div>"
      ],
      "text/plain": [
       "SVR(kernel='linear')"
      ]
     },
     "execution_count": 100,
     "metadata": {},
     "output_type": "execute_result"
    }
   ],
   "source": [
    "svr.fit(x_train,y_train)"
   ]
  },
  {
   "cell_type": "code",
   "execution_count": 101,
   "id": "454431d5-61e3-45c9-aeea-593e0a881f37",
   "metadata": {},
   "outputs": [
    {
     "data": {
      "text/plain": [
       "array([[ 2.49467544, 62.12475041]])"
      ]
     },
     "execution_count": 101,
     "metadata": {},
     "output_type": "execute_result"
    }
   ],
   "source": [
    "svr.coef_"
   ]
  },
  {
   "cell_type": "code",
   "execution_count": 102,
   "id": "848d33ca-8fc4-4c74-a251-22547e929826",
   "metadata": {},
   "outputs": [],
   "source": [
    "#Prediction\n",
    "y_pred=svr.predict(x_test)"
   ]
  },
  {
   "cell_type": "code",
   "execution_count": 103,
   "id": "0bf7ed00-4bba-4393-bf63-b37410fb6dca",
   "metadata": {},
   "outputs": [
    {
     "data": {
      "text/plain": [
       "array([-3.67906051e+01, -2.50248366e-01, -5.15571840e+01,  4.91519595e+01,\n",
       "        3.56382602e+01,  3.55772001e+00, -5.29372516e+01,  7.22782331e+01,\n",
       "        1.33681661e+01, -1.54773667e+02, -4.56343609e+01, -2.08407816e+01,\n",
       "        1.50054979e+01, -6.33004343e+01,  2.82220110e+01,  1.47106793e+01,\n",
       "        3.01155977e+01, -3.99883819e+01, -2.08982101e+01, -2.53122456e+01,\n",
       "        3.57510336e+01, -6.36925225e+01,  2.67504967e+01, -4.10669155e+00,\n",
       "        4.13789017e+01, -3.45959455e+01,  1.08839228e+02,  5.20546335e+01,\n",
       "        8.32923102e+01, -1.49427440e-01, -3.04389267e+01,  4.27226422e+01,\n",
       "       -3.32167584e+01, -1.24708299e+01, -7.73830805e+01, -5.88697692e+01,\n",
       "        1.10560686e+02, -1.20679323e+01, -1.04903908e+02, -3.90255967e+01,\n",
       "        6.56075735e+01,  5.75036788e+01, -1.94152481e+01, -3.28229737e+01,\n",
       "        1.02385641e+02,  1.03255310e+02,  2.56177416e+01, -1.44810067e+02,\n",
       "       -1.95423237e+01, -1.94748114e+01,  3.43551039e+01, -1.14981555e+02,\n",
       "        5.07055193e+01, -3.50982207e+01, -4.98931052e+00,  9.60037616e+00,\n",
       "       -3.12698940e+01,  1.29636290e+01,  3.69029307e+01, -4.04766561e+01,\n",
       "        1.52658200e+01,  5.79895993e+00, -1.44032970e+01, -4.02611140e+00,\n",
       "       -6.46734590e+01,  3.52712239e+01, -1.03320794e+02,  3.75731006e+01,\n",
       "        1.10477075e+02, -1.07676188e+01, -5.38844109e+01, -5.70751668e+00,\n",
       "       -3.13170514e+00, -5.16818393e+01,  3.90788853e+01, -3.36851421e+01,\n",
       "        1.62098541e+01,  2.16300715e+01,  6.67053601e+01,  2.97679570e+01,\n",
       "        1.09817936e+01,  1.75160935e+00,  1.99813626e+01,  6.36789278e+01,\n",
       "        2.86283400e+00, -6.07579806e+01, -1.20479716e+01, -3.05304759e+01,\n",
       "       -4.18632846e+01, -3.32749128e+00,  5.56855266e+01,  2.55155289e+01,\n",
       "       -1.10168637e+02, -1.82362865e+01, -6.57266729e+01, -8.30315413e+01,\n",
       "        1.57871093e+02, -2.72429264e+01, -3.85525618e+01,  1.17076141e+02,\n",
       "        3.16560245e+01, -7.59051811e+01, -2.56567906e+01, -1.71487805e+01,\n",
       "       -2.02938290e+00, -2.00833399e+01,  1.52597939e+02,  1.79818623e+02,\n",
       "       -8.53885295e+01,  2.82659572e+01, -3.72967312e+01,  3.87698539e+00,\n",
       "        4.87048296e+00, -1.23125325e+01,  2.93352667e+01,  4.13801982e+01,\n",
       "        6.68189436e+01, -4.01039209e+01, -6.77434689e+01, -3.04131667e+00,\n",
       "       -1.59067858e+01,  5.50946760e+01,  3.52637549e+01, -3.61755622e+01,\n",
       "       -9.28745237e+00,  4.04921372e+01,  1.33880610e+01,  2.21182700e+00,\n",
       "        2.27236707e+01,  5.76377709e+01, -1.48584479e+02,  1.74541555e+01,\n",
       "       -2.76927948e+01,  3.84465495e+01,  3.23617349e+01, -4.39185541e+01,\n",
       "       -3.50179233e+01,  4.40173283e+00, -1.09025663e+01, -1.29355244e+02,\n",
       "       -8.84899155e+01,  1.92908757e+01, -1.79877862e+01,  4.76367242e+01,\n",
       "       -6.10428626e+01,  5.35714382e+01,  2.17413051e-01,  1.86432757e+01,\n",
       "       -1.74653579e+01, -1.62851889e+01,  3.75035572e+01, -6.79277058e+00,\n",
       "       -7.10539962e+01,  3.62615573e+01, -7.52002717e+01,  4.09332833e+01,\n",
       "        4.10420219e+01,  1.18799575e+01,  4.94850100e+01, -1.00181075e+01,\n",
       "        1.79355243e+01, -3.70705409e+01,  3.24448710e+00,  7.13035680e+01,\n",
       "       -5.42553943e+01, -4.15519771e+01, -9.22063540e+01,  6.24671520e+01,\n",
       "       -8.27700852e+01,  6.24470249e+01,  4.23323548e+01, -7.08801352e+01,\n",
       "       -7.65866378e+01, -6.55116084e+00,  5.54719036e+01,  3.48944546e+01,\n",
       "        4.74050445e+01, -6.55876160e+01, -7.70629583e+01,  6.79334224e+01,\n",
       "       -3.51445920e+01, -3.27509929e+01, -8.64859443e+01, -1.14750474e+02,\n",
       "       -4.63811513e+00, -3.38481606e+01, -2.63665054e+01,  4.04087097e+01,\n",
       "       -7.58210616e+01, -6.50853928e+01, -1.50860293e+01,  1.03314197e+02,\n",
       "        4.53290367e+01,  2.16554012e+01, -4.73470229e+01,  7.80616455e+00,\n",
       "       -4.72302959e+01,  3.16319163e+01, -5.85810006e+01, -1.17959000e+02,\n",
       "       -2.67599823e+01,  9.33030941e+01,  7.45132097e+01,  3.57784276e+01,\n",
       "        2.95057974e+01,  3.02892040e+01, -6.54594447e+00,  4.10684499e+00,\n",
       "       -5.43795125e+01,  8.48931836e+01, -5.15256135e+01, -5.20710069e+01,\n",
       "       -6.52364340e+01,  4.43829085e+00,  7.25941827e+01, -9.97327511e+01,\n",
       "        5.01458612e+01,  2.13623649e+01,  2.75203642e+01,  3.43828049e+01,\n",
       "        2.70630181e+01, -1.03926827e+01,  2.01895160e+01, -3.24655283e+01,\n",
       "        6.25345981e+01,  2.43324807e+01,  2.94011642e+01,  2.28595649e+00,\n",
       "       -5.74801331e+01, -3.62790635e+01, -3.35927651e+01,  1.00428366e+02,\n",
       "        8.30076506e+01,  5.11159363e+01, -4.57929172e+01,  2.94070051e+01,\n",
       "       -1.04916441e+02,  2.04290956e+00,  3.57210034e+01, -6.00078469e+01,\n",
       "       -1.79004491e+01,  2.90101117e+01,  5.23613704e+01,  8.47130667e+01,\n",
       "       -4.15510982e+01, -2.94460328e+01, -1.42258218e+01,  4.43665533e+01,\n",
       "       -9.26120056e+00,  2.31613512e+01])"
      ]
     },
     "execution_count": 103,
     "metadata": {},
     "output_type": "execute_result"
    }
   ],
   "source": [
    "y_pred"
   ]
  },
  {
   "cell_type": "code",
   "execution_count": 104,
   "id": "bbbb7a43-848c-4583-8fcc-31d7c7d4639b",
   "metadata": {},
   "outputs": [],
   "source": [
    "## Accuracy of the model \n",
    "from sklearn.metrics import r2_score"
   ]
  },
  {
   "cell_type": "code",
   "execution_count": 105,
   "id": "e12826f6-4ea5-4254-b735-01a264083c01",
   "metadata": {},
   "outputs": [
    {
     "name": "stdout",
     "output_type": "stream",
     "text": [
      "0.9966438463377699\n"
     ]
    }
   ],
   "source": [
    "print(r2_score(y_test,y_pred))"
   ]
  },
  {
   "cell_type": "code",
   "execution_count": 106,
   "id": "5141ff07-3443-4859-98fa-eecd2aa32270",
   "metadata": {},
   "outputs": [],
   "source": [
    "#HyperParameter Tunning with SVR\n",
    "from sklearn.model_selection import GridSearchCV\n",
    "\n",
    "#defining Parameter Range\n",
    "param_grid={\"C\":[0.1,1,10,100,1000],\n",
    "            \"gamma\":[1,0.1,0.01,0.001,0.0001],\n",
    "            \"kernel\":[\"linear\"],\n",
    "            \"epsilon\":[0.1,0.2,0.3]\n",
    "           }"
   ]
  },
  {
   "cell_type": "code",
   "execution_count": 109,
   "id": "65d556ce-9a75-4559-94aa-258495724ca2",
   "metadata": {},
   "outputs": [],
   "source": [
    "grid=GridSearchCV(SVR(),param_grid=param_grid,cv=5,verbose=3)"
   ]
  },
  {
   "cell_type": "code",
   "execution_count": 110,
   "id": "718ec0c1-8809-4652-a28f-95bf25817f38",
   "metadata": {},
   "outputs": [
    {
     "name": "stdout",
     "output_type": "stream",
     "text": [
      "Fitting 5 folds for each of 75 candidates, totalling 375 fits\n",
      "[CV 1/5] END C=0.1, epsilon=0.1, gamma=1, kernel=linear;, score=0.945 total time=   0.0s\n",
      "[CV 2/5] END C=0.1, epsilon=0.1, gamma=1, kernel=linear;, score=0.942 total time=   0.0s\n",
      "[CV 3/5] END C=0.1, epsilon=0.1, gamma=1, kernel=linear;, score=0.945 total time=   0.0s\n",
      "[CV 4/5] END C=0.1, epsilon=0.1, gamma=1, kernel=linear;, score=0.939 total time=   0.0s\n",
      "[CV 5/5] END C=0.1, epsilon=0.1, gamma=1, kernel=linear;, score=0.940 total time=   0.0s\n",
      "[CV 1/5] END C=0.1, epsilon=0.1, gamma=0.1, kernel=linear;, score=0.945 total time=   0.0s\n",
      "[CV 2/5] END C=0.1, epsilon=0.1, gamma=0.1, kernel=linear;, score=0.942 total time=   0.0s\n",
      "[CV 3/5] END C=0.1, epsilon=0.1, gamma=0.1, kernel=linear;, score=0.945 total time=   0.0s\n",
      "[CV 4/5] END C=0.1, epsilon=0.1, gamma=0.1, kernel=linear;, score=0.939 total time=   0.0s\n",
      "[CV 5/5] END C=0.1, epsilon=0.1, gamma=0.1, kernel=linear;, score=0.940 total time=   0.0s\n",
      "[CV 1/5] END C=0.1, epsilon=0.1, gamma=0.01, kernel=linear;, score=0.945 total time=   0.0s\n",
      "[CV 2/5] END C=0.1, epsilon=0.1, gamma=0.01, kernel=linear;, score=0.942 total time=   0.0s\n",
      "[CV 3/5] END C=0.1, epsilon=0.1, gamma=0.01, kernel=linear;, score=0.945 total time=   0.0s\n",
      "[CV 4/5] END C=0.1, epsilon=0.1, gamma=0.01, kernel=linear;, score=0.939 total time=   0.0s\n",
      "[CV 5/5] END C=0.1, epsilon=0.1, gamma=0.01, kernel=linear;, score=0.940 total time=   0.0s\n",
      "[CV 1/5] END C=0.1, epsilon=0.1, gamma=0.001, kernel=linear;, score=0.945 total time=   0.0s\n",
      "[CV 2/5] END C=0.1, epsilon=0.1, gamma=0.001, kernel=linear;, score=0.942 total time=   0.0s\n",
      "[CV 3/5] END C=0.1, epsilon=0.1, gamma=0.001, kernel=linear;, score=0.945 total time=   0.0s\n",
      "[CV 4/5] END C=0.1, epsilon=0.1, gamma=0.001, kernel=linear;, score=0.939 total time=   0.0s\n",
      "[CV 5/5] END C=0.1, epsilon=0.1, gamma=0.001, kernel=linear;, score=0.940 total time=   0.0s\n",
      "[CV 1/5] END C=0.1, epsilon=0.1, gamma=0.0001, kernel=linear;, score=0.945 total time=   0.0s\n",
      "[CV 2/5] END C=0.1, epsilon=0.1, gamma=0.0001, kernel=linear;, score=0.942 total time=   0.0s\n",
      "[CV 3/5] END C=0.1, epsilon=0.1, gamma=0.0001, kernel=linear;, score=0.945 total time=   0.0s\n",
      "[CV 4/5] END C=0.1, epsilon=0.1, gamma=0.0001, kernel=linear;, score=0.939 total time=   0.0s\n",
      "[CV 5/5] END C=0.1, epsilon=0.1, gamma=0.0001, kernel=linear;, score=0.940 total time=   0.0s\n",
      "[CV 1/5] END C=0.1, epsilon=0.2, gamma=1, kernel=linear;, score=0.945 total time=   0.0s\n",
      "[CV 2/5] END C=0.1, epsilon=0.2, gamma=1, kernel=linear;, score=0.942 total time=   0.0s\n",
      "[CV 3/5] END C=0.1, epsilon=0.2, gamma=1, kernel=linear;, score=0.945 total time=   0.0s\n",
      "[CV 4/5] END C=0.1, epsilon=0.2, gamma=1, kernel=linear;, score=0.940 total time=   0.0s\n",
      "[CV 5/5] END C=0.1, epsilon=0.2, gamma=1, kernel=linear;, score=0.940 total time=   0.0s\n",
      "[CV 1/5] END C=0.1, epsilon=0.2, gamma=0.1, kernel=linear;, score=0.945 total time=   0.0s\n",
      "[CV 2/5] END C=0.1, epsilon=0.2, gamma=0.1, kernel=linear;, score=0.942 total time=   0.0s\n",
      "[CV 3/5] END C=0.1, epsilon=0.2, gamma=0.1, kernel=linear;, score=0.945 total time=   0.0s\n",
      "[CV 4/5] END C=0.1, epsilon=0.2, gamma=0.1, kernel=linear;, score=0.940 total time=   0.0s\n",
      "[CV 5/5] END C=0.1, epsilon=0.2, gamma=0.1, kernel=linear;, score=0.940 total time=   0.0s\n",
      "[CV 1/5] END C=0.1, epsilon=0.2, gamma=0.01, kernel=linear;, score=0.945 total time=   0.0s\n",
      "[CV 2/5] END C=0.1, epsilon=0.2, gamma=0.01, kernel=linear;, score=0.942 total time=   0.0s\n",
      "[CV 3/5] END C=0.1, epsilon=0.2, gamma=0.01, kernel=linear;, score=0.945 total time=   0.0s\n",
      "[CV 4/5] END C=0.1, epsilon=0.2, gamma=0.01, kernel=linear;, score=0.940 total time=   0.0s\n",
      "[CV 5/5] END C=0.1, epsilon=0.2, gamma=0.01, kernel=linear;, score=0.940 total time=   0.0s\n",
      "[CV 1/5] END C=0.1, epsilon=0.2, gamma=0.001, kernel=linear;, score=0.945 total time=   0.0s\n",
      "[CV 2/5] END C=0.1, epsilon=0.2, gamma=0.001, kernel=linear;, score=0.942 total time=   0.0s\n",
      "[CV 3/5] END C=0.1, epsilon=0.2, gamma=0.001, kernel=linear;, score=0.945 total time=   0.0s\n",
      "[CV 4/5] END C=0.1, epsilon=0.2, gamma=0.001, kernel=linear;, score=0.940 total time=   0.0s\n",
      "[CV 5/5] END C=0.1, epsilon=0.2, gamma=0.001, kernel=linear;, score=0.940 total time=   0.0s\n",
      "[CV 1/5] END C=0.1, epsilon=0.2, gamma=0.0001, kernel=linear;, score=0.945 total time=   0.0s\n",
      "[CV 2/5] END C=0.1, epsilon=0.2, gamma=0.0001, kernel=linear;, score=0.942 total time=   0.0s\n",
      "[CV 3/5] END C=0.1, epsilon=0.2, gamma=0.0001, kernel=linear;, score=0.945 total time=   0.0s\n",
      "[CV 4/5] END C=0.1, epsilon=0.2, gamma=0.0001, kernel=linear;, score=0.940 total time=   0.0s\n",
      "[CV 5/5] END C=0.1, epsilon=0.2, gamma=0.0001, kernel=linear;, score=0.940 total time=   0.0s\n",
      "[CV 1/5] END C=0.1, epsilon=0.3, gamma=1, kernel=linear;, score=0.946 total time=   0.0s\n",
      "[CV 2/5] END C=0.1, epsilon=0.3, gamma=1, kernel=linear;, score=0.942 total time=   0.0s\n",
      "[CV 3/5] END C=0.1, epsilon=0.3, gamma=1, kernel=linear;, score=0.946 total time=   0.0s\n",
      "[CV 4/5] END C=0.1, epsilon=0.3, gamma=1, kernel=linear;, score=0.940 total time=   0.0s\n",
      "[CV 5/5] END C=0.1, epsilon=0.3, gamma=1, kernel=linear;, score=0.940 total time=   0.0s\n",
      "[CV 1/5] END C=0.1, epsilon=0.3, gamma=0.1, kernel=linear;, score=0.946 total time=   0.0s\n",
      "[CV 2/5] END C=0.1, epsilon=0.3, gamma=0.1, kernel=linear;, score=0.942 total time=   0.0s\n",
      "[CV 3/5] END C=0.1, epsilon=0.3, gamma=0.1, kernel=linear;, score=0.946 total time=   0.0s\n",
      "[CV 4/5] END C=0.1, epsilon=0.3, gamma=0.1, kernel=linear;, score=0.940 total time=   0.0s\n",
      "[CV 5/5] END C=0.1, epsilon=0.3, gamma=0.1, kernel=linear;, score=0.940 total time=   0.0s\n",
      "[CV 1/5] END C=0.1, epsilon=0.3, gamma=0.01, kernel=linear;, score=0.946 total time=   0.0s\n",
      "[CV 2/5] END C=0.1, epsilon=0.3, gamma=0.01, kernel=linear;, score=0.942 total time=   0.0s\n",
      "[CV 3/5] END C=0.1, epsilon=0.3, gamma=0.01, kernel=linear;, score=0.946 total time=   0.0s\n",
      "[CV 4/5] END C=0.1, epsilon=0.3, gamma=0.01, kernel=linear;, score=0.940 total time=   0.0s\n",
      "[CV 5/5] END C=0.1, epsilon=0.3, gamma=0.01, kernel=linear;, score=0.940 total time=   0.0s\n",
      "[CV 1/5] END C=0.1, epsilon=0.3, gamma=0.001, kernel=linear;, score=0.946 total time=   0.0s\n",
      "[CV 2/5] END C=0.1, epsilon=0.3, gamma=0.001, kernel=linear;, score=0.942 total time=   0.0s\n",
      "[CV 3/5] END C=0.1, epsilon=0.3, gamma=0.001, kernel=linear;, score=0.946 total time=   0.0s\n",
      "[CV 4/5] END C=0.1, epsilon=0.3, gamma=0.001, kernel=linear;, score=0.940 total time=   0.0s\n",
      "[CV 5/5] END C=0.1, epsilon=0.3, gamma=0.001, kernel=linear;, score=0.940 total time=   0.0s\n",
      "[CV 1/5] END C=0.1, epsilon=0.3, gamma=0.0001, kernel=linear;, score=0.946 total time=   0.0s\n",
      "[CV 2/5] END C=0.1, epsilon=0.3, gamma=0.0001, kernel=linear;, score=0.942 total time=   0.0s\n",
      "[CV 3/5] END C=0.1, epsilon=0.3, gamma=0.0001, kernel=linear;, score=0.946 total time=   0.0s\n",
      "[CV 4/5] END C=0.1, epsilon=0.3, gamma=0.0001, kernel=linear;, score=0.940 total time=   0.0s\n",
      "[CV 5/5] END C=0.1, epsilon=0.3, gamma=0.0001, kernel=linear;, score=0.940 total time=   0.0s\n",
      "[CV 1/5] END C=1, epsilon=0.1, gamma=1, kernel=linear;, score=0.998 total time=   0.0s\n",
      "[CV 2/5] END C=1, epsilon=0.1, gamma=1, kernel=linear;, score=0.998 total time=   0.0s\n",
      "[CV 3/5] END C=1, epsilon=0.1, gamma=1, kernel=linear;, score=0.997 total time=   0.0s\n",
      "[CV 4/5] END C=1, epsilon=0.1, gamma=1, kernel=linear;, score=0.998 total time=   0.0s\n",
      "[CV 5/5] END C=1, epsilon=0.1, gamma=1, kernel=linear;, score=0.998 total time=   0.0s\n",
      "[CV 1/5] END C=1, epsilon=0.1, gamma=0.1, kernel=linear;, score=0.998 total time=   0.0s\n",
      "[CV 2/5] END C=1, epsilon=0.1, gamma=0.1, kernel=linear;, score=0.998 total time=   0.0s\n",
      "[CV 3/5] END C=1, epsilon=0.1, gamma=0.1, kernel=linear;, score=0.997 total time=   0.0s\n",
      "[CV 4/5] END C=1, epsilon=0.1, gamma=0.1, kernel=linear;, score=0.998 total time=   0.0s\n",
      "[CV 5/5] END C=1, epsilon=0.1, gamma=0.1, kernel=linear;, score=0.998 total time=   0.0s\n",
      "[CV 1/5] END C=1, epsilon=0.1, gamma=0.01, kernel=linear;, score=0.998 total time=   0.0s\n",
      "[CV 2/5] END C=1, epsilon=0.1, gamma=0.01, kernel=linear;, score=0.998 total time=   0.0s\n",
      "[CV 3/5] END C=1, epsilon=0.1, gamma=0.01, kernel=linear;, score=0.997 total time=   0.0s\n",
      "[CV 4/5] END C=1, epsilon=0.1, gamma=0.01, kernel=linear;, score=0.998 total time=   0.0s\n",
      "[CV 5/5] END C=1, epsilon=0.1, gamma=0.01, kernel=linear;, score=0.998 total time=   0.0s\n",
      "[CV 1/5] END C=1, epsilon=0.1, gamma=0.001, kernel=linear;, score=0.998 total time=   0.0s\n",
      "[CV 2/5] END C=1, epsilon=0.1, gamma=0.001, kernel=linear;, score=0.998 total time=   0.0s\n",
      "[CV 3/5] END C=1, epsilon=0.1, gamma=0.001, kernel=linear;, score=0.997 total time=   0.0s\n",
      "[CV 4/5] END C=1, epsilon=0.1, gamma=0.001, kernel=linear;, score=0.998 total time=   0.0s\n",
      "[CV 5/5] END C=1, epsilon=0.1, gamma=0.001, kernel=linear;, score=0.998 total time=   0.0s\n",
      "[CV 1/5] END C=1, epsilon=0.1, gamma=0.0001, kernel=linear;, score=0.998 total time=   0.0s\n",
      "[CV 2/5] END C=1, epsilon=0.1, gamma=0.0001, kernel=linear;, score=0.998 total time=   0.0s\n",
      "[CV 3/5] END C=1, epsilon=0.1, gamma=0.0001, kernel=linear;, score=0.997 total time=   0.0s\n",
      "[CV 4/5] END C=1, epsilon=0.1, gamma=0.0001, kernel=linear;, score=0.998 total time=   0.0s\n",
      "[CV 5/5] END C=1, epsilon=0.1, gamma=0.0001, kernel=linear;, score=0.998 total time=   0.0s\n",
      "[CV 1/5] END C=1, epsilon=0.2, gamma=1, kernel=linear;, score=0.998 total time=   0.0s\n",
      "[CV 2/5] END C=1, epsilon=0.2, gamma=1, kernel=linear;, score=0.998 total time=   0.0s\n",
      "[CV 3/5] END C=1, epsilon=0.2, gamma=1, kernel=linear;, score=0.997 total time=   0.0s\n",
      "[CV 4/5] END C=1, epsilon=0.2, gamma=1, kernel=linear;, score=0.998 total time=   0.0s\n",
      "[CV 5/5] END C=1, epsilon=0.2, gamma=1, kernel=linear;, score=0.998 total time=   0.0s\n",
      "[CV 1/5] END C=1, epsilon=0.2, gamma=0.1, kernel=linear;, score=0.998 total time=   0.0s\n",
      "[CV 2/5] END C=1, epsilon=0.2, gamma=0.1, kernel=linear;, score=0.998 total time=   0.0s\n",
      "[CV 3/5] END C=1, epsilon=0.2, gamma=0.1, kernel=linear;, score=0.997 total time=   0.0s\n",
      "[CV 4/5] END C=1, epsilon=0.2, gamma=0.1, kernel=linear;, score=0.998 total time=   0.0s\n",
      "[CV 5/5] END C=1, epsilon=0.2, gamma=0.1, kernel=linear;, score=0.998 total time=   0.0s\n",
      "[CV 1/5] END C=1, epsilon=0.2, gamma=0.01, kernel=linear;, score=0.998 total time=   0.0s\n",
      "[CV 2/5] END C=1, epsilon=0.2, gamma=0.01, kernel=linear;, score=0.998 total time=   0.0s\n",
      "[CV 3/5] END C=1, epsilon=0.2, gamma=0.01, kernel=linear;, score=0.997 total time=   0.0s\n",
      "[CV 4/5] END C=1, epsilon=0.2, gamma=0.01, kernel=linear;, score=0.998 total time=   0.0s\n",
      "[CV 5/5] END C=1, epsilon=0.2, gamma=0.01, kernel=linear;, score=0.998 total time=   0.0s\n",
      "[CV 1/5] END C=1, epsilon=0.2, gamma=0.001, kernel=linear;, score=0.998 total time=   0.0s\n",
      "[CV 2/5] END C=1, epsilon=0.2, gamma=0.001, kernel=linear;, score=0.998 total time=   0.0s\n",
      "[CV 3/5] END C=1, epsilon=0.2, gamma=0.001, kernel=linear;, score=0.997 total time=   0.0s\n",
      "[CV 4/5] END C=1, epsilon=0.2, gamma=0.001, kernel=linear;, score=0.998 total time=   0.0s\n",
      "[CV 5/5] END C=1, epsilon=0.2, gamma=0.001, kernel=linear;, score=0.998 total time=   0.0s\n",
      "[CV 1/5] END C=1, epsilon=0.2, gamma=0.0001, kernel=linear;, score=0.998 total time=   0.0s\n",
      "[CV 2/5] END C=1, epsilon=0.2, gamma=0.0001, kernel=linear;, score=0.998 total time=   0.0s\n",
      "[CV 3/5] END C=1, epsilon=0.2, gamma=0.0001, kernel=linear;, score=0.997 total time=   0.0s\n",
      "[CV 4/5] END C=1, epsilon=0.2, gamma=0.0001, kernel=linear;, score=0.998 total time=   0.0s\n",
      "[CV 5/5] END C=1, epsilon=0.2, gamma=0.0001, kernel=linear;, score=0.998 total time=   0.0s\n",
      "[CV 1/5] END C=1, epsilon=0.3, gamma=1, kernel=linear;, score=0.998 total time=   0.0s\n",
      "[CV 2/5] END C=1, epsilon=0.3, gamma=1, kernel=linear;, score=0.998 total time=   0.0s\n",
      "[CV 3/5] END C=1, epsilon=0.3, gamma=1, kernel=linear;, score=0.997 total time=   0.0s\n",
      "[CV 4/5] END C=1, epsilon=0.3, gamma=1, kernel=linear;, score=0.998 total time=   0.0s\n",
      "[CV 5/5] END C=1, epsilon=0.3, gamma=1, kernel=linear;, score=0.998 total time=   0.0s\n",
      "[CV 1/5] END C=1, epsilon=0.3, gamma=0.1, kernel=linear;, score=0.998 total time=   0.0s\n",
      "[CV 2/5] END C=1, epsilon=0.3, gamma=0.1, kernel=linear;, score=0.998 total time=   0.0s\n",
      "[CV 3/5] END C=1, epsilon=0.3, gamma=0.1, kernel=linear;, score=0.997 total time=   0.0s\n",
      "[CV 4/5] END C=1, epsilon=0.3, gamma=0.1, kernel=linear;, score=0.998 total time=   0.0s\n",
      "[CV 5/5] END C=1, epsilon=0.3, gamma=0.1, kernel=linear;, score=0.998 total time=   0.0s\n",
      "[CV 1/5] END C=1, epsilon=0.3, gamma=0.01, kernel=linear;, score=0.998 total time=   0.0s\n",
      "[CV 2/5] END C=1, epsilon=0.3, gamma=0.01, kernel=linear;, score=0.998 total time=   0.0s\n",
      "[CV 3/5] END C=1, epsilon=0.3, gamma=0.01, kernel=linear;, score=0.997 total time=   0.0s\n",
      "[CV 4/5] END C=1, epsilon=0.3, gamma=0.01, kernel=linear;, score=0.998 total time=   0.0s\n",
      "[CV 5/5] END C=1, epsilon=0.3, gamma=0.01, kernel=linear;, score=0.998 total time=   0.0s\n",
      "[CV 1/5] END C=1, epsilon=0.3, gamma=0.001, kernel=linear;, score=0.998 total time=   0.0s\n",
      "[CV 2/5] END C=1, epsilon=0.3, gamma=0.001, kernel=linear;, score=0.998 total time=   0.0s\n",
      "[CV 3/5] END C=1, epsilon=0.3, gamma=0.001, kernel=linear;, score=0.997 total time=   0.0s\n",
      "[CV 4/5] END C=1, epsilon=0.3, gamma=0.001, kernel=linear;, score=0.998 total time=   0.0s\n",
      "[CV 5/5] END C=1, epsilon=0.3, gamma=0.001, kernel=linear;, score=0.998 total time=   0.0s\n",
      "[CV 1/5] END C=1, epsilon=0.3, gamma=0.0001, kernel=linear;, score=0.998 total time=   0.0s\n",
      "[CV 2/5] END C=1, epsilon=0.3, gamma=0.0001, kernel=linear;, score=0.998 total time=   0.0s\n",
      "[CV 3/5] END C=1, epsilon=0.3, gamma=0.0001, kernel=linear;, score=0.997 total time=   0.0s\n",
      "[CV 4/5] END C=1, epsilon=0.3, gamma=0.0001, kernel=linear;, score=0.998 total time=   0.0s\n",
      "[CV 5/5] END C=1, epsilon=0.3, gamma=0.0001, kernel=linear;, score=0.998 total time=   0.0s\n",
      "[CV 1/5] END C=10, epsilon=0.1, gamma=1, kernel=linear;, score=0.998 total time=   0.0s\n",
      "[CV 2/5] END C=10, epsilon=0.1, gamma=1, kernel=linear;, score=0.998 total time=   0.0s\n",
      "[CV 3/5] END C=10, epsilon=0.1, gamma=1, kernel=linear;, score=0.997 total time=   0.0s\n",
      "[CV 4/5] END C=10, epsilon=0.1, gamma=1, kernel=linear;, score=0.998 total time=   0.0s\n",
      "[CV 5/5] END C=10, epsilon=0.1, gamma=1, kernel=linear;, score=0.998 total time=   0.0s\n",
      "[CV 1/5] END C=10, epsilon=0.1, gamma=0.1, kernel=linear;, score=0.998 total time=   0.0s\n",
      "[CV 2/5] END C=10, epsilon=0.1, gamma=0.1, kernel=linear;, score=0.998 total time=   0.0s\n",
      "[CV 3/5] END C=10, epsilon=0.1, gamma=0.1, kernel=linear;, score=0.997 total time=   0.0s\n",
      "[CV 4/5] END C=10, epsilon=0.1, gamma=0.1, kernel=linear;, score=0.998 total time=   0.0s\n",
      "[CV 5/5] END C=10, epsilon=0.1, gamma=0.1, kernel=linear;, score=0.998 total time=   0.0s\n",
      "[CV 1/5] END C=10, epsilon=0.1, gamma=0.01, kernel=linear;, score=0.998 total time=   0.0s\n",
      "[CV 2/5] END C=10, epsilon=0.1, gamma=0.01, kernel=linear;, score=0.998 total time=   0.0s\n",
      "[CV 3/5] END C=10, epsilon=0.1, gamma=0.01, kernel=linear;, score=0.997 total time=   0.0s\n",
      "[CV 4/5] END C=10, epsilon=0.1, gamma=0.01, kernel=linear;, score=0.998 total time=   0.0s\n",
      "[CV 5/5] END C=10, epsilon=0.1, gamma=0.01, kernel=linear;, score=0.998 total time=   0.0s\n",
      "[CV 1/5] END C=10, epsilon=0.1, gamma=0.001, kernel=linear;, score=0.998 total time=   0.0s\n",
      "[CV 2/5] END C=10, epsilon=0.1, gamma=0.001, kernel=linear;, score=0.998 total time=   0.0s\n",
      "[CV 3/5] END C=10, epsilon=0.1, gamma=0.001, kernel=linear;, score=0.997 total time=   0.0s\n",
      "[CV 4/5] END C=10, epsilon=0.1, gamma=0.001, kernel=linear;, score=0.998 total time=   0.0s\n",
      "[CV 5/5] END C=10, epsilon=0.1, gamma=0.001, kernel=linear;, score=0.998 total time=   0.0s\n",
      "[CV 1/5] END C=10, epsilon=0.1, gamma=0.0001, kernel=linear;, score=0.998 total time=   0.0s\n",
      "[CV 2/5] END C=10, epsilon=0.1, gamma=0.0001, kernel=linear;, score=0.998 total time=   0.0s\n",
      "[CV 3/5] END C=10, epsilon=0.1, gamma=0.0001, kernel=linear;, score=0.997 total time=   0.0s\n",
      "[CV 4/5] END C=10, epsilon=0.1, gamma=0.0001, kernel=linear;, score=0.998 total time=   0.0s\n",
      "[CV 5/5] END C=10, epsilon=0.1, gamma=0.0001, kernel=linear;, score=0.998 total time=   0.0s\n",
      "[CV 1/5] END C=10, epsilon=0.2, gamma=1, kernel=linear;, score=0.998 total time=   0.0s\n",
      "[CV 2/5] END C=10, epsilon=0.2, gamma=1, kernel=linear;, score=0.998 total time=   0.0s\n",
      "[CV 3/5] END C=10, epsilon=0.2, gamma=1, kernel=linear;, score=0.997 total time=   0.0s\n",
      "[CV 4/5] END C=10, epsilon=0.2, gamma=1, kernel=linear;, score=0.998 total time=   0.0s\n",
      "[CV 5/5] END C=10, epsilon=0.2, gamma=1, kernel=linear;, score=0.998 total time=   0.0s\n",
      "[CV 1/5] END C=10, epsilon=0.2, gamma=0.1, kernel=linear;, score=0.998 total time=   0.0s\n",
      "[CV 2/5] END C=10, epsilon=0.2, gamma=0.1, kernel=linear;, score=0.998 total time=   0.0s\n",
      "[CV 3/5] END C=10, epsilon=0.2, gamma=0.1, kernel=linear;, score=0.997 total time=   0.0s\n",
      "[CV 4/5] END C=10, epsilon=0.2, gamma=0.1, kernel=linear;, score=0.998 total time=   0.0s\n",
      "[CV 5/5] END C=10, epsilon=0.2, gamma=0.1, kernel=linear;, score=0.998 total time=   0.0s\n",
      "[CV 1/5] END C=10, epsilon=0.2, gamma=0.01, kernel=linear;, score=0.998 total time=   0.0s\n",
      "[CV 2/5] END C=10, epsilon=0.2, gamma=0.01, kernel=linear;, score=0.998 total time=   0.0s\n",
      "[CV 3/5] END C=10, epsilon=0.2, gamma=0.01, kernel=linear;, score=0.997 total time=   0.0s\n",
      "[CV 4/5] END C=10, epsilon=0.2, gamma=0.01, kernel=linear;, score=0.998 total time=   0.0s\n",
      "[CV 5/5] END C=10, epsilon=0.2, gamma=0.01, kernel=linear;, score=0.998 total time=   0.0s\n",
      "[CV 1/5] END C=10, epsilon=0.2, gamma=0.001, kernel=linear;, score=0.998 total time=   0.0s\n",
      "[CV 2/5] END C=10, epsilon=0.2, gamma=0.001, kernel=linear;, score=0.998 total time=   0.0s\n",
      "[CV 3/5] END C=10, epsilon=0.2, gamma=0.001, kernel=linear;, score=0.997 total time=   0.0s\n",
      "[CV 4/5] END C=10, epsilon=0.2, gamma=0.001, kernel=linear;, score=0.998 total time=   0.0s\n",
      "[CV 5/5] END C=10, epsilon=0.2, gamma=0.001, kernel=linear;, score=0.998 total time=   0.0s\n",
      "[CV 1/5] END C=10, epsilon=0.2, gamma=0.0001, kernel=linear;, score=0.998 total time=   0.0s\n",
      "[CV 2/5] END C=10, epsilon=0.2, gamma=0.0001, kernel=linear;, score=0.998 total time=   0.0s\n",
      "[CV 3/5] END C=10, epsilon=0.2, gamma=0.0001, kernel=linear;, score=0.997 total time=   0.0s\n",
      "[CV 4/5] END C=10, epsilon=0.2, gamma=0.0001, kernel=linear;, score=0.998 total time=   0.0s\n",
      "[CV 5/5] END C=10, epsilon=0.2, gamma=0.0001, kernel=linear;, score=0.998 total time=   0.0s\n",
      "[CV 1/5] END C=10, epsilon=0.3, gamma=1, kernel=linear;, score=0.998 total time=   0.0s\n",
      "[CV 2/5] END C=10, epsilon=0.3, gamma=1, kernel=linear;, score=0.998 total time=   0.0s\n",
      "[CV 3/5] END C=10, epsilon=0.3, gamma=1, kernel=linear;, score=0.997 total time=   0.0s\n",
      "[CV 4/5] END C=10, epsilon=0.3, gamma=1, kernel=linear;, score=0.998 total time=   0.0s\n",
      "[CV 5/5] END C=10, epsilon=0.3, gamma=1, kernel=linear;, score=0.998 total time=   0.0s\n",
      "[CV 1/5] END C=10, epsilon=0.3, gamma=0.1, kernel=linear;, score=0.998 total time=   0.0s\n",
      "[CV 2/5] END C=10, epsilon=0.3, gamma=0.1, kernel=linear;, score=0.998 total time=   0.0s\n",
      "[CV 3/5] END C=10, epsilon=0.3, gamma=0.1, kernel=linear;, score=0.997 total time=   0.0s\n",
      "[CV 4/5] END C=10, epsilon=0.3, gamma=0.1, kernel=linear;, score=0.998 total time=   0.0s\n",
      "[CV 5/5] END C=10, epsilon=0.3, gamma=0.1, kernel=linear;, score=0.998 total time=   0.0s\n",
      "[CV 1/5] END C=10, epsilon=0.3, gamma=0.01, kernel=linear;, score=0.998 total time=   0.0s\n",
      "[CV 2/5] END C=10, epsilon=0.3, gamma=0.01, kernel=linear;, score=0.998 total time=   0.0s\n",
      "[CV 3/5] END C=10, epsilon=0.3, gamma=0.01, kernel=linear;, score=0.997 total time=   0.0s\n",
      "[CV 4/5] END C=10, epsilon=0.3, gamma=0.01, kernel=linear;, score=0.998 total time=   0.0s\n",
      "[CV 5/5] END C=10, epsilon=0.3, gamma=0.01, kernel=linear;, score=0.998 total time=   0.0s\n",
      "[CV 1/5] END C=10, epsilon=0.3, gamma=0.001, kernel=linear;, score=0.998 total time=   0.0s\n",
      "[CV 2/5] END C=10, epsilon=0.3, gamma=0.001, kernel=linear;, score=0.998 total time=   0.0s\n",
      "[CV 3/5] END C=10, epsilon=0.3, gamma=0.001, kernel=linear;, score=0.997 total time=   0.0s\n",
      "[CV 4/5] END C=10, epsilon=0.3, gamma=0.001, kernel=linear;, score=0.998 total time=   0.0s\n",
      "[CV 5/5] END C=10, epsilon=0.3, gamma=0.001, kernel=linear;, score=0.998 total time=   0.0s\n",
      "[CV 1/5] END C=10, epsilon=0.3, gamma=0.0001, kernel=linear;, score=0.998 total time=   0.1s\n",
      "[CV 2/5] END C=10, epsilon=0.3, gamma=0.0001, kernel=linear;, score=0.998 total time=   0.0s\n",
      "[CV 3/5] END C=10, epsilon=0.3, gamma=0.0001, kernel=linear;, score=0.997 total time=   0.0s\n",
      "[CV 4/5] END C=10, epsilon=0.3, gamma=0.0001, kernel=linear;, score=0.998 total time=   0.0s\n",
      "[CV 5/5] END C=10, epsilon=0.3, gamma=0.0001, kernel=linear;, score=0.998 total time=   0.0s\n",
      "[CV 1/5] END C=100, epsilon=0.1, gamma=1, kernel=linear;, score=0.998 total time=   0.1s\n",
      "[CV 2/5] END C=100, epsilon=0.1, gamma=1, kernel=linear;, score=0.998 total time=   0.1s\n",
      "[CV 3/5] END C=100, epsilon=0.1, gamma=1, kernel=linear;, score=0.997 total time=   0.1s\n",
      "[CV 4/5] END C=100, epsilon=0.1, gamma=1, kernel=linear;, score=0.998 total time=   0.1s\n",
      "[CV 5/5] END C=100, epsilon=0.1, gamma=1, kernel=linear;, score=0.998 total time=   0.1s\n",
      "[CV 1/5] END C=100, epsilon=0.1, gamma=0.1, kernel=linear;, score=0.998 total time=   0.1s\n",
      "[CV 2/5] END C=100, epsilon=0.1, gamma=0.1, kernel=linear;, score=0.998 total time=   0.1s\n",
      "[CV 3/5] END C=100, epsilon=0.1, gamma=0.1, kernel=linear;, score=0.997 total time=   0.1s\n",
      "[CV 4/5] END C=100, epsilon=0.1, gamma=0.1, kernel=linear;, score=0.998 total time=   0.1s\n",
      "[CV 5/5] END C=100, epsilon=0.1, gamma=0.1, kernel=linear;, score=0.998 total time=   0.1s\n",
      "[CV 1/5] END C=100, epsilon=0.1, gamma=0.01, kernel=linear;, score=0.998 total time=   0.1s\n",
      "[CV 2/5] END C=100, epsilon=0.1, gamma=0.01, kernel=linear;, score=0.998 total time=   0.1s\n",
      "[CV 3/5] END C=100, epsilon=0.1, gamma=0.01, kernel=linear;, score=0.997 total time=   0.1s\n",
      "[CV 4/5] END C=100, epsilon=0.1, gamma=0.01, kernel=linear;, score=0.998 total time=   0.1s\n",
      "[CV 5/5] END C=100, epsilon=0.1, gamma=0.01, kernel=linear;, score=0.998 total time=   0.1s\n",
      "[CV 1/5] END C=100, epsilon=0.1, gamma=0.001, kernel=linear;, score=0.998 total time=   0.1s\n",
      "[CV 2/5] END C=100, epsilon=0.1, gamma=0.001, kernel=linear;, score=0.998 total time=   0.1s\n",
      "[CV 3/5] END C=100, epsilon=0.1, gamma=0.001, kernel=linear;, score=0.997 total time=   0.1s\n",
      "[CV 4/5] END C=100, epsilon=0.1, gamma=0.001, kernel=linear;, score=0.998 total time=   0.1s\n",
      "[CV 5/5] END C=100, epsilon=0.1, gamma=0.001, kernel=linear;, score=0.998 total time=   0.1s\n",
      "[CV 1/5] END C=100, epsilon=0.1, gamma=0.0001, kernel=linear;, score=0.998 total time=   0.1s\n",
      "[CV 2/5] END C=100, epsilon=0.1, gamma=0.0001, kernel=linear;, score=0.998 total time=   0.1s\n",
      "[CV 3/5] END C=100, epsilon=0.1, gamma=0.0001, kernel=linear;, score=0.997 total time=   0.1s\n",
      "[CV 4/5] END C=100, epsilon=0.1, gamma=0.0001, kernel=linear;, score=0.998 total time=   0.1s\n",
      "[CV 5/5] END C=100, epsilon=0.1, gamma=0.0001, kernel=linear;, score=0.998 total time=   0.1s\n",
      "[CV 1/5] END C=100, epsilon=0.2, gamma=1, kernel=linear;, score=0.998 total time=   0.1s\n",
      "[CV 2/5] END C=100, epsilon=0.2, gamma=1, kernel=linear;, score=0.998 total time=   0.2s\n",
      "[CV 3/5] END C=100, epsilon=0.2, gamma=1, kernel=linear;, score=0.997 total time=   0.1s\n",
      "[CV 4/5] END C=100, epsilon=0.2, gamma=1, kernel=linear;, score=0.998 total time=   0.1s\n",
      "[CV 5/5] END C=100, epsilon=0.2, gamma=1, kernel=linear;, score=0.998 total time=   0.1s\n",
      "[CV 1/5] END C=100, epsilon=0.2, gamma=0.1, kernel=linear;, score=0.998 total time=   0.1s\n",
      "[CV 2/5] END C=100, epsilon=0.2, gamma=0.1, kernel=linear;, score=0.998 total time=   0.2s\n",
      "[CV 3/5] END C=100, epsilon=0.2, gamma=0.1, kernel=linear;, score=0.997 total time=   0.1s\n",
      "[CV 4/5] END C=100, epsilon=0.2, gamma=0.1, kernel=linear;, score=0.998 total time=   0.1s\n",
      "[CV 5/5] END C=100, epsilon=0.2, gamma=0.1, kernel=linear;, score=0.998 total time=   0.1s\n",
      "[CV 1/5] END C=100, epsilon=0.2, gamma=0.01, kernel=linear;, score=0.998 total time=   0.1s\n",
      "[CV 2/5] END C=100, epsilon=0.2, gamma=0.01, kernel=linear;, score=0.998 total time=   0.2s\n",
      "[CV 3/5] END C=100, epsilon=0.2, gamma=0.01, kernel=linear;, score=0.997 total time=   0.1s\n",
      "[CV 4/5] END C=100, epsilon=0.2, gamma=0.01, kernel=linear;, score=0.998 total time=   0.1s\n",
      "[CV 5/5] END C=100, epsilon=0.2, gamma=0.01, kernel=linear;, score=0.998 total time=   0.1s\n",
      "[CV 1/5] END C=100, epsilon=0.2, gamma=0.001, kernel=linear;, score=0.998 total time=   0.1s\n",
      "[CV 2/5] END C=100, epsilon=0.2, gamma=0.001, kernel=linear;, score=0.998 total time=   0.2s\n",
      "[CV 3/5] END C=100, epsilon=0.2, gamma=0.001, kernel=linear;, score=0.997 total time=   0.1s\n",
      "[CV 4/5] END C=100, epsilon=0.2, gamma=0.001, kernel=linear;, score=0.998 total time=   0.1s\n",
      "[CV 5/5] END C=100, epsilon=0.2, gamma=0.001, kernel=linear;, score=0.998 total time=   0.1s\n",
      "[CV 1/5] END C=100, epsilon=0.2, gamma=0.0001, kernel=linear;, score=0.998 total time=   0.1s\n",
      "[CV 2/5] END C=100, epsilon=0.2, gamma=0.0001, kernel=linear;, score=0.998 total time=   0.2s\n",
      "[CV 3/5] END C=100, epsilon=0.2, gamma=0.0001, kernel=linear;, score=0.997 total time=   0.1s\n",
      "[CV 4/5] END C=100, epsilon=0.2, gamma=0.0001, kernel=linear;, score=0.998 total time=   0.1s\n",
      "[CV 5/5] END C=100, epsilon=0.2, gamma=0.0001, kernel=linear;, score=0.998 total time=   0.1s\n",
      "[CV 1/5] END C=100, epsilon=0.3, gamma=1, kernel=linear;, score=0.998 total time=   0.1s\n",
      "[CV 2/5] END C=100, epsilon=0.3, gamma=1, kernel=linear;, score=0.998 total time=   0.2s\n",
      "[CV 3/5] END C=100, epsilon=0.3, gamma=1, kernel=linear;, score=0.997 total time=   0.1s\n",
      "[CV 4/5] END C=100, epsilon=0.3, gamma=1, kernel=linear;, score=0.998 total time=   0.1s\n",
      "[CV 5/5] END C=100, epsilon=0.3, gamma=1, kernel=linear;, score=0.998 total time=   0.2s\n",
      "[CV 1/5] END C=100, epsilon=0.3, gamma=0.1, kernel=linear;, score=0.998 total time=   0.1s\n",
      "[CV 2/5] END C=100, epsilon=0.3, gamma=0.1, kernel=linear;, score=0.998 total time=   0.2s\n",
      "[CV 3/5] END C=100, epsilon=0.3, gamma=0.1, kernel=linear;, score=0.997 total time=   0.1s\n",
      "[CV 4/5] END C=100, epsilon=0.3, gamma=0.1, kernel=linear;, score=0.998 total time=   0.1s\n",
      "[CV 5/5] END C=100, epsilon=0.3, gamma=0.1, kernel=linear;, score=0.998 total time=   0.2s\n",
      "[CV 1/5] END C=100, epsilon=0.3, gamma=0.01, kernel=linear;, score=0.998 total time=   0.1s\n",
      "[CV 2/5] END C=100, epsilon=0.3, gamma=0.01, kernel=linear;, score=0.998 total time=   0.2s\n",
      "[CV 3/5] END C=100, epsilon=0.3, gamma=0.01, kernel=linear;, score=0.997 total time=   0.2s\n",
      "[CV 4/5] END C=100, epsilon=0.3, gamma=0.01, kernel=linear;, score=0.998 total time=   0.1s\n",
      "[CV 5/5] END C=100, epsilon=0.3, gamma=0.01, kernel=linear;, score=0.998 total time=   0.2s\n",
      "[CV 1/5] END C=100, epsilon=0.3, gamma=0.001, kernel=linear;, score=0.998 total time=   0.1s\n",
      "[CV 2/5] END C=100, epsilon=0.3, gamma=0.001, kernel=linear;, score=0.998 total time=   0.2s\n",
      "[CV 3/5] END C=100, epsilon=0.3, gamma=0.001, kernel=linear;, score=0.997 total time=   0.1s\n",
      "[CV 4/5] END C=100, epsilon=0.3, gamma=0.001, kernel=linear;, score=0.998 total time=   0.1s\n",
      "[CV 5/5] END C=100, epsilon=0.3, gamma=0.001, kernel=linear;, score=0.998 total time=   0.2s\n",
      "[CV 1/5] END C=100, epsilon=0.3, gamma=0.0001, kernel=linear;, score=0.998 total time=   0.1s\n",
      "[CV 2/5] END C=100, epsilon=0.3, gamma=0.0001, kernel=linear;, score=0.998 total time=   0.2s\n",
      "[CV 3/5] END C=100, epsilon=0.3, gamma=0.0001, kernel=linear;, score=0.997 total time=   0.1s\n",
      "[CV 4/5] END C=100, epsilon=0.3, gamma=0.0001, kernel=linear;, score=0.998 total time=   0.1s\n",
      "[CV 5/5] END C=100, epsilon=0.3, gamma=0.0001, kernel=linear;, score=0.998 total time=   0.2s\n",
      "[CV 1/5] END C=1000, epsilon=0.1, gamma=1, kernel=linear;, score=0.998 total time=   0.9s\n",
      "[CV 2/5] END C=1000, epsilon=0.1, gamma=1, kernel=linear;, score=0.998 total time=   0.9s\n",
      "[CV 3/5] END C=1000, epsilon=0.1, gamma=1, kernel=linear;, score=0.997 total time=   0.8s\n",
      "[CV 4/5] END C=1000, epsilon=0.1, gamma=1, kernel=linear;, score=0.998 total time=   0.6s\n",
      "[CV 5/5] END C=1000, epsilon=0.1, gamma=1, kernel=linear;, score=0.998 total time=   0.8s\n",
      "[CV 1/5] END C=1000, epsilon=0.1, gamma=0.1, kernel=linear;, score=0.998 total time=   0.9s\n",
      "[CV 2/5] END C=1000, epsilon=0.1, gamma=0.1, kernel=linear;, score=0.998 total time=   0.9s\n",
      "[CV 3/5] END C=1000, epsilon=0.1, gamma=0.1, kernel=linear;, score=0.997 total time=   0.8s\n",
      "[CV 4/5] END C=1000, epsilon=0.1, gamma=0.1, kernel=linear;, score=0.998 total time=   0.6s\n",
      "[CV 5/5] END C=1000, epsilon=0.1, gamma=0.1, kernel=linear;, score=0.998 total time=   0.8s\n",
      "[CV 1/5] END C=1000, epsilon=0.1, gamma=0.01, kernel=linear;, score=0.998 total time=   0.9s\n",
      "[CV 2/5] END C=1000, epsilon=0.1, gamma=0.01, kernel=linear;, score=0.998 total time=   0.9s\n",
      "[CV 3/5] END C=1000, epsilon=0.1, gamma=0.01, kernel=linear;, score=0.997 total time=   0.8s\n",
      "[CV 4/5] END C=1000, epsilon=0.1, gamma=0.01, kernel=linear;, score=0.998 total time=   0.6s\n",
      "[CV 5/5] END C=1000, epsilon=0.1, gamma=0.01, kernel=linear;, score=0.998 total time=   0.8s\n",
      "[CV 1/5] END C=1000, epsilon=0.1, gamma=0.001, kernel=linear;, score=0.998 total time=   0.9s\n",
      "[CV 2/5] END C=1000, epsilon=0.1, gamma=0.001, kernel=linear;, score=0.998 total time=   0.9s\n",
      "[CV 3/5] END C=1000, epsilon=0.1, gamma=0.001, kernel=linear;, score=0.997 total time=   0.8s\n",
      "[CV 4/5] END C=1000, epsilon=0.1, gamma=0.001, kernel=linear;, score=0.998 total time=   0.6s\n",
      "[CV 5/5] END C=1000, epsilon=0.1, gamma=0.001, kernel=linear;, score=0.998 total time=   0.8s\n",
      "[CV 1/5] END C=1000, epsilon=0.1, gamma=0.0001, kernel=linear;, score=0.998 total time=   0.8s\n",
      "[CV 2/5] END C=1000, epsilon=0.1, gamma=0.0001, kernel=linear;, score=0.998 total time=   0.9s\n",
      "[CV 3/5] END C=1000, epsilon=0.1, gamma=0.0001, kernel=linear;, score=0.997 total time=   0.8s\n",
      "[CV 4/5] END C=1000, epsilon=0.1, gamma=0.0001, kernel=linear;, score=0.998 total time=   0.6s\n",
      "[CV 5/5] END C=1000, epsilon=0.1, gamma=0.0001, kernel=linear;, score=0.998 total time=   0.8s\n",
      "[CV 1/5] END C=1000, epsilon=0.2, gamma=1, kernel=linear;, score=0.998 total time=   0.8s\n",
      "[CV 2/5] END C=1000, epsilon=0.2, gamma=1, kernel=linear;, score=0.998 total time=   1.2s\n",
      "[CV 3/5] END C=1000, epsilon=0.2, gamma=1, kernel=linear;, score=0.997 total time=   0.8s\n",
      "[CV 4/5] END C=1000, epsilon=0.2, gamma=1, kernel=linear;, score=0.998 total time=   0.7s\n",
      "[CV 5/5] END C=1000, epsilon=0.2, gamma=1, kernel=linear;, score=0.998 total time=   0.9s\n",
      "[CV 1/5] END C=1000, epsilon=0.2, gamma=0.1, kernel=linear;, score=0.998 total time=   0.8s\n",
      "[CV 2/5] END C=1000, epsilon=0.2, gamma=0.1, kernel=linear;, score=0.998 total time=   1.2s\n",
      "[CV 3/5] END C=1000, epsilon=0.2, gamma=0.1, kernel=linear;, score=0.997 total time=   0.8s\n",
      "[CV 4/5] END C=1000, epsilon=0.2, gamma=0.1, kernel=linear;, score=0.998 total time=   0.7s\n",
      "[CV 5/5] END C=1000, epsilon=0.2, gamma=0.1, kernel=linear;, score=0.998 total time=   0.9s\n",
      "[CV 1/5] END C=1000, epsilon=0.2, gamma=0.01, kernel=linear;, score=0.998 total time=   0.8s\n",
      "[CV 2/5] END C=1000, epsilon=0.2, gamma=0.01, kernel=linear;, score=0.998 total time=   1.2s\n",
      "[CV 3/5] END C=1000, epsilon=0.2, gamma=0.01, kernel=linear;, score=0.997 total time=   0.8s\n",
      "[CV 4/5] END C=1000, epsilon=0.2, gamma=0.01, kernel=linear;, score=0.998 total time=   0.7s\n",
      "[CV 5/5] END C=1000, epsilon=0.2, gamma=0.01, kernel=linear;, score=0.998 total time=   0.9s\n",
      "[CV 1/5] END C=1000, epsilon=0.2, gamma=0.001, kernel=linear;, score=0.998 total time=   0.7s\n",
      "[CV 2/5] END C=1000, epsilon=0.2, gamma=0.001, kernel=linear;, score=0.998 total time=   1.2s\n",
      "[CV 3/5] END C=1000, epsilon=0.2, gamma=0.001, kernel=linear;, score=0.997 total time=   0.8s\n",
      "[CV 4/5] END C=1000, epsilon=0.2, gamma=0.001, kernel=linear;, score=0.998 total time=   0.7s\n",
      "[CV 5/5] END C=1000, epsilon=0.2, gamma=0.001, kernel=linear;, score=0.998 total time=   0.9s\n",
      "[CV 1/5] END C=1000, epsilon=0.2, gamma=0.0001, kernel=linear;, score=0.998 total time=   0.8s\n",
      "[CV 2/5] END C=1000, epsilon=0.2, gamma=0.0001, kernel=linear;, score=0.998 total time=   1.2s\n",
      "[CV 3/5] END C=1000, epsilon=0.2, gamma=0.0001, kernel=linear;, score=0.997 total time=   0.8s\n",
      "[CV 4/5] END C=1000, epsilon=0.2, gamma=0.0001, kernel=linear;, score=0.998 total time=   0.7s\n",
      "[CV 5/5] END C=1000, epsilon=0.2, gamma=0.0001, kernel=linear;, score=0.998 total time=   0.9s\n",
      "[CV 1/5] END C=1000, epsilon=0.3, gamma=1, kernel=linear;, score=0.998 total time=   0.8s\n",
      "[CV 2/5] END C=1000, epsilon=0.3, gamma=1, kernel=linear;, score=0.998 total time=   0.8s\n",
      "[CV 3/5] END C=1000, epsilon=0.3, gamma=1, kernel=linear;, score=0.997 total time=   0.9s\n",
      "[CV 4/5] END C=1000, epsilon=0.3, gamma=1, kernel=linear;, score=0.998 total time=   1.3s\n",
      "[CV 5/5] END C=1000, epsilon=0.3, gamma=1, kernel=linear;, score=0.998 total time=   1.1s\n",
      "[CV 1/5] END C=1000, epsilon=0.3, gamma=0.1, kernel=linear;, score=0.998 total time=   0.8s\n",
      "[CV 2/5] END C=1000, epsilon=0.3, gamma=0.1, kernel=linear;, score=0.998 total time=   0.8s\n",
      "[CV 3/5] END C=1000, epsilon=0.3, gamma=0.1, kernel=linear;, score=0.997 total time=   1.0s\n",
      "[CV 4/5] END C=1000, epsilon=0.3, gamma=0.1, kernel=linear;, score=0.998 total time=   1.3s\n",
      "[CV 5/5] END C=1000, epsilon=0.3, gamma=0.1, kernel=linear;, score=0.998 total time=   1.1s\n",
      "[CV 1/5] END C=1000, epsilon=0.3, gamma=0.01, kernel=linear;, score=0.998 total time=   0.8s\n",
      "[CV 2/5] END C=1000, epsilon=0.3, gamma=0.01, kernel=linear;, score=0.998 total time=   0.8s\n",
      "[CV 3/5] END C=1000, epsilon=0.3, gamma=0.01, kernel=linear;, score=0.997 total time=   0.9s\n",
      "[CV 4/5] END C=1000, epsilon=0.3, gamma=0.01, kernel=linear;, score=0.998 total time=   1.3s\n",
      "[CV 5/5] END C=1000, epsilon=0.3, gamma=0.01, kernel=linear;, score=0.998 total time=   1.1s\n",
      "[CV 1/5] END C=1000, epsilon=0.3, gamma=0.001, kernel=linear;, score=0.998 total time=   0.8s\n",
      "[CV 2/5] END C=1000, epsilon=0.3, gamma=0.001, kernel=linear;, score=0.998 total time=   0.8s\n",
      "[CV 3/5] END C=1000, epsilon=0.3, gamma=0.001, kernel=linear;, score=0.997 total time=   0.9s\n",
      "[CV 4/5] END C=1000, epsilon=0.3, gamma=0.001, kernel=linear;, score=0.998 total time=   1.3s\n",
      "[CV 5/5] END C=1000, epsilon=0.3, gamma=0.001, kernel=linear;, score=0.998 total time=   1.1s\n",
      "[CV 1/5] END C=1000, epsilon=0.3, gamma=0.0001, kernel=linear;, score=0.998 total time=   0.8s\n",
      "[CV 2/5] END C=1000, epsilon=0.3, gamma=0.0001, kernel=linear;, score=0.998 total time=   0.8s\n",
      "[CV 3/5] END C=1000, epsilon=0.3, gamma=0.0001, kernel=linear;, score=0.997 total time=   0.9s\n",
      "[CV 4/5] END C=1000, epsilon=0.3, gamma=0.0001, kernel=linear;, score=0.998 total time=   1.3s\n",
      "[CV 5/5] END C=1000, epsilon=0.3, gamma=0.0001, kernel=linear;, score=0.998 total time=   1.1s\n"
     ]
    },
    {
     "data": {
      "text/html": [
       "<style>#sk-container-id-9 {color: black;background-color: white;}#sk-container-id-9 pre{padding: 0;}#sk-container-id-9 div.sk-toggleable {background-color: white;}#sk-container-id-9 label.sk-toggleable__label {cursor: pointer;display: block;width: 100%;margin-bottom: 0;padding: 0.3em;box-sizing: border-box;text-align: center;}#sk-container-id-9 label.sk-toggleable__label-arrow:before {content: \"▸\";float: left;margin-right: 0.25em;color: #696969;}#sk-container-id-9 label.sk-toggleable__label-arrow:hover:before {color: black;}#sk-container-id-9 div.sk-estimator:hover label.sk-toggleable__label-arrow:before {color: black;}#sk-container-id-9 div.sk-toggleable__content {max-height: 0;max-width: 0;overflow: hidden;text-align: left;background-color: #f0f8ff;}#sk-container-id-9 div.sk-toggleable__content pre {margin: 0.2em;color: black;border-radius: 0.25em;background-color: #f0f8ff;}#sk-container-id-9 input.sk-toggleable__control:checked~div.sk-toggleable__content {max-height: 200px;max-width: 100%;overflow: auto;}#sk-container-id-9 input.sk-toggleable__control:checked~label.sk-toggleable__label-arrow:before {content: \"▾\";}#sk-container-id-9 div.sk-estimator input.sk-toggleable__control:checked~label.sk-toggleable__label {background-color: #d4ebff;}#sk-container-id-9 div.sk-label input.sk-toggleable__control:checked~label.sk-toggleable__label {background-color: #d4ebff;}#sk-container-id-9 input.sk-hidden--visually {border: 0;clip: rect(1px 1px 1px 1px);clip: rect(1px, 1px, 1px, 1px);height: 1px;margin: -1px;overflow: hidden;padding: 0;position: absolute;width: 1px;}#sk-container-id-9 div.sk-estimator {font-family: monospace;background-color: #f0f8ff;border: 1px dotted black;border-radius: 0.25em;box-sizing: border-box;margin-bottom: 0.5em;}#sk-container-id-9 div.sk-estimator:hover {background-color: #d4ebff;}#sk-container-id-9 div.sk-parallel-item::after {content: \"\";width: 100%;border-bottom: 1px solid gray;flex-grow: 1;}#sk-container-id-9 div.sk-label:hover label.sk-toggleable__label {background-color: #d4ebff;}#sk-container-id-9 div.sk-serial::before {content: \"\";position: absolute;border-left: 1px solid gray;box-sizing: border-box;top: 0;bottom: 0;left: 50%;z-index: 0;}#sk-container-id-9 div.sk-serial {display: flex;flex-direction: column;align-items: center;background-color: white;padding-right: 0.2em;padding-left: 0.2em;position: relative;}#sk-container-id-9 div.sk-item {position: relative;z-index: 1;}#sk-container-id-9 div.sk-parallel {display: flex;align-items: stretch;justify-content: center;background-color: white;position: relative;}#sk-container-id-9 div.sk-item::before, #sk-container-id-9 div.sk-parallel-item::before {content: \"\";position: absolute;border-left: 1px solid gray;box-sizing: border-box;top: 0;bottom: 0;left: 50%;z-index: -1;}#sk-container-id-9 div.sk-parallel-item {display: flex;flex-direction: column;z-index: 1;position: relative;background-color: white;}#sk-container-id-9 div.sk-parallel-item:first-child::after {align-self: flex-end;width: 50%;}#sk-container-id-9 div.sk-parallel-item:last-child::after {align-self: flex-start;width: 50%;}#sk-container-id-9 div.sk-parallel-item:only-child::after {width: 0;}#sk-container-id-9 div.sk-dashed-wrapped {border: 1px dashed gray;margin: 0 0.4em 0.5em 0.4em;box-sizing: border-box;padding-bottom: 0.4em;background-color: white;}#sk-container-id-9 div.sk-label label {font-family: monospace;font-weight: bold;display: inline-block;line-height: 1.2em;}#sk-container-id-9 div.sk-label-container {text-align: center;}#sk-container-id-9 div.sk-container {/* jupyter's `normalize.less` sets `[hidden] { display: none; }` but bootstrap.min.css set `[hidden] { display: none !important; }` so we also need the `!important` here to be able to override the default hidden behavior on the sphinx rendered scikit-learn.org. See: https://github.com/scikit-learn/scikit-learn/issues/21755 */display: inline-block !important;position: relative;}#sk-container-id-9 div.sk-text-repr-fallback {display: none;}</style><div id=\"sk-container-id-9\" class=\"sk-top-container\"><div class=\"sk-text-repr-fallback\"><pre>GridSearchCV(cv=5, estimator=SVR(),\n",
       "             param_grid={&#x27;C&#x27;: [0.1, 1, 10, 100, 1000],\n",
       "                         &#x27;epsilon&#x27;: [0.1, 0.2, 0.3],\n",
       "                         &#x27;gamma&#x27;: [1, 0.1, 0.01, 0.001, 0.0001],\n",
       "                         &#x27;kernel&#x27;: [&#x27;linear&#x27;]},\n",
       "             verbose=3)</pre><b>In a Jupyter environment, please rerun this cell to show the HTML representation or trust the notebook. <br />On GitHub, the HTML representation is unable to render, please try loading this page with nbviewer.org.</b></div><div class=\"sk-container\" hidden><div class=\"sk-item sk-dashed-wrapped\"><div class=\"sk-label-container\"><div class=\"sk-label sk-toggleable\"><input class=\"sk-toggleable__control sk-hidden--visually\" id=\"sk-estimator-id-21\" type=\"checkbox\" ><label for=\"sk-estimator-id-21\" class=\"sk-toggleable__label sk-toggleable__label-arrow\">GridSearchCV</label><div class=\"sk-toggleable__content\"><pre>GridSearchCV(cv=5, estimator=SVR(),\n",
       "             param_grid={&#x27;C&#x27;: [0.1, 1, 10, 100, 1000],\n",
       "                         &#x27;epsilon&#x27;: [0.1, 0.2, 0.3],\n",
       "                         &#x27;gamma&#x27;: [1, 0.1, 0.01, 0.001, 0.0001],\n",
       "                         &#x27;kernel&#x27;: [&#x27;linear&#x27;]},\n",
       "             verbose=3)</pre></div></div></div><div class=\"sk-parallel\"><div class=\"sk-parallel-item\"><div class=\"sk-item\"><div class=\"sk-label-container\"><div class=\"sk-label sk-toggleable\"><input class=\"sk-toggleable__control sk-hidden--visually\" id=\"sk-estimator-id-22\" type=\"checkbox\" ><label for=\"sk-estimator-id-22\" class=\"sk-toggleable__label sk-toggleable__label-arrow\">estimator: SVR</label><div class=\"sk-toggleable__content\"><pre>SVR()</pre></div></div></div><div class=\"sk-serial\"><div class=\"sk-item\"><div class=\"sk-estimator sk-toggleable\"><input class=\"sk-toggleable__control sk-hidden--visually\" id=\"sk-estimator-id-23\" type=\"checkbox\" ><label for=\"sk-estimator-id-23\" class=\"sk-toggleable__label sk-toggleable__label-arrow\">SVR</label><div class=\"sk-toggleable__content\"><pre>SVR()</pre></div></div></div></div></div></div></div></div></div></div>"
      ],
      "text/plain": [
       "GridSearchCV(cv=5, estimator=SVR(),\n",
       "             param_grid={'C': [0.1, 1, 10, 100, 1000],\n",
       "                         'epsilon': [0.1, 0.2, 0.3],\n",
       "                         'gamma': [1, 0.1, 0.01, 0.001, 0.0001],\n",
       "                         'kernel': ['linear']},\n",
       "             verbose=3)"
      ]
     },
     "execution_count": 110,
     "metadata": {},
     "output_type": "execute_result"
    }
   ],
   "source": [
    "grid.fit(x_train,y_train)"
   ]
  },
  {
   "cell_type": "code",
   "execution_count": 111,
   "id": "8afa9742-fc64-4758-abd2-b81bc164942b",
   "metadata": {},
   "outputs": [
    {
     "data": {
      "text/plain": [
       "{'C': 10, 'epsilon': 0.3, 'gamma': 1, 'kernel': 'linear'}"
      ]
     },
     "execution_count": 111,
     "metadata": {},
     "output_type": "execute_result"
    }
   ],
   "source": [
    "grid.best_params_"
   ]
  },
  {
   "cell_type": "code",
   "execution_count": 112,
   "id": "8218cfa1-8c62-4cc2-a04c-f8efcd325101",
   "metadata": {},
   "outputs": [
    {
     "name": "stdout",
     "output_type": "stream",
     "text": [
      "0.9966700766212327\n"
     ]
    }
   ],
   "source": [
    "##Prediction with hyperparmeter tunned measures\n",
    "y_pred_tunned=grid.predict(x_test)\n",
    "print(r2_score(y_test,y_pred_tunned))"
   ]
  },
  {
   "cell_type": "markdown",
   "id": "35ba74c7-c088-4156-9226-04ad24388de7",
   "metadata": {},
   "source": [
    "## SVM Kernels\n"
   ]
  },
  {
   "cell_type": "code",
   "execution_count": 1,
   "id": "f3c644e2-b2f5-4bbc-942a-4bb9c3784bc8",
   "metadata": {},
   "outputs": [],
   "source": [
    "import numpy as np \n",
    "import matplotlib.pyplot as plt\n",
    "x=np.linspace(-5.0,5.0,100)\n",
    "y=np.sqrt(10**2-x**2)\n",
    "y=np.hstack([y,-y]) #Horizontal Stack\n",
    "x=np.hstack([x,-x])"
   ]
  },
  {
   "cell_type": "code",
   "execution_count": 2,
   "id": "2597bdd6-457c-4874-9c47-ddbeae25573e",
   "metadata": {},
   "outputs": [],
   "source": [
    "x1=np.linspace(-5.0,5.0,100)\n",
    "y1=np.sqrt(5**2-x1**2)\n",
    "y1=np.hstack([y1,-y1])\n",
    "x1=np.hstack([x1,-x1])"
   ]
  },
  {
   "cell_type": "code",
   "execution_count": 3,
   "id": "eede486d-658a-44b9-a887-462d45923abb",
   "metadata": {},
   "outputs": [
    {
     "data": {
      "text/plain": [
       "<matplotlib.collections.PathCollection at 0x7f9a94f78460>"
      ]
     },
     "execution_count": 3,
     "metadata": {},
     "output_type": "execute_result"
    },
    {
     "data": {
      "image/png": "[encoded data removed]",
      "text/plain": [
       "<Figure size 640x480 with 1 Axes>"
      ]
     },
     "metadata": {},
     "output_type": "display_data"
    }
   ],
   "source": [
    "plt.scatter(y,x)\n",
    "plt.scatter(y1,x1)"
   ]
  },
  {
   "cell_type": "code",
   "execution_count": 4,
   "id": "7bbf3760-126f-4694-8cfa-a417ec1395b2",
   "metadata": {},
   "outputs": [
    {
     "name": "stderr",
     "output_type": "stream",
     "text": [
      "/tmp/ipykernel_3377/2668477581.py:6: FutureWarning: The frame.append method is deprecated and will be removed from pandas in a future version. Use pandas.concat instead.\n",
      "  df=df1.append(df2)\n"
     ]
    },
    {
     "data": {
      "text/html": [
       "<div>\n",
       "<style scoped>\n",
       "    .dataframe tbody tr th:only-of-type {\n",
       "        vertical-align: middle;\n",
       "    }\n",
       "\n",
       "    .dataframe tbody tr th {\n",
       "        vertical-align: top;\n",
       "    }\n",
       "\n",
       "    .dataframe thead th {\n",
       "        text-align: right;\n",
       "    }\n",
       "</style>\n",
       "<table border=\"1\" class=\"dataframe\">\n",
       "  <thead>\n",
       "    <tr style=\"text-align: right;\">\n",
       "      <th></th>\n",
       "      <th>X1</th>\n",
       "      <th>X2</th>\n",
       "      <th>Y</th>\n",
       "    </tr>\n",
       "  </thead>\n",
       "  <tbody>\n",
       "    <tr>\n",
       "      <th>0</th>\n",
       "      <td>8.660254</td>\n",
       "      <td>-5.00000</td>\n",
       "      <td>0</td>\n",
       "    </tr>\n",
       "    <tr>\n",
       "      <th>1</th>\n",
       "      <td>8.717792</td>\n",
       "      <td>-4.89899</td>\n",
       "      <td>0</td>\n",
       "    </tr>\n",
       "    <tr>\n",
       "      <th>2</th>\n",
       "      <td>8.773790</td>\n",
       "      <td>-4.79798</td>\n",
       "      <td>0</td>\n",
       "    </tr>\n",
       "    <tr>\n",
       "      <th>3</th>\n",
       "      <td>8.828277</td>\n",
       "      <td>-4.69697</td>\n",
       "      <td>0</td>\n",
       "    </tr>\n",
       "    <tr>\n",
       "      <th>4</th>\n",
       "      <td>8.881281</td>\n",
       "      <td>-4.59596</td>\n",
       "      <td>0</td>\n",
       "    </tr>\n",
       "  </tbody>\n",
       "</table>\n",
       "</div>"
      ],
      "text/plain": [
       "         X1       X2  Y\n",
       "0  8.660254 -5.00000  0\n",
       "1  8.717792 -4.89899  0\n",
       "2  8.773790 -4.79798  0\n",
       "3  8.828277 -4.69697  0\n",
       "4  8.881281 -4.59596  0"
      ]
     },
     "execution_count": 4,
     "metadata": {},
     "output_type": "execute_result"
    }
   ],
   "source": [
    "import pandas as pd\n",
    "df1=pd.DataFrame(np.vstack([y,x]).T,columns=[\"X1\",\"X2\"])\n",
    "df1['Y']=0\n",
    "df2=pd.DataFrame(np.vstack([y,x]).T,columns=[\"X1\",\"X2\"])\n",
    "df2[\"Y\"]=1\n",
    "df=df1.append(df2)\n",
    "df.head(5)"
   ]
  },
  {
   "cell_type": "code",
   "execution_count": 5,
   "id": "7d7634f7-e6fd-4e05-bc6e-2967f6f11716",
   "metadata": {},
   "outputs": [
    {
     "data": {
      "text/html": [
       "<div>\n",
       "<style scoped>\n",
       "    .dataframe tbody tr th:only-of-type {\n",
       "        vertical-align: middle;\n",
       "    }\n",
       "\n",
       "    .dataframe tbody tr th {\n",
       "        vertical-align: top;\n",
       "    }\n",
       "\n",
       "    .dataframe thead th {\n",
       "        text-align: right;\n",
       "    }\n",
       "</style>\n",
       "<table border=\"1\" class=\"dataframe\">\n",
       "  <thead>\n",
       "    <tr style=\"text-align: right;\">\n",
       "      <th></th>\n",
       "      <th>X1</th>\n",
       "      <th>X2</th>\n",
       "      <th>Y</th>\n",
       "    </tr>\n",
       "  </thead>\n",
       "  <tbody>\n",
       "    <tr>\n",
       "      <th>0</th>\n",
       "      <td>8.660254</td>\n",
       "      <td>-5.00000</td>\n",
       "      <td>0</td>\n",
       "    </tr>\n",
       "    <tr>\n",
       "      <th>1</th>\n",
       "      <td>8.717792</td>\n",
       "      <td>-4.89899</td>\n",
       "      <td>0</td>\n",
       "    </tr>\n",
       "    <tr>\n",
       "      <th>2</th>\n",
       "      <td>8.773790</td>\n",
       "      <td>-4.79798</td>\n",
       "      <td>0</td>\n",
       "    </tr>\n",
       "    <tr>\n",
       "      <th>3</th>\n",
       "      <td>8.828277</td>\n",
       "      <td>-4.69697</td>\n",
       "      <td>0</td>\n",
       "    </tr>\n",
       "    <tr>\n",
       "      <th>4</th>\n",
       "      <td>8.881281</td>\n",
       "      <td>-4.59596</td>\n",
       "      <td>0</td>\n",
       "    </tr>\n",
       "  </tbody>\n",
       "</table>\n",
       "</div>"
      ],
      "text/plain": [
       "         X1       X2  Y\n",
       "0  8.660254 -5.00000  0\n",
       "1  8.717792 -4.89899  0\n",
       "2  8.773790 -4.79798  0\n",
       "3  8.828277 -4.69697  0\n",
       "4  8.881281 -4.59596  0"
      ]
     },
     "execution_count": 5,
     "metadata": {},
     "output_type": "execute_result"
    }
   ],
   "source": [
    "df.head()"
   ]
  },
  {
   "cell_type": "code",
   "execution_count": 6,
   "id": "4a7ac526-3adf-41ed-8dfa-fe729396c3eb",
   "metadata": {},
   "outputs": [
    {
     "data": {
      "text/html": [
       "<div>\n",
       "<style scoped>\n",
       "    .dataframe tbody tr th:only-of-type {\n",
       "        vertical-align: middle;\n",
       "    }\n",
       "\n",
       "    .dataframe tbody tr th {\n",
       "        vertical-align: top;\n",
       "    }\n",
       "\n",
       "    .dataframe thead th {\n",
       "        text-align: right;\n",
       "    }\n",
       "</style>\n",
       "<table border=\"1\" class=\"dataframe\">\n",
       "  <thead>\n",
       "    <tr style=\"text-align: right;\">\n",
       "      <th></th>\n",
       "      <th>X1</th>\n",
       "      <th>X2</th>\n",
       "      <th>Y</th>\n",
       "    </tr>\n",
       "  </thead>\n",
       "  <tbody>\n",
       "    <tr>\n",
       "      <th>195</th>\n",
       "      <td>-8.881281</td>\n",
       "      <td>-4.59596</td>\n",
       "      <td>1</td>\n",
       "    </tr>\n",
       "    <tr>\n",
       "      <th>196</th>\n",
       "      <td>-8.828277</td>\n",
       "      <td>-4.69697</td>\n",
       "      <td>1</td>\n",
       "    </tr>\n",
       "    <tr>\n",
       "      <th>197</th>\n",
       "      <td>-8.773790</td>\n",
       "      <td>-4.79798</td>\n",
       "      <td>1</td>\n",
       "    </tr>\n",
       "    <tr>\n",
       "      <th>198</th>\n",
       "      <td>-8.717792</td>\n",
       "      <td>-4.89899</td>\n",
       "      <td>1</td>\n",
       "    </tr>\n",
       "    <tr>\n",
       "      <th>199</th>\n",
       "      <td>-8.660254</td>\n",
       "      <td>-5.00000</td>\n",
       "      <td>1</td>\n",
       "    </tr>\n",
       "  </tbody>\n",
       "</table>\n",
       "</div>"
      ],
      "text/plain": [
       "           X1       X2  Y\n",
       "195 -8.881281 -4.59596  1\n",
       "196 -8.828277 -4.69697  1\n",
       "197 -8.773790 -4.79798  1\n",
       "198 -8.717792 -4.89899  1\n",
       "199 -8.660254 -5.00000  1"
      ]
     },
     "execution_count": 6,
     "metadata": {},
     "output_type": "execute_result"
    }
   ],
   "source": [
    "df.tail()"
   ]
  },
  {
   "cell_type": "markdown",
   "id": "74ba60ff-7743-4685-a4ae-deb6f1f5bea9",
   "metadata": {},
   "source": [
    "## Based on the formula find the componenets for the Polynomial kernel"
   ]
  },
  {
   "cell_type": "code",
   "execution_count": 7,
   "id": "27a1553d-2feb-4446-b085-70bd52b18438",
   "metadata": {},
   "outputs": [
    {
     "data": {
      "text/html": [
       "<div>\n",
       "<style scoped>\n",
       "    .dataframe tbody tr th:only-of-type {\n",
       "        vertical-align: middle;\n",
       "    }\n",
       "\n",
       "    .dataframe tbody tr th {\n",
       "        vertical-align: top;\n",
       "    }\n",
       "\n",
       "    .dataframe thead th {\n",
       "        text-align: right;\n",
       "    }\n",
       "</style>\n",
       "<table border=\"1\" class=\"dataframe\">\n",
       "  <thead>\n",
       "    <tr style=\"text-align: right;\">\n",
       "      <th></th>\n",
       "      <th>X1</th>\n",
       "      <th>X2</th>\n",
       "      <th>Y</th>\n",
       "      <th>X1_Square</th>\n",
       "      <th>X2_Square</th>\n",
       "      <th>X1*X2</th>\n",
       "    </tr>\n",
       "  </thead>\n",
       "  <tbody>\n",
       "    <tr>\n",
       "      <th>0</th>\n",
       "      <td>8.660254</td>\n",
       "      <td>-5.00000</td>\n",
       "      <td>0</td>\n",
       "      <td>75.000000</td>\n",
       "      <td>25.000000</td>\n",
       "      <td>-43.301270</td>\n",
       "    </tr>\n",
       "    <tr>\n",
       "      <th>1</th>\n",
       "      <td>8.717792</td>\n",
       "      <td>-4.89899</td>\n",
       "      <td>0</td>\n",
       "      <td>75.999898</td>\n",
       "      <td>24.000102</td>\n",
       "      <td>-42.708375</td>\n",
       "    </tr>\n",
       "    <tr>\n",
       "      <th>2</th>\n",
       "      <td>8.773790</td>\n",
       "      <td>-4.79798</td>\n",
       "      <td>0</td>\n",
       "      <td>76.979390</td>\n",
       "      <td>23.020610</td>\n",
       "      <td>-42.096467</td>\n",
       "    </tr>\n",
       "    <tr>\n",
       "      <th>3</th>\n",
       "      <td>8.828277</td>\n",
       "      <td>-4.69697</td>\n",
       "      <td>0</td>\n",
       "      <td>77.938476</td>\n",
       "      <td>22.061524</td>\n",
       "      <td>-41.466150</td>\n",
       "    </tr>\n",
       "    <tr>\n",
       "      <th>4</th>\n",
       "      <td>8.881281</td>\n",
       "      <td>-4.59596</td>\n",
       "      <td>0</td>\n",
       "      <td>78.877155</td>\n",
       "      <td>21.122845</td>\n",
       "      <td>-40.818009</td>\n",
       "    </tr>\n",
       "  </tbody>\n",
       "</table>\n",
       "</div>"
      ],
      "text/plain": [
       "         X1       X2  Y  X1_Square  X2_Square      X1*X2\n",
       "0  8.660254 -5.00000  0  75.000000  25.000000 -43.301270\n",
       "1  8.717792 -4.89899  0  75.999898  24.000102 -42.708375\n",
       "2  8.773790 -4.79798  0  76.979390  23.020610 -42.096467\n",
       "3  8.828277 -4.69697  0  77.938476  22.061524 -41.466150\n",
       "4  8.881281 -4.59596  0  78.877155  21.122845 -40.818009"
      ]
     },
     "execution_count": 7,
     "metadata": {},
     "output_type": "execute_result"
    }
   ],
   "source": [
    "df['X1_Square']=df['X1']**2\n",
    "df['X2_Square']=df['X2']**2\n",
    "df['X1*X2']=df['X1']*df['X2']\n",
    "df.head()"
   ]
  },
  {
   "cell_type": "code",
   "execution_count": 8,
   "id": "ded6a2e2-4ee6-48a2-b7c1-68ff7fa00d38",
   "metadata": {},
   "outputs": [],
   "source": [
    "### Independent and Dependent features\n",
    "X = df[['X1_Square','X2_Square','X1*X2']]\n",
    "y = df['Y']"
   ]
  },
  {
   "cell_type": "code",
   "execution_count": 9,
   "id": "8b7ad668-3e14-4979-a06b-63b48d06e1b9",
   "metadata": {},
   "outputs": [],
   "source": [
    "from sklearn.model_selection import train_test_split\n",
    "X_train, X_test, y_train, y_test = train_test_split(X, y,\n",
    "                                                    test_size = 0.25,\n",
    "                                                    random_state = 0)"
   ]
  },
  {
   "cell_type": "code",
   "execution_count": 10,
   "id": "f7dd20bc-f125-4bb4-9989-e99141bf852d",
   "metadata": {},
   "outputs": [
    {
     "data": {
      "text/html": [
       "<div>\n",
       "<style scoped>\n",
       "    .dataframe tbody tr th:only-of-type {\n",
       "        vertical-align: middle;\n",
       "    }\n",
       "\n",
       "    .dataframe tbody tr th {\n",
       "        vertical-align: top;\n",
       "    }\n",
       "\n",
       "    .dataframe thead th {\n",
       "        text-align: right;\n",
       "    }\n",
       "</style>\n",
       "<table border=\"1\" class=\"dataframe\">\n",
       "  <thead>\n",
       "    <tr style=\"text-align: right;\">\n",
       "      <th></th>\n",
       "      <th>X1_Square</th>\n",
       "      <th>X2_Square</th>\n",
       "      <th>X1*X2</th>\n",
       "    </tr>\n",
       "  </thead>\n",
       "  <tbody>\n",
       "    <tr>\n",
       "      <th>50</th>\n",
       "      <td>99.997449</td>\n",
       "      <td>0.002551</td>\n",
       "      <td>0.505044</td>\n",
       "    </tr>\n",
       "    <tr>\n",
       "      <th>63</th>\n",
       "      <td>98.140496</td>\n",
       "      <td>1.859504</td>\n",
       "      <td>13.508984</td>\n",
       "    </tr>\n",
       "    <tr>\n",
       "      <th>112</th>\n",
       "      <td>85.651974</td>\n",
       "      <td>14.348026</td>\n",
       "      <td>-35.056194</td>\n",
       "    </tr>\n",
       "    <tr>\n",
       "      <th>159</th>\n",
       "      <td>99.079176</td>\n",
       "      <td>0.920824</td>\n",
       "      <td>9.551676</td>\n",
       "    </tr>\n",
       "    <tr>\n",
       "      <th>83</th>\n",
       "      <td>88.549638</td>\n",
       "      <td>11.450362</td>\n",
       "      <td>31.842196</td>\n",
       "    </tr>\n",
       "  </tbody>\n",
       "</table>\n",
       "</div>"
      ],
      "text/plain": [
       "     X1_Square  X2_Square      X1*X2\n",
       "50   99.997449   0.002551   0.505044\n",
       "63   98.140496   1.859504  13.508984\n",
       "112  85.651974  14.348026 -35.056194\n",
       "159  99.079176   0.920824   9.551676\n",
       "83   88.549638  11.450362  31.842196"
      ]
     },
     "execution_count": 10,
     "metadata": {},
     "output_type": "execute_result"
    }
   ],
   "source": [
    "X_train.head()"
   ]
  },
  {
   "cell_type": "code",
   "execution_count": 11,
   "id": "66c67b86-15a0-4843-b15e-d59b1672619d",
   "metadata": {},
   "outputs": [],
   "source": [
    "import matplotlib.pyplot as plt\n",
    "%matplotlib inline"
   ]
  },
  {
   "cell_type": "code",
   "execution_count": 12,
   "id": "be40e593-efdf-4e07-83e3-64a2b5c67707",
   "metadata": {},
   "outputs": [
    {
     "name": "stdout",
     "output_type": "stream",
     "text": [
      "Requirement already satisfied: plotly in /opt/conda/lib/python3.10/site-packages (5.19.0)\n",
      "Requirement already satisfied: packaging in /opt/conda/lib/python3.10/site-packages (from plotly) (22.0)\n",
      "Requirement already satisfied: tenacity>=6.2.0 in /opt/conda/lib/python3.10/site-packages (from plotly) (8.2.3)\n"
     ]
    }
   ],
   "source": [
    "! pip install plotly"
   ]
  },
  {
   "cell_type": "code",
   "execution_count": 15,
   "id": "b0d8d1af-f89c-41c3-a584-ab5de2f7879b",
   "metadata": {},
   "outputs": [
    {
     "data": {
      "application/vnd.plotly.v1+json": {
       "config": {
        "plotlyServerURL": "https://plot.ly"
       },
       "data": [
        {
         "hovertemplate": "X1_Square=%{x}<br>X2_Square=%{y}<br>X1*X2=%{z}<br>Y=%{marker.color}<extra></extra>",
         "legendgroup": "",
         "marker": {
          "color": [
           0,
           0,
           0,
           0,
           0,
           0,
           0,
           0,
           0,
           0,
           0,
           0,
           0,
           0,
           0,
           0,
           0,
           0,
           0,
           0,
           0,
           0,
           0,
           0,
           0,
           0,
           0,
           0,
           0,
           0,
           0,
           0,
           0,
           0,
           0,
           0,
           0,
           0,
           0,
           0,
           0,
           0,
           0,
           0,
           0,
           0,
           0,
           0,
           0,
           0,
           0,
           0,
           0,
           0,
           0,
           0,
           0,
           0,
           0,
           0,
           0,
           0,
           0,
           0,
           0,
           0,
           0,
           0,
           0,
           0,
           0,
           0,
           0,
           0,
           0,
           0,
           0,
           0,
           0,
           0,
           0,
           0,
           0,
           0,
           0,
           0,
           0,
           0,
           0,
           0,
           0,
           0,
           0,
           0,
           0,
           0,
           0,
           0,
           0,
           0,
           0,
           0,
           0,
           0,
           0,
           0,
           0,
           0,
           0,
           0,
           0,
           0,
           0,
           0,
           0,
           0,
           0,
           0,
           0,
           0,
           0,
           0,
           0,
           0,
           0,
           0,
           0,
           0,
           0,
           0,
           0,
           0,
           0,
           0,
           0,
           0,
           0,
           0,
           0,
           0,
           0,
           0,
           0,
           0,
           0,
           0,
           0,
           0,
           0,
           0,
           0,
           0,
           0,
           0,
           0,
           0,
           0,
           0,
           0,
           0,
           0,
           0,
           0,
           0,
           0,
           0,
           0,
           0,
           0,
           0,
           0,
           0,
           0,
           0,
           0,
           0,
           0,
           0,
           0,
           0,
           0,
           0,
           0,
           0,
           0,
           0,
           0,
           0,
           0,
           0,
           0,
           0,
           0,
           0,
           0,
           0,
           0,
           0,
           0,
           0,
           1,
           1,
           1,
           1,
           1,
           1,
           1,
           1,
           1,
           1,
           1,
           1,
           1,
           1,
           1,
           1,
           1,
           1,
           1,
           1,
           1,
           1,
           1,
           1,
           1,
           1,
           1,
           1,
           1,
           1,
           1,
           1,
           1,
           1,
           1,
           1,
           1,
           1,
           1,
           1,
           1,
           1,
           1,
           1,
           1,
           1,
           1,
           1,
           1,
           1,
           1,
           1,
           1,
           1,
           1,
           1,
           1,
           1,
           1,
           1,
           1,
           1,
           1,
           1,
           1,
           1,
           1,
           1,
           1,
           1,
           1,
           1,
           1,
           1,
           1,
           1,
           1,
           1,
           1,
           1,
           1,
           1,
           1,
           1,
           1,
           1,
           1,
           1,
           1,
           1,
           1,
           1,
           1,
           1,
           1,
           1,
           1,
           1,
           1,
           1,
           1,
           1,
           1,
           1,
           1,
           1,
           1,
           1,
           1,
           1,
           1,
           1,
           1,
           1,
           1,
           1,
           1,
           1,
           1,
           1,
           1,
           1,
           1,
           1,
           1,
           1,
           1,
           1,
           1,
           1,
           1,
           1,
           1,
           1,
           1,
           1,
           1,
           1,
           1,
           1,
           1,
           1,
           1,
           1,
           1,
           1,
           1,
           1,
           1,
           1,
           1,
           1,
           1,
           1,
           1,
           1,
           1,
           1,
           1,
           1,
           1,
           1,
           1,
           1,
           1,
           1,
           1,
           1,
           1,
           1,
           1,
           1,
           1,
           1,
           1,
           1,
           1,
           1,
           1,
           1,
           1,
           1,
           1,
           1,
           1,
           1,
           1,
           1,
           1,
           1,
           1,
           1,
           1,
           1,
           1,
           1,
           1,
           1,
           1,
           1
          ],
          "coloraxis": "coloraxis",
          "symbol": "circle"
         },
         "mode": "markers",
         "name": "",
         "scene": "scene",
         "showlegend": false,
         "type": "scatter3d",
         "x": [
          75.00000000000001,
          75.99989796959494,
          76.97938985817774,
          77.93847566574841,
          78.87715539230689,
          79.79542903785328,
          80.69329660238752,
          81.57075808590962,
          82.42781348841956,
          83.26446280991735,
          84.08070605040302,
          84.87654320987653,
          85.65197428833793,
          86.40699928578718,
          87.14161820222425,
          87.85583103764922,
          88.54963779206203,
          89.2230384654627,
          89.87603305785123,
          90.50862156922764,
          91.12080399959189,
          91.71258034894397,
          92.28395061728395,
          92.83491480461178,
          93.36547291092745,
          93.87562493623098,
          94.36537088052238,
          94.83471074380165,
          95.28364452606877,
          95.71217222732375,
          96.12029384756657,
          96.50800938679727,
          96.87531884501581,
          97.22222222222224,
          97.54871951841648,
          97.8548107335986,
          98.14049586776859,
          98.40577492092645,
          98.65064789307212,
          98.87511478420569,
          99.0791755943271,
          99.2628303234364,
          99.42607897153351,
          99.5689215386185,
          99.69135802469137,
          99.79338842975206,
          99.87501275380063,
          99.93623099683704,
          99.97704315886133,
          99.99744923987349,
          99.99744923987349,
          99.97704315886133,
          99.93623099683704,
          99.87501275380063,
          99.79338842975206,
          99.69135802469137,
          99.5689215386185,
          99.42607897153351,
          99.2628303234364,
          99.0791755943271,
          98.87511478420569,
          98.65064789307212,
          98.40577492092645,
          98.14049586776859,
          97.8548107335986,
          97.54871951841648,
          97.22222222222224,
          96.87531884501581,
          96.50800938679727,
          96.12029384756657,
          95.71217222732375,
          95.28364452606877,
          94.83471074380165,
          94.36537088052238,
          93.87562493623098,
          93.36547291092748,
          92.83491480461178,
          92.28395061728395,
          91.71258034894397,
          91.12080399959189,
          90.50862156922764,
          89.87603305785123,
          89.2230384654627,
          88.54963779206203,
          87.85583103764922,
          87.14161820222425,
          86.40699928578718,
          85.65197428833793,
          84.87654320987653,
          84.08070605040302,
          83.26446280991735,
          82.42781348841956,
          81.57075808590962,
          80.69329660238752,
          79.79542903785328,
          78.87715539230693,
          77.93847566574841,
          76.97938985817774,
          75.99989796959494,
          75.00000000000001,
          75.00000000000001,
          75.99989796959494,
          76.97938985817774,
          77.93847566574841,
          78.87715539230689,
          79.79542903785328,
          80.69329660238752,
          81.57075808590962,
          82.42781348841956,
          83.26446280991735,
          84.08070605040302,
          84.87654320987653,
          85.65197428833793,
          86.40699928578718,
          87.14161820222425,
          87.85583103764922,
          88.54963779206203,
          89.2230384654627,
          89.87603305785123,
          90.50862156922764,
          91.12080399959189,
          91.71258034894397,
          92.28395061728395,
          92.83491480461178,
          93.36547291092745,
          93.87562493623098,
          94.36537088052238,
          94.83471074380165,
          95.28364452606877,
          95.71217222732375,
          96.12029384756657,
          96.50800938679727,
          96.87531884501581,
          97.22222222222224,
          97.54871951841648,
          97.8548107335986,
          98.14049586776859,
          98.40577492092645,
          98.65064789307212,
          98.87511478420569,
          99.0791755943271,
          99.2628303234364,
          99.42607897153351,
          99.5689215386185,
          99.69135802469137,
          99.79338842975206,
          99.87501275380063,
          99.93623099683704,
          99.97704315886133,
          99.99744923987349,
          99.99744923987349,
          99.97704315886133,
          99.93623099683704,
          99.87501275380063,
          99.79338842975206,
          99.69135802469137,
          99.5689215386185,
          99.42607897153351,
          99.2628303234364,
          99.0791755943271,
          98.87511478420569,
          98.65064789307212,
          98.40577492092645,
          98.14049586776859,
          97.8548107335986,
          97.54871951841648,
          97.22222222222224,
          96.87531884501581,
          96.50800938679727,
          96.12029384756657,
          95.71217222732375,
          95.28364452606877,
          94.83471074380165,
          94.36537088052238,
          93.87562493623098,
          93.36547291092748,
          92.83491480461178,
          92.28395061728395,
          91.71258034894397,
          91.12080399959189,
          90.50862156922764,
          89.87603305785123,
          89.2230384654627,
          88.54963779206203,
          87.85583103764922,
          87.14161820222425,
          86.40699928578718,
          85.65197428833793,
          84.87654320987653,
          84.08070605040302,
          83.26446280991735,
          82.42781348841956,
          81.57075808590962,
          80.69329660238752,
          79.79542903785328,
          78.87715539230693,
          77.93847566574841,
          76.97938985817774,
          75.99989796959494,
          75.00000000000001,
          75.00000000000001,
          75.99989796959494,
          76.97938985817774,
          77.93847566574841,
          78.87715539230689,
          79.79542903785328,
          80.69329660238752,
          81.57075808590962,
          82.42781348841956,
          83.26446280991735,
          84.08070605040302,
          84.87654320987653,
          85.65197428833793,
          86.40699928578718,
          87.14161820222425,
          87.85583103764922,
          88.54963779206203,
          89.2230384654627,
          89.87603305785123,
          90.50862156922764,
          91.12080399959189,
          91.71258034894397,
          92.28395061728395,
          92.83491480461178,
          93.36547291092745,
          93.87562493623098,
          94.36537088052238,
          94.83471074380165,
          95.28364452606877,
          95.71217222732375,
          96.12029384756657,
          96.50800938679727,
          96.87531884501581,
          97.22222222222224,
          97.54871951841648,
          97.8548107335986,
          98.14049586776859,
          98.40577492092645,
          98.65064789307212,
          98.87511478420569,
          99.0791755943271,
          99.2628303234364,
          99.42607897153351,
          99.5689215386185,
          99.69135802469137,
          99.79338842975206,
          99.87501275380063,
          99.93623099683704,
          99.97704315886133,
          99.99744923987349,
          99.99744923987349,
          99.97704315886133,
          99.93623099683704,
          99.87501275380063,
          99.79338842975206,
          99.69135802469137,
          99.5689215386185,
          99.42607897153351,
          99.2628303234364,
          99.0791755943271,
          98.87511478420569,
          98.65064789307212,
          98.40577492092645,
          98.14049586776859,
          97.8548107335986,
          97.54871951841648,
          97.22222222222224,
          96.87531884501581,
          96.50800938679727,
          96.12029384756657,
          95.71217222732375,
          95.28364452606877,
          94.83471074380165,
          94.36537088052238,
          93.87562493623098,
          93.36547291092748,
          92.83491480461178,
          92.28395061728395,
          91.71258034894397,
          91.12080399959189,
          90.50862156922764,
          89.87603305785123,
          89.2230384654627,
          88.54963779206203,
          87.85583103764922,
          87.14161820222425,
          86.40699928578718,
          85.65197428833793,
          84.87654320987653,
          84.08070605040302,
          83.26446280991735,
          82.42781348841956,
          81.57075808590962,
          80.69329660238752,
          79.79542903785328,
          78.87715539230693,
          77.93847566574841,
          76.97938985817774,
          75.99989796959494,
          75.00000000000001,
          75.00000000000001,
          75.99989796959494,
          76.97938985817774,
          77.93847566574841,
          78.87715539230689,
          79.79542903785328,
          80.69329660238752,
          81.57075808590962,
          82.42781348841956,
          83.26446280991735,
          84.08070605040302,
          84.87654320987653,
          85.65197428833793,
          86.40699928578718,
          87.14161820222425,
          87.85583103764922,
          88.54963779206203,
          89.2230384654627,
          89.87603305785123,
          90.50862156922764,
          91.12080399959189,
          91.71258034894397,
          92.28395061728395,
          92.83491480461178,
          93.36547291092745,
          93.87562493623098,
          94.36537088052238,
          94.83471074380165,
          95.28364452606877,
          95.71217222732375,
          96.12029384756657,
          96.50800938679727,
          96.87531884501581,
          97.22222222222224,
          97.54871951841648,
          97.8548107335986,
          98.14049586776859,
          98.40577492092645,
          98.65064789307212,
          98.87511478420569,
          99.0791755943271,
          99.2628303234364,
          99.42607897153351,
          99.5689215386185,
          99.69135802469137,
          99.79338842975206,
          99.87501275380063,
          99.93623099683704,
          99.97704315886133,
          99.99744923987349,
          99.99744923987349,
          99.97704315886133,
          99.93623099683704,
          99.87501275380063,
          99.79338842975206,
          99.69135802469137,
          99.5689215386185,
          99.42607897153351,
          99.2628303234364,
          99.0791755943271,
          98.87511478420569,
          98.65064789307212,
          98.40577492092645,
          98.14049586776859,
          97.8548107335986,
          97.54871951841648,
          97.22222222222224,
          96.87531884501581,
          96.50800938679727,
          96.12029384756657,
          95.71217222732375,
          95.28364452606877,
          94.83471074380165,
          94.36537088052238,
          93.87562493623098,
          93.36547291092748,
          92.83491480461178,
          92.28395061728395,
          91.71258034894397,
          91.12080399959189,
          90.50862156922764,
          89.87603305785123,
          89.2230384654627,
          88.54963779206203,
          87.85583103764922,
          87.14161820222425,
          86.40699928578718,
          85.65197428833793,
          84.87654320987653,
          84.08070605040302,
          83.26446280991735,
          82.42781348841956,
          81.57075808590962,
          80.69329660238752,
          79.79542903785328,
          78.87715539230693,
          77.93847566574841,
          76.97938985817774,
          75.99989796959494,
          75.00000000000001
         ],
         "y": [
          25,
          24.00010203040506,
          23.02061014182226,
          22.061524334251608,
          21.122844607693093,
          20.204570962146718,
          19.306703397612484,
          18.4292419140904,
          17.57218651158045,
          16.735537190082646,
          15.919293949596977,
          15.123456790123456,
          14.348025711662077,
          13.593000714212835,
          12.858381797775735,
          12.144168962350781,
          11.450362207937967,
          10.776961534537293,
          10.12396694214876,
          9.49137843077237,
          8.87919600040812,
          8.287419651056016,
          7.716049382716049,
          7.165085195388227,
          6.634527089072543,
          6.124375063769004,
          5.634629119477604,
          5.165289256198348,
          4.716355473931231,
          4.287827772676258,
          3.879706152433425,
          3.491990613202735,
          3.1246811549841853,
          2.7777777777777772,
          2.4512804815835123,
          2.1451892664013874,
          1.8595041322314052,
          1.5942250790735637,
          1.349352106927865,
          1.1248852157943066,
          0.92082440567289,
          0.7371696765636166,
          0.5739210284664833,
          0.4310784613814917,
          0.30864197530864174,
          0.20661157024793433,
          0.1249872461993676,
          0.0637690031629426,
          0.02295684113865928,
          0.002550760126517668,
          0.002550760126517668,
          0.02295684113865928,
          0.0637690031629426,
          0.1249872461993676,
          0.20661157024793353,
          0.30864197530864174,
          0.4310784613814917,
          0.5739210284664833,
          0.7371696765636152,
          0.92082440567289,
          1.1248852157943066,
          1.349352106927865,
          1.5942250790735626,
          1.859504132231404,
          2.1451892664013874,
          2.4512804815835123,
          2.7777777777777786,
          3.124681154984184,
          3.491990613202734,
          3.879706152433425,
          4.287827772676258,
          4.7163554739312294,
          5.165289256198346,
          5.634629119477604,
          6.124375063769004,
          6.634527089072541,
          7.165085195388224,
          7.716049382716049,
          8.287419651056016,
          8.879196000408118,
          9.491378430772373,
          10.12396694214876,
          10.776961534537287,
          11.450362207937967,
          12.144168962350777,
          12.858381797775742,
          13.593000714212835,
          14.34802571166207,
          15.12345679012346,
          15.919293949596977,
          16.73553719008264,
          17.57218651158045,
          18.429241914090394,
          19.306703397612495,
          20.204570962146718,
          21.122844607693086,
          22.061524334251608,
          23.02061014182226,
          24.000102030405067,
          25,
          25,
          24.00010203040506,
          23.02061014182226,
          22.061524334251608,
          21.122844607693093,
          20.204570962146718,
          19.306703397612484,
          18.4292419140904,
          17.57218651158045,
          16.735537190082646,
          15.919293949596977,
          15.123456790123456,
          14.348025711662077,
          13.593000714212835,
          12.858381797775735,
          12.144168962350781,
          11.450362207937967,
          10.776961534537293,
          10.12396694214876,
          9.49137843077237,
          8.87919600040812,
          8.287419651056016,
          7.716049382716049,
          7.165085195388227,
          6.634527089072543,
          6.124375063769004,
          5.634629119477604,
          5.165289256198348,
          4.716355473931231,
          4.287827772676258,
          3.879706152433425,
          3.491990613202735,
          3.1246811549841853,
          2.7777777777777772,
          2.4512804815835123,
          2.1451892664013874,
          1.8595041322314052,
          1.5942250790735637,
          1.349352106927865,
          1.1248852157943066,
          0.92082440567289,
          0.7371696765636166,
          0.5739210284664833,
          0.4310784613814917,
          0.30864197530864174,
          0.20661157024793433,
          0.1249872461993676,
          0.0637690031629426,
          0.02295684113865928,
          0.002550760126517668,
          0.002550760126517668,
          0.02295684113865928,
          0.0637690031629426,
          0.1249872461993676,
          0.20661157024793353,
          0.30864197530864174,
          0.4310784613814917,
          0.5739210284664833,
          0.7371696765636152,
          0.92082440567289,
          1.1248852157943066,
          1.349352106927865,
          1.5942250790735626,
          1.859504132231404,
          2.1451892664013874,
          2.4512804815835123,
          2.7777777777777786,
          3.124681154984184,
          3.491990613202734,
          3.879706152433425,
          4.287827772676258,
          4.7163554739312294,
          5.165289256198346,
          5.634629119477604,
          6.124375063769004,
          6.634527089072541,
          7.165085195388224,
          7.716049382716049,
          8.287419651056016,
          8.879196000408118,
          9.491378430772373,
          10.12396694214876,
          10.776961534537287,
          11.450362207937967,
          12.144168962350777,
          12.858381797775742,
          13.593000714212835,
          14.34802571166207,
          15.12345679012346,
          15.919293949596977,
          16.73553719008264,
          17.57218651158045,
          18.429241914090394,
          19.306703397612495,
          20.204570962146718,
          21.122844607693086,
          22.061524334251608,
          23.02061014182226,
          24.000102030405067,
          25,
          25,
          24.00010203040506,
          23.02061014182226,
          22.061524334251608,
          21.122844607693093,
          20.204570962146718,
          19.306703397612484,
          18.4292419140904,
          17.57218651158045,
          16.735537190082646,
          15.919293949596977,
          15.123456790123456,
          14.348025711662077,
          13.593000714212835,
          12.858381797775735,
          12.144168962350781,
          11.450362207937967,
          10.776961534537293,
          10.12396694214876,
          9.49137843077237,
          8.87919600040812,
          8.287419651056016,
          7.716049382716049,
          7.165085195388227,
          6.634527089072543,
          6.124375063769004,
          5.634629119477604,
          5.165289256198348,
          4.716355473931231,
          4.287827772676258,
          3.879706152433425,
          3.491990613202735,
          3.1246811549841853,
          2.7777777777777772,
          2.4512804815835123,
          2.1451892664013874,
          1.8595041322314052,
          1.5942250790735637,
          1.349352106927865,
          1.1248852157943066,
          0.92082440567289,
          0.7371696765636166,
          0.5739210284664833,
          0.4310784613814917,
          0.30864197530864174,
          0.20661157024793433,
          0.1249872461993676,
          0.0637690031629426,
          0.02295684113865928,
          0.002550760126517668,
          0.002550760126517668,
          0.02295684113865928,
          0.0637690031629426,
          0.1249872461993676,
          0.20661157024793353,
          0.30864197530864174,
          0.4310784613814917,
          0.5739210284664833,
          0.7371696765636152,
          0.92082440567289,
          1.1248852157943066,
          1.349352106927865,
          1.5942250790735626,
          1.859504132231404,
          2.1451892664013874,
          2.4512804815835123,
          2.7777777777777786,
          3.124681154984184,
          3.491990613202734,
          3.879706152433425,
          4.287827772676258,
          4.7163554739312294,
          5.165289256198346,
          5.634629119477604,
          6.124375063769004,
          6.634527089072541,
          7.165085195388224,
          7.716049382716049,
          8.287419651056016,
          8.879196000408118,
          9.491378430772373,
          10.12396694214876,
          10.776961534537287,
          11.450362207937967,
          12.144168962350777,
          12.858381797775742,
          13.593000714212835,
          14.34802571166207,
          15.12345679012346,
          15.919293949596977,
          16.73553719008264,
          17.57218651158045,
          18.429241914090394,
          19.306703397612495,
          20.204570962146718,
          21.122844607693086,
          22.061524334251608,
          23.02061014182226,
          24.000102030405067,
          25,
          25,
          24.00010203040506,
          23.02061014182226,
          22.061524334251608,
          21.122844607693093,
          20.204570962146718,
          19.306703397612484,
          18.4292419140904,
          17.57218651158045,
          16.735537190082646,
          15.919293949596977,
          15.123456790123456,
          14.348025711662077,
          13.593000714212835,
          12.858381797775735,
          12.144168962350781,
          11.450362207937967,
          10.776961534537293,
          10.12396694214876,
          9.49137843077237,
          8.87919600040812,
          8.287419651056016,
          7.716049382716049,
          7.165085195388227,
          6.634527089072543,
          6.124375063769004,
          5.634629119477604,
          5.165289256198348,
          4.716355473931231,
          4.287827772676258,
          3.879706152433425,
          3.491990613202735,
          3.1246811549841853,
          2.7777777777777772,
          2.4512804815835123,
          2.1451892664013874,
          1.8595041322314052,
          1.5942250790735637,
          1.349352106927865,
          1.1248852157943066,
          0.92082440567289,
          0.7371696765636166,
          0.5739210284664833,
          0.4310784613814917,
          0.30864197530864174,
          0.20661157024793433,
          0.1249872461993676,
          0.0637690031629426,
          0.02295684113865928,
          0.002550760126517668,
          0.002550760126517668,
          0.02295684113865928,
          0.0637690031629426,
          0.1249872461993676,
          0.20661157024793353,
          0.30864197530864174,
          0.4310784613814917,
          0.5739210284664833,
          0.7371696765636152,
          0.92082440567289,
          1.1248852157943066,
          1.349352106927865,
          1.5942250790735626,
          1.859504132231404,
          2.1451892664013874,
          2.4512804815835123,
          2.7777777777777786,
          3.124681154984184,
          3.491990613202734,
          3.879706152433425,
          4.287827772676258,
          4.7163554739312294,
          5.165289256198346,
          5.634629119477604,
          6.124375063769004,
          6.634527089072541,
          7.165085195388224,
          7.716049382716049,
          8.287419651056016,
          8.879196000408118,
          9.491378430772373,
          10.12396694214876,
          10.776961534537287,
          11.450362207937967,
          12.144168962350777,
          12.858381797775742,
          13.593000714212835,
          14.34802571166207,
          15.12345679012346,
          15.919293949596977,
          16.73553719008264,
          17.57218651158045,
          18.429241914090394,
          19.306703397612495,
          20.204570962146718,
          21.122844607693086,
          22.061524334251608,
          23.02061014182226,
          24.000102030405067,
          25
         ],
         "z": [
          -43.30127018922194,
          -42.708375122107526,
          -42.09646686932831,
          -41.466149778757924,
          -40.81800946210581,
          -40.15261396783838,
          -39.47051486461593,
          -38.77224824382736,
          -38.05833564884669,
          -37.329284937802186,
          -36.585591085918274,
          -35.827736932851536,
          -35.056193879879366,
          -34.271422541305355,
          -33.47387335400854,
          -32.66398714867727,
          -31.84219568592629,
          -31.00892216019178,
          -30.164581674028813,
          -29.309581685194797,
          -28.444322428687745,
          -27.569197315716178,
          -26.68459331140522,
          -25.79089129288965,
          -24.88846638930605,
          -23.97768830507196,
          -23.058921627727855,
          -22.1325261215171,
          -21.198857007787993,
          -20.258265233220044,
          -19.311097726802398,
          -18.35769764642553,
          -17.39840461588663,
          -16.43355495305449,
          -15.463481889890094,
          -14.48851578497449,
          -13.50898432915498,
          -12.525212744884188,
          -11.537523979793749,
          -10.546238895014566,
          -9.5516764487291,
          -8.554153875417297,
          -7.55398686123641,
          -6.551489715956374,
          -5.546975541855377,
          -4.540756399966102,
          -3.533143474050305,
          -2.5244472326689387,
          -1.5149775897058222,
          -0.5050440636959747,
          0.5050440636959747,
          1.5149775897058222,
          2.5244472326689387,
          3.533143474050305,
          4.540756399966093,
          5.546975541855377,
          6.551489715956374,
          7.55398686123641,
          8.554153875417288,
          9.5516764487291,
          10.546238895014566,
          11.537523979793749,
          12.525212744884183,
          13.508984329154977,
          14.48851578497449,
          15.463481889890094,
          16.433554953054493,
          17.398404615886626,
          18.357697646425528,
          19.311097726802398,
          20.258265233220044,
          21.198857007787986,
          22.132526121517095,
          23.058921627727855,
          23.97768830507196,
          24.88846638930605,
          25.790891292889647,
          26.68459331140522,
          27.569197315716178,
          28.444322428687737,
          29.3095816851948,
          30.164581674028813,
          31.00892216019177,
          31.84219568592629,
          32.66398714867727,
          33.47387335400855,
          34.271422541305355,
          35.05619387987936,
          35.82773693285154,
          36.585591085918274,
          37.32928493780218,
          38.05833564884669,
          38.772248243827356,
          39.470514864615936,
          40.15261396783838,
          40.81800946210581,
          41.466149778757924,
          42.09646686932831,
          42.70837512210753,
          43.30127018922194,
          -43.30127018922194,
          -42.708375122107526,
          -42.09646686932831,
          -41.466149778757924,
          -40.81800946210581,
          -40.15261396783838,
          -39.47051486461593,
          -38.77224824382736,
          -38.05833564884669,
          -37.329284937802186,
          -36.585591085918274,
          -35.827736932851536,
          -35.056193879879366,
          -34.271422541305355,
          -33.47387335400854,
          -32.66398714867727,
          -31.84219568592629,
          -31.00892216019178,
          -30.164581674028813,
          -29.309581685194797,
          -28.444322428687745,
          -27.569197315716178,
          -26.68459331140522,
          -25.79089129288965,
          -24.88846638930605,
          -23.97768830507196,
          -23.058921627727855,
          -22.1325261215171,
          -21.198857007787993,
          -20.258265233220044,
          -19.311097726802398,
          -18.35769764642553,
          -17.39840461588663,
          -16.43355495305449,
          -15.463481889890094,
          -14.48851578497449,
          -13.50898432915498,
          -12.525212744884188,
          -11.537523979793749,
          -10.546238895014566,
          -9.5516764487291,
          -8.554153875417297,
          -7.55398686123641,
          -6.551489715956374,
          -5.546975541855377,
          -4.540756399966102,
          -3.533143474050305,
          -2.5244472326689387,
          -1.5149775897058222,
          -0.5050440636959747,
          0.5050440636959747,
          1.5149775897058222,
          2.5244472326689387,
          3.533143474050305,
          4.540756399966093,
          5.546975541855377,
          6.551489715956374,
          7.55398686123641,
          8.554153875417288,
          9.5516764487291,
          10.546238895014566,
          11.537523979793749,
          12.525212744884183,
          13.508984329154977,
          14.48851578497449,
          15.463481889890094,
          16.433554953054493,
          17.398404615886626,
          18.357697646425528,
          19.311097726802398,
          20.258265233220044,
          21.198857007787986,
          22.132526121517095,
          23.058921627727855,
          23.97768830507196,
          24.88846638930605,
          25.790891292889647,
          26.68459331140522,
          27.569197315716178,
          28.444322428687737,
          29.3095816851948,
          30.164581674028813,
          31.00892216019177,
          31.84219568592629,
          32.66398714867727,
          33.47387335400855,
          34.271422541305355,
          35.05619387987936,
          35.82773693285154,
          36.585591085918274,
          37.32928493780218,
          38.05833564884669,
          38.772248243827356,
          39.470514864615936,
          40.15261396783838,
          40.81800946210581,
          41.466149778757924,
          42.09646686932831,
          42.70837512210753,
          43.30127018922194,
          -43.30127018922194,
          -42.708375122107526,
          -42.09646686932831,
          -41.466149778757924,
          -40.81800946210581,
          -40.15261396783838,
          -39.47051486461593,
          -38.77224824382736,
          -38.05833564884669,
          -37.329284937802186,
          -36.585591085918274,
          -35.827736932851536,
          -35.056193879879366,
          -34.271422541305355,
          -33.47387335400854,
          -32.66398714867727,
          -31.84219568592629,
          -31.00892216019178,
          -30.164581674028813,
          -29.309581685194797,
          -28.444322428687745,
          -27.569197315716178,
          -26.68459331140522,
          -25.79089129288965,
          -24.88846638930605,
          -23.97768830507196,
          -23.058921627727855,
          -22.1325261215171,
          -21.198857007787993,
          -20.258265233220044,
          -19.311097726802398,
          -18.35769764642553,
          -17.39840461588663,
          -16.43355495305449,
          -15.463481889890094,
          -14.48851578497449,
          -13.50898432915498,
          -12.525212744884188,
          -11.537523979793749,
          -10.546238895014566,
          -9.5516764487291,
          -8.554153875417297,
          -7.55398686123641,
          -6.551489715956374,
          -5.546975541855377,
          -4.540756399966102,
          -3.533143474050305,
          -2.5244472326689387,
          -1.5149775897058222,
          -0.5050440636959747,
          0.5050440636959747,
          1.5149775897058222,
          2.5244472326689387,
          3.533143474050305,
          4.540756399966093,
          5.546975541855377,
          6.551489715956374,
          7.55398686123641,
          8.554153875417288,
          9.5516764487291,
          10.546238895014566,
          11.537523979793749,
          12.525212744884183,
          13.508984329154977,
          14.48851578497449,
          15.463481889890094,
          16.433554953054493,
          17.398404615886626,
          18.357697646425528,
          19.311097726802398,
          20.258265233220044,
          21.198857007787986,
          22.132526121517095,
          23.058921627727855,
          23.97768830507196,
          24.88846638930605,
          25.790891292889647,
          26.68459331140522,
          27.569197315716178,
          28.444322428687737,
          29.3095816851948,
          30.164581674028813,
          31.00892216019177,
          31.84219568592629,
          32.66398714867727,
          33.47387335400855,
          34.271422541305355,
          35.05619387987936,
          35.82773693285154,
          36.585591085918274,
          37.32928493780218,
          38.05833564884669,
          38.772248243827356,
          39.470514864615936,
          40.15261396783838,
          40.81800946210581,
          41.466149778757924,
          42.09646686932831,
          42.70837512210753,
          43.30127018922194,
          -43.30127018922194,
          -42.708375122107526,
          -42.09646686932831,
          -41.466149778757924,
          -40.81800946210581,
          -40.15261396783838,
          -39.47051486461593,
          -38.77224824382736,
          -38.05833564884669,
          -37.329284937802186,
          -36.585591085918274,
          -35.827736932851536,
          -35.056193879879366,
          -34.271422541305355,
          -33.47387335400854,
          -32.66398714867727,
          -31.84219568592629,
          -31.00892216019178,
          -30.164581674028813,
          -29.309581685194797,
          -28.444322428687745,
          -27.569197315716178,
          -26.68459331140522,
          -25.79089129288965,
          -24.88846638930605,
          -23.97768830507196,
          -23.058921627727855,
          -22.1325261215171,
          -21.198857007787993,
          -20.258265233220044,
          -19.311097726802398,
          -18.35769764642553,
          -17.39840461588663,
          -16.43355495305449,
          -15.463481889890094,
          -14.48851578497449,
          -13.50898432915498,
          -12.525212744884188,
          -11.537523979793749,
          -10.546238895014566,
          -9.5516764487291,
          -8.554153875417297,
          -7.55398686123641,
          -6.551489715956374,
          -5.546975541855377,
          -4.540756399966102,
          -3.533143474050305,
          -2.5244472326689387,
          -1.5149775897058222,
          -0.5050440636959747,
          0.5050440636959747,
          1.5149775897058222,
          2.5244472326689387,
          3.533143474050305,
          4.540756399966093,
          5.546975541855377,
          6.551489715956374,
          7.55398686123641,
          8.554153875417288,
          9.5516764487291,
          10.546238895014566,
          11.537523979793749,
          12.525212744884183,
          13.508984329154977,
          14.48851578497449,
          15.463481889890094,
          16.433554953054493,
          17.398404615886626,
          18.357697646425528,
          19.311097726802398,
          20.258265233220044,
          21.198857007787986,
          22.132526121517095,
          23.058921627727855,
          23.97768830507196,
          24.88846638930605,
          25.790891292889647,
          26.68459331140522,
          27.569197315716178,
          28.444322428687737,
          29.3095816851948,
          30.164581674028813,
          31.00892216019177,
          31.84219568592629,
          32.66398714867727,
          33.47387335400855,
          34.271422541305355,
          35.05619387987936,
          35.82773693285154,
          36.585591085918274,
          37.32928493780218,
          38.05833564884669,
          38.772248243827356,
          39.470514864615936,
          40.15261396783838,
          40.81800946210581,
          41.466149778757924,
          42.09646686932831,
          42.70837512210753,
          43.30127018922194
         ]
        }
       ],
       "layout": {
        "coloraxis": {
         "colorbar": {
          "title": {
           "text": "Y"
          }
         },
         "colorscale": [
          [
           0,
           "#0d0887"
          ],
          [
           0.1111111111111111,
           "#46039f"
          ],
          [
           0.2222222222222222,
           "#7201a8"
          ],
          [
           0.3333333333333333,
           "#9c179e"
          ],
          [
           0.4444444444444444,
           "#bd3786"
          ],
          [
           0.5555555555555556,
           "#d8576b"
          ],
          [
           0.6666666666666666,
           "#ed7953"
          ],
          [
           0.7777777777777778,
           "#fb9f3a"
          ],
          [
           0.8888888888888888,
           "#fdca26"
          ],
          [
           1,
           "#f0f921"
          ]
         ]
        },
        "legend": {
         "tracegroupgap": 0
        },
        "margin": {
         "t": 60
        },
        "scene": {
         "domain": {
          "x": [
           0,
           1
          ],
          "y": [
           0,
           1
          ]
         },
         "xaxis": {
          "title": {
           "text": "X1_Square"
          }
         },
         "yaxis": {
          "title": {
           "text": "X2_Square"
          }
         },
         "zaxis": {
          "title": {
           "text": "X1*X2"
          }
         }
        },
        "template": {
         "data": {
          "bar": [
           {
            "error_x": {
             "color": "#2a3f5f"
            },
            "error_y": {
             "color": "#2a3f5f"
            },
            "marker": {
             "line": {
              "color": "#E5ECF6",
              "width": 0.5
             },
             "pattern": {
              "fillmode": "overlay",
              "size": 10,
              "solidity": 0.2
             }
            },
            "type": "bar"
           }
          ],
          "barpolar": [
           {
            "marker": {
             "line": {
              "color": "#E5ECF6",
              "width": 0.5
             },
             "pattern": {
              "fillmode": "overlay",
              "size": 10,
              "solidity": 0.2
             }
            },
            "type": "barpolar"
           }
          ],
          "carpet": [
           {
            "aaxis": {
             "endlinecolor": "#2a3f5f",
             "gridcolor": "white",
             "linecolor": "white",
             "minorgridcolor": "white",
             "startlinecolor": "#2a3f5f"
            },
            "baxis": {
             "endlinecolor": "#2a3f5f",
             "gridcolor": "white",
             "linecolor": "white",
             "minorgridcolor": "white",
             "startlinecolor": "#2a3f5f"
            },
            "type": "carpet"
           }
          ],
          "choropleth": [
           {
            "colorbar": {
             "outlinewidth": 0,
             "ticks": ""
            },
            "type": "choropleth"
           }
          ],
          "contour": [
           {
            "colorbar": {
             "outlinewidth": 0,
             "ticks": ""
            },
            "colorscale": [
             [
              0,
              "#0d0887"
             ],
             [
              0.1111111111111111,
              "#46039f"
             ],
             [
              0.2222222222222222,
              "#7201a8"
             ],
             [
              0.3333333333333333,
              "#9c179e"
             ],
             [
              0.4444444444444444,
              "#bd3786"
             ],
             [
              0.5555555555555556,
              "#d8576b"
             ],
             [
              0.6666666666666666,
              "#ed7953"
             ],
             [
              0.7777777777777778,
              "#fb9f3a"
             ],
             [
              0.8888888888888888,
              "#fdca26"
             ],
             [
              1,
              "#f0f921"
             ]
            ],
            "type": "contour"
           }
          ],
          "contourcarpet": [
           {
            "colorbar": {
             "outlinewidth": 0,
             "ticks": ""
            },
            "type": "contourcarpet"
           }
          ],
          "heatmap": [
           {
            "colorbar": {
             "outlinewidth": 0,
             "ticks": ""
            },
            "colorscale": [
             [
              0,
              "#0d0887"
             ],
             [
              0.1111111111111111,
              "#46039f"
             ],
             [
              0.2222222222222222,
              "#7201a8"
             ],
             [
              0.3333333333333333,
              "#9c179e"
             ],
             [
              0.4444444444444444,
              "#bd3786"
             ],
             [
              0.5555555555555556,
              "#d8576b"
             ],
             [
              0.6666666666666666,
              "#ed7953"
             ],
             [
              0.7777777777777778,
              "#fb9f3a"
             ],
             [
              0.8888888888888888,
              "#fdca26"
             ],
             [
              1,
              "#f0f921"
             ]
            ],
            "type": "heatmap"
           }
          ],
          "heatmapgl": [
           {
            "colorbar": {
             "outlinewidth": 0,
             "ticks": ""
            },
            "colorscale": [
             [
              0,
              "#0d0887"
             ],
             [
              0.1111111111111111,
              "#46039f"
             ],
             [
              0.2222222222222222,
              "#7201a8"
             ],
             [
              0.3333333333333333,
              "#9c179e"
             ],
             [
              0.4444444444444444,
              "#bd3786"
             ],
             [
              0.5555555555555556,
              "#d8576b"
             ],
             [
              0.6666666666666666,
              "#ed7953"
             ],
             [
              0.7777777777777778,
              "#fb9f3a"
             ],
             [
              0.8888888888888888,
              "#fdca26"
             ],
             [
              1,
              "#f0f921"
             ]
            ],
            "type": "heatmapgl"
           }
          ],
          "histogram": [
           {
            "marker": {
             "pattern": {
              "fillmode": "overlay",
              "size": 10,
              "solidity": 0.2
             }
            },
            "type": "histogram"
           }
          ],
          "histogram2d": [
           {
            "colorbar": {
             "outlinewidth": 0,
             "ticks": ""
            },
            "colorscale": [
             [
              0,
              "#0d0887"
             ],
             [
              0.1111111111111111,
              "#46039f"
             ],
             [
              0.2222222222222222,
              "#7201a8"
             ],
             [
              0.3333333333333333,
              "#9c179e"
             ],
             [
              0.4444444444444444,
              "#bd3786"
             ],
             [
              0.5555555555555556,
              "#d8576b"
             ],
             [
              0.6666666666666666,
              "#ed7953"
             ],
             [
              0.7777777777777778,
              "#fb9f3a"
             ],
             [
              0.8888888888888888,
              "#fdca26"
             ],
             [
              1,
              "#f0f921"
             ]
            ],
            "type": "histogram2d"
           }
          ],
          "histogram2dcontour": [
           {
            "colorbar": {
             "outlinewidth": 0,
             "ticks": ""
            },
            "colorscale": [
             [
              0,
              "#0d0887"
             ],
             [
              0.1111111111111111,
              "#46039f"
             ],
             [
              0.2222222222222222,
              "#7201a8"
             ],
             [
              0.3333333333333333,
              "#9c179e"
             ],
             [
              0.4444444444444444,
              "#bd3786"
             ],
             [
              0.5555555555555556,
              "#d8576b"
             ],
             [
              0.6666666666666666,
              "#ed7953"
             ],
             [
              0.7777777777777778,
              "#fb9f3a"
             ],
             [
              0.8888888888888888,
              "#fdca26"
             ],
             [
              1,
              "#f0f921"
             ]
            ],
            "type": "histogram2dcontour"
           }
          ],
          "mesh3d": [
           {
            "colorbar": {
             "outlinewidth": 0,
             "ticks": ""
            },
            "type": "mesh3d"
           }
          ],
          "parcoords": [
           {
            "line": {
             "colorbar": {
              "outlinewidth": 0,
              "ticks": ""
             }
            },
            "type": "parcoords"
           }
          ],
          "pie": [
           {
            "automargin": true,
            "type": "pie"
           }
          ],
          "scatter": [
           {
            "fillpattern": {
             "fillmode": "overlay",
             "size": 10,
             "solidity": 0.2
            },
            "type": "scatter"
           }
          ],
          "scatter3d": [
           {
            "line": {
             "colorbar": {
              "outlinewidth": 0,
              "ticks": ""
             }
            },
            "marker": {
             "colorbar": {
              "outlinewidth": 0,
              "ticks": ""
             }
            },
            "type": "scatter3d"
           }
          ],
          "scattercarpet": [
           {
            "marker": {
             "colorbar": {
              "outlinewidth": 0,
              "ticks": ""
             }
            },
            "type": "scattercarpet"
           }
          ],
          "scattergeo": [
           {
            "marker": {
             "colorbar": {
              "outlinewidth": 0,
              "ticks": ""
             }
            },
            "type": "scattergeo"
           }
          ],
          "scattergl": [
           {
            "marker": {
             "colorbar": {
              "outlinewidth": 0,
              "ticks": ""
             }
            },
            "type": "scattergl"
           }
          ],
          "scattermapbox": [
           {
            "marker": {
             "colorbar": {
              "outlinewidth": 0,
              "ticks": ""
             }
            },
            "type": "scattermapbox"
           }
          ],
          "scatterpolar": [
           {
            "marker": {
             "colorbar": {
              "outlinewidth": 0,
              "ticks": ""
             }
            },
            "type": "scatterpolar"
           }
          ],
          "scatterpolargl": [
           {
            "marker": {
             "colorbar": {
              "outlinewidth": 0,
              "ticks": ""
             }
            },
            "type": "scatterpolargl"
           }
          ],
          "scatterternary": [
           {
            "marker": {
             "colorbar": {
              "outlinewidth": 0,
              "ticks": ""
             }
            },
            "type": "scatterternary"
           }
          ],
          "surface": [
           {
            "colorbar": {
             "outlinewidth": 0,
             "ticks": ""
            },
            "colorscale": [
             [
              0,
              "#0d0887"
             ],
             [
              0.1111111111111111,
              "#46039f"
             ],
             [
              0.2222222222222222,
              "#7201a8"
             ],
             [
              0.3333333333333333,
              "#9c179e"
             ],
             [
              0.4444444444444444,
              "#bd3786"
             ],
             [
              0.5555555555555556,
              "#d8576b"
             ],
             [
              0.6666666666666666,
              "#ed7953"
             ],
             [
              0.7777777777777778,
              "#fb9f3a"
             ],
             [
              0.8888888888888888,
              "#fdca26"
             ],
             [
              1,
              "#f0f921"
             ]
            ],
            "type": "surface"
           }
          ],
          "table": [
           {
            "cells": {
             "fill": {
              "color": "#EBF0F8"
             },
             "line": {
              "color": "white"
             }
            },
            "header": {
             "fill": {
              "color": "#C8D4E3"
             },
             "line": {
              "color": "white"
             }
            },
            "type": "table"
           }
          ]
         },
         "layout": {
          "annotationdefaults": {
           "arrowcolor": "#2a3f5f",
           "arrowhead": 0,
           "arrowwidth": 1
          },
          "autotypenumbers": "strict",
          "coloraxis": {
           "colorbar": {
            "outlinewidth": 0,
            "ticks": ""
           }
          },
          "colorscale": {
           "diverging": [
            [
             0,
             "#8e0152"
            ],
            [
             0.1,
             "#c51b7d"
            ],
            [
             0.2,
             "#de77ae"
            ],
            [
             0.3,
             "#f1b6da"
            ],
            [
             0.4,
             "#fde0ef"
            ],
            [
             0.5,
             "#f7f7f7"
            ],
            [
             0.6,
             "#e6f5d0"
            ],
            [
             0.7,
             "#b8e186"
            ],
            [
             0.8,
             "#7fbc41"
            ],
            [
             0.9,
             "#4d9221"
            ],
            [
             1,
             "#276419"
            ]
           ],
           "sequential": [
            [
             0,
             "#0d0887"
            ],
            [
             0.1111111111111111,
             "#46039f"
            ],
            [
             0.2222222222222222,
             "#7201a8"
            ],
            [
             0.3333333333333333,
             "#9c179e"
            ],
            [
             0.4444444444444444,
             "#bd3786"
            ],
            [
             0.5555555555555556,
             "#d8576b"
            ],
            [
             0.6666666666666666,
             "#ed7953"
            ],
            [
             0.7777777777777778,
             "#fb9f3a"
            ],
            [
             0.8888888888888888,
             "#fdca26"
            ],
            [
             1,
             "#f0f921"
            ]
           ],
           "sequentialminus": [
            [
             0,
             "#0d0887"
            ],
            [
             0.1111111111111111,
             "#46039f"
            ],
            [
             0.2222222222222222,
             "#7201a8"
            ],
            [
             0.3333333333333333,
             "#9c179e"
            ],
            [
             0.4444444444444444,
             "#bd3786"
            ],
            [
             0.5555555555555556,
             "#d8576b"
            ],
            [
             0.6666666666666666,
             "#ed7953"
            ],
            [
             0.7777777777777778,
             "#fb9f3a"
            ],
            [
             0.8888888888888888,
             "#fdca26"
            ],
            [
             1,
             "#f0f921"
            ]
           ]
          },
          "colorway": [
           "#636efa",
           "#EF553B",
           "#00cc96",
           "#ab63fa",
           "#FFA15A",
           "#19d3f3",
           "#FF6692",
           "#B6E880",
           "#FF97FF",
           "#FECB52"
          ],
          "font": {
           "color": "#2a3f5f"
          },
          "geo": {
           "bgcolor": "white",
           "lakecolor": "white",
           "landcolor": "#E5ECF6",
           "showlakes": true,
           "showland": true,
           "subunitcolor": "white"
          },
          "hoverlabel": {
           "align": "left"
          },
          "hovermode": "closest",
          "mapbox": {
           "style": "light"
          },
          "paper_bgcolor": "white",
          "plot_bgcolor": "#E5ECF6",
          "polar": {
           "angularaxis": {
            "gridcolor": "white",
            "linecolor": "white",
            "ticks": ""
           },
           "bgcolor": "#E5ECF6",
           "radialaxis": {
            "gridcolor": "white",
            "linecolor": "white",
            "ticks": ""
           }
          },
          "scene": {
           "xaxis": {
            "backgroundcolor": "#E5ECF6",
            "gridcolor": "white",
            "gridwidth": 2,
            "linecolor": "white",
            "showbackground": true,
            "ticks": "",
            "zerolinecolor": "white"
           },
           "yaxis": {
            "backgroundcolor": "#E5ECF6",
            "gridcolor": "white",
            "gridwidth": 2,
            "linecolor": "white",
            "showbackground": true,
            "ticks": "",
            "zerolinecolor": "white"
           },
           "zaxis": {
            "backgroundcolor": "#E5ECF6",
            "gridcolor": "white",
            "gridwidth": 2,
            "linecolor": "white",
            "showbackground": true,
            "ticks": "",
            "zerolinecolor": "white"
           }
          },
          "shapedefaults": {
           "line": {
            "color": "#2a3f5f"
           }
          },
          "ternary": {
           "aaxis": {
            "gridcolor": "white",
            "linecolor": "white",
            "ticks": ""
           },
           "baxis": {
            "gridcolor": "white",
            "linecolor": "white",
            "ticks": ""
           },
           "bgcolor": "#E5ECF6",
           "caxis": {
            "gridcolor": "white",
            "linecolor": "white",
            "ticks": ""
           }
          },
          "title": {
           "x": 0.05
          },
          "xaxis": {
           "automargin": true,
           "gridcolor": "white",
           "linecolor": "white",
           "ticks": "",
           "title": {
            "standoff": 15
           },
           "zerolinecolor": "white",
           "zerolinewidth": 2
          },
          "yaxis": {
           "automargin": true,
           "gridcolor": "white",
           "linecolor": "white",
           "ticks": "",
           "title": {
            "standoff": 15
           },
           "zerolinecolor": "white",
           "zerolinewidth": 2
          }
         }
        }
       }
      },
      "text/html": [
       "<div>                            <div id=\"04f32a37-6ec3-4b93-985d-6e8243133419\" class=\"plotly-graph-div\" style=\"height:525px; width:100%;\"></div>            <script type=\"text/javascript\">                require([\"plotly\"], function(Plotly) {                    window.PLOTLYENV=window.PLOTLYENV || {};                                    if (document.getElementById(\"04f32a37-6ec3-4b93-985d-6e8243133419\")) {                    Plotly.newPlot(                        \"04f32a37-6ec3-4b93-985d-6e8243133419\",                        [{\"hovertemplate\":\"X1_Square=%{x}\\u003cbr\\u003eX2_Square=%{y}\\u003cbr\\u003eX1*X2=%{z}\\u003cbr\\u003eY=%{marker.color}\\u003cextra\\u003e\\u003c\\u002fextra\\u003e\",\"legendgroup\":\"\",\"marker\":{\"color\":[0,0,0,0,0,0,0,0,0,0,0,0,0,0,0,0,0,0,0,0,0,0,0,0,0,0,0,0,0,0,0,0,0,0,0,0,0,0,0,0,0,0,0,0,0,0,0,0,0,0,0,0,0,0,0,0,0,0,0,0,0,0,0,0,0,0,0,0,0,0,0,0,0,0,0,0,0,0,0,0,0,0,0,0,0,0,0,0,0,0,0,0,0,0,0,0,0,0,0,0,0,0,0,0,0,0,0,0,0,0,0,0,0,0,0,0,0,0,0,0,0,0,0,0,0,0,0,0,0,0,0,0,0,0,0,0,0,0,0,0,0,0,0,0,0,0,0,0,0,0,0,0,0,0,0,0,0,0,0,0,0,0,0,0,0,0,0,0,0,0,0,0,0,0,0,0,0,0,0,0,0,0,0,0,0,0,0,0,0,0,0,0,0,0,0,0,0,0,0,0,1,1,1,1,1,1,1,1,1,1,1,1,1,1,1,1,1,1,1,1,1,1,1,1,1,1,1,1,1,1,1,1,1,1,1,1,1,1,1,1,1,1,1,1,1,1,1,1,1,1,1,1,1,1,1,1,1,1,1,1,1,1,1,1,1,1,1,1,1,1,1,1,1,1,1,1,1,1,1,1,1,1,1,1,1,1,1,1,1,1,1,1,1,1,1,1,1,1,1,1,1,1,1,1,1,1,1,1,1,1,1,1,1,1,1,1,1,1,1,1,1,1,1,1,1,1,1,1,1,1,1,1,1,1,1,1,1,1,1,1,1,1,1,1,1,1,1,1,1,1,1,1,1,1,1,1,1,1,1,1,1,1,1,1,1,1,1,1,1,1,1,1,1,1,1,1,1,1,1,1,1,1,1,1,1,1,1,1,1,1,1,1,1,1,1,1,1,1,1,1],\"coloraxis\":\"coloraxis\",\"symbol\":\"circle\"},\"mode\":\"markers\",\"name\":\"\",\"scene\":\"scene\",\"showlegend\":false,\"x\":[75.00000000000001,75.99989796959494,76.97938985817774,77.93847566574841,78.87715539230689,79.79542903785328,80.69329660238752,81.57075808590962,82.42781348841956,83.26446280991735,84.08070605040302,84.87654320987653,85.65197428833793,86.40699928578718,87.14161820222425,87.85583103764922,88.54963779206203,89.2230384654627,89.87603305785123,90.50862156922764,91.12080399959189,91.71258034894397,92.28395061728395,92.83491480461178,93.36547291092745,93.87562493623098,94.36537088052238,94.83471074380165,95.28364452606877,95.71217222732375,96.12029384756657,96.50800938679727,96.87531884501581,97.22222222222224,97.54871951841648,97.8548107335986,98.14049586776859,98.40577492092645,98.65064789307212,98.87511478420569,99.0791755943271,99.2628303234364,99.42607897153351,99.5689215386185,99.69135802469137,99.79338842975206,99.87501275380063,99.93623099683704,99.97704315886133,99.99744923987349,99.99744923987349,99.97704315886133,99.93623099683704,99.87501275380063,99.79338842975206,99.69135802469137,99.5689215386185,99.42607897153351,99.2628303234364,99.0791755943271,98.87511478420569,98.65064789307212,98.40577492092645,98.14049586776859,97.8548107335986,97.54871951841648,97.22222222222224,96.87531884501581,96.50800938679727,96.12029384756657,95.71217222732375,95.28364452606877,94.83471074380165,94.36537088052238,93.87562493623098,93.36547291092748,92.83491480461178,92.28395061728395,91.71258034894397,91.12080399959189,90.50862156922764,89.87603305785123,89.2230384654627,88.54963779206203,87.85583103764922,87.14161820222425,86.40699928578718,85.65197428833793,84.87654320987653,84.08070605040302,83.26446280991735,82.42781348841956,81.57075808590962,80.69329660238752,79.79542903785328,78.87715539230693,77.93847566574841,76.97938985817774,75.99989796959494,75.00000000000001,75.00000000000001,75.99989796959494,76.97938985817774,77.93847566574841,78.87715539230689,79.79542903785328,80.69329660238752,81.57075808590962,82.42781348841956,83.26446280991735,84.08070605040302,84.87654320987653,85.65197428833793,86.40699928578718,87.14161820222425,87.85583103764922,88.54963779206203,89.2230384654627,89.87603305785123,90.50862156922764,91.12080399959189,91.71258034894397,92.28395061728395,92.83491480461178,93.36547291092745,93.87562493623098,94.36537088052238,94.83471074380165,95.28364452606877,95.71217222732375,96.12029384756657,96.50800938679727,96.87531884501581,97.22222222222224,97.54871951841648,97.8548107335986,98.14049586776859,98.40577492092645,98.65064789307212,98.87511478420569,99.0791755943271,99.2628303234364,99.42607897153351,99.5689215386185,99.69135802469137,99.79338842975206,99.87501275380063,99.93623099683704,99.97704315886133,99.99744923987349,99.99744923987349,99.97704315886133,99.93623099683704,99.87501275380063,99.79338842975206,99.69135802469137,99.5689215386185,99.42607897153351,99.2628303234364,99.0791755943271,98.87511478420569,98.65064789307212,98.40577492092645,98.14049586776859,97.8548107335986,97.54871951841648,97.22222222222224,96.87531884501581,96.50800938679727,96.12029384756657,95.71217222732375,95.28364452606877,94.83471074380165,94.36537088052238,93.87562493623098,93.36547291092748,92.83491480461178,92.28395061728395,91.71258034894397,91.12080399959189,90.50862156922764,89.87603305785123,89.2230384654627,88.54963779206203,87.85583103764922,87.14161820222425,86.40699928578718,85.65197428833793,84.87654320987653,84.08070605040302,83.26446280991735,82.42781348841956,81.57075808590962,80.69329660238752,79.79542903785328,78.87715539230693,77.93847566574841,76.97938985817774,75.99989796959494,75.00000000000001,75.00000000000001,75.99989796959494,76.97938985817774,77.93847566574841,78.87715539230689,79.79542903785328,80.69329660238752,81.57075808590962,82.42781348841956,83.26446280991735,84.08070605040302,84.87654320987653,85.65197428833793,86.40699928578718,87.14161820222425,87.85583103764922,88.54963779206203,89.2230384654627,89.87603305785123,90.50862156922764,91.12080399959189,91.71258034894397,92.28395061728395,92.83491480461178,93.36547291092745,93.87562493623098,94.36537088052238,94.83471074380165,95.28364452606877,95.71217222732375,96.12029384756657,96.50800938679727,96.87531884501581,97.22222222222224,97.54871951841648,97.8548107335986,98.14049586776859,98.40577492092645,98.65064789307212,98.87511478420569,99.0791755943271,99.2628303234364,99.42607897153351,99.5689215386185,99.69135802469137,99.79338842975206,99.87501275380063,99.93623099683704,99.97704315886133,99.99744923987349,99.99744923987349,99.97704315886133,99.93623099683704,99.87501275380063,99.79338842975206,99.69135802469137,99.5689215386185,99.42607897153351,99.2628303234364,99.0791755943271,98.87511478420569,98.65064789307212,98.40577492092645,98.14049586776859,97.8548107335986,97.54871951841648,97.22222222222224,96.87531884501581,96.50800938679727,96.12029384756657,95.71217222732375,95.28364452606877,94.83471074380165,94.36537088052238,93.87562493623098,93.36547291092748,92.83491480461178,92.28395061728395,91.71258034894397,91.12080399959189,90.50862156922764,89.87603305785123,89.2230384654627,88.54963779206203,87.85583103764922,87.14161820222425,86.40699928578718,85.65197428833793,84.87654320987653,84.08070605040302,83.26446280991735,82.42781348841956,81.57075808590962,80.69329660238752,79.79542903785328,78.87715539230693,77.93847566574841,76.97938985817774,75.99989796959494,75.00000000000001,75.00000000000001,75.99989796959494,76.97938985817774,77.93847566574841,78.87715539230689,79.79542903785328,80.69329660238752,81.57075808590962,82.42781348841956,83.26446280991735,84.08070605040302,84.87654320987653,85.65197428833793,86.40699928578718,87.14161820222425,87.85583103764922,88.54963779206203,89.2230384654627,89.87603305785123,90.50862156922764,91.12080399959189,91.71258034894397,92.28395061728395,92.83491480461178,93.36547291092745,93.87562493623098,94.36537088052238,94.83471074380165,95.28364452606877,95.71217222732375,96.12029384756657,96.50800938679727,96.87531884501581,97.22222222222224,97.54871951841648,97.8548107335986,98.14049586776859,98.40577492092645,98.65064789307212,98.87511478420569,99.0791755943271,99.2628303234364,99.42607897153351,99.5689215386185,99.69135802469137,99.79338842975206,99.87501275380063,99.93623099683704,99.97704315886133,99.99744923987349,99.99744923987349,99.97704315886133,99.93623099683704,99.87501275380063,99.79338842975206,99.69135802469137,99.5689215386185,99.42607897153351,99.2628303234364,99.0791755943271,98.87511478420569,98.65064789307212,98.40577492092645,98.14049586776859,97.8548107335986,97.54871951841648,97.22222222222224,96.87531884501581,96.50800938679727,96.12029384756657,95.71217222732375,95.28364452606877,94.83471074380165,94.36537088052238,93.87562493623098,93.36547291092748,92.83491480461178,92.28395061728395,91.71258034894397,91.12080399959189,90.50862156922764,89.87603305785123,89.2230384654627,88.54963779206203,87.85583103764922,87.14161820222425,86.40699928578718,85.65197428833793,84.87654320987653,84.08070605040302,83.26446280991735,82.42781348841956,81.57075808590962,80.69329660238752,79.79542903785328,78.87715539230693,77.93847566574841,76.97938985817774,75.99989796959494,75.00000000000001],\"y\":[25.0,24.00010203040506,23.02061014182226,22.061524334251608,21.122844607693093,20.204570962146718,19.306703397612484,18.4292419140904,17.57218651158045,16.735537190082646,15.919293949596977,15.123456790123456,14.348025711662077,13.593000714212835,12.858381797775735,12.144168962350781,11.450362207937967,10.776961534537293,10.12396694214876,9.49137843077237,8.87919600040812,8.287419651056016,7.716049382716049,7.165085195388227,6.634527089072543,6.124375063769004,5.634629119477604,5.165289256198348,4.716355473931231,4.287827772676258,3.879706152433425,3.491990613202735,3.1246811549841853,2.7777777777777772,2.4512804815835123,2.1451892664013874,1.8595041322314052,1.5942250790735637,1.349352106927865,1.1248852157943066,0.92082440567289,0.7371696765636166,0.5739210284664833,0.4310784613814917,0.30864197530864174,0.20661157024793433,0.1249872461993676,0.0637690031629426,0.02295684113865928,0.002550760126517668,0.002550760126517668,0.02295684113865928,0.0637690031629426,0.1249872461993676,0.20661157024793353,0.30864197530864174,0.4310784613814917,0.5739210284664833,0.7371696765636152,0.92082440567289,1.1248852157943066,1.349352106927865,1.5942250790735626,1.859504132231404,2.1451892664013874,2.4512804815835123,2.7777777777777786,3.124681154984184,3.491990613202734,3.879706152433425,4.287827772676258,4.7163554739312294,5.165289256198346,5.634629119477604,6.124375063769004,6.634527089072541,7.165085195388224,7.716049382716049,8.287419651056016,8.879196000408118,9.491378430772373,10.12396694214876,10.776961534537287,11.450362207937967,12.144168962350777,12.858381797775742,13.593000714212835,14.34802571166207,15.12345679012346,15.919293949596977,16.73553719008264,17.57218651158045,18.429241914090394,19.306703397612495,20.204570962146718,21.122844607693086,22.061524334251608,23.02061014182226,24.000102030405067,25.0,25.0,24.00010203040506,23.02061014182226,22.061524334251608,21.122844607693093,20.204570962146718,19.306703397612484,18.4292419140904,17.57218651158045,16.735537190082646,15.919293949596977,15.123456790123456,14.348025711662077,13.593000714212835,12.858381797775735,12.144168962350781,11.450362207937967,10.776961534537293,10.12396694214876,9.49137843077237,8.87919600040812,8.287419651056016,7.716049382716049,7.165085195388227,6.634527089072543,6.124375063769004,5.634629119477604,5.165289256198348,4.716355473931231,4.287827772676258,3.879706152433425,3.491990613202735,3.1246811549841853,2.7777777777777772,2.4512804815835123,2.1451892664013874,1.8595041322314052,1.5942250790735637,1.349352106927865,1.1248852157943066,0.92082440567289,0.7371696765636166,0.5739210284664833,0.4310784613814917,0.30864197530864174,0.20661157024793433,0.1249872461993676,0.0637690031629426,0.02295684113865928,0.002550760126517668,0.002550760126517668,0.02295684113865928,0.0637690031629426,0.1249872461993676,0.20661157024793353,0.30864197530864174,0.4310784613814917,0.5739210284664833,0.7371696765636152,0.92082440567289,1.1248852157943066,1.349352106927865,1.5942250790735626,1.859504132231404,2.1451892664013874,2.4512804815835123,2.7777777777777786,3.124681154984184,3.491990613202734,3.879706152433425,4.287827772676258,4.7163554739312294,5.165289256198346,5.634629119477604,6.124375063769004,6.634527089072541,7.165085195388224,7.716049382716049,8.287419651056016,8.879196000408118,9.491378430772373,10.12396694214876,10.776961534537287,11.450362207937967,12.144168962350777,12.858381797775742,13.593000714212835,14.34802571166207,15.12345679012346,15.919293949596977,16.73553719008264,17.57218651158045,18.429241914090394,19.306703397612495,20.204570962146718,21.122844607693086,22.061524334251608,23.02061014182226,24.000102030405067,25.0,25.0,24.00010203040506,23.02061014182226,22.061524334251608,21.122844607693093,20.204570962146718,19.306703397612484,18.4292419140904,17.57218651158045,16.735537190082646,15.919293949596977,15.123456790123456,14.348025711662077,13.593000714212835,12.858381797775735,12.144168962350781,11.450362207937967,10.776961534537293,10.12396694214876,9.49137843077237,8.87919600040812,8.287419651056016,7.716049382716049,7.165085195388227,6.634527089072543,6.124375063769004,5.634629119477604,5.165289256198348,4.716355473931231,4.287827772676258,3.879706152433425,3.491990613202735,3.1246811549841853,2.7777777777777772,2.4512804815835123,2.1451892664013874,1.8595041322314052,1.5942250790735637,1.349352106927865,1.1248852157943066,0.92082440567289,0.7371696765636166,0.5739210284664833,0.4310784613814917,0.30864197530864174,0.20661157024793433,0.1249872461993676,0.0637690031629426,0.02295684113865928,0.002550760126517668,0.002550760126517668,0.02295684113865928,0.0637690031629426,0.1249872461993676,0.20661157024793353,0.30864197530864174,0.4310784613814917,0.5739210284664833,0.7371696765636152,0.92082440567289,1.1248852157943066,1.349352106927865,1.5942250790735626,1.859504132231404,2.1451892664013874,2.4512804815835123,2.7777777777777786,3.124681154984184,3.491990613202734,3.879706152433425,4.287827772676258,4.7163554739312294,5.165289256198346,5.634629119477604,6.124375063769004,6.634527089072541,7.165085195388224,7.716049382716049,8.287419651056016,8.879196000408118,9.491378430772373,10.12396694214876,10.776961534537287,11.450362207937967,12.144168962350777,12.858381797775742,13.593000714212835,14.34802571166207,15.12345679012346,15.919293949596977,16.73553719008264,17.57218651158045,18.429241914090394,19.306703397612495,20.204570962146718,21.122844607693086,22.061524334251608,23.02061014182226,24.000102030405067,25.0,25.0,24.00010203040506,23.02061014182226,22.061524334251608,21.122844607693093,20.204570962146718,19.306703397612484,18.4292419140904,17.57218651158045,16.735537190082646,15.919293949596977,15.123456790123456,14.348025711662077,13.593000714212835,12.858381797775735,12.144168962350781,11.450362207937967,10.776961534537293,10.12396694214876,9.49137843077237,8.87919600040812,8.287419651056016,7.716049382716049,7.165085195388227,6.634527089072543,6.124375063769004,5.634629119477604,5.165289256198348,4.716355473931231,4.287827772676258,3.879706152433425,3.491990613202735,3.1246811549841853,2.7777777777777772,2.4512804815835123,2.1451892664013874,1.8595041322314052,1.5942250790735637,1.349352106927865,1.1248852157943066,0.92082440567289,0.7371696765636166,0.5739210284664833,0.4310784613814917,0.30864197530864174,0.20661157024793433,0.1249872461993676,0.0637690031629426,0.02295684113865928,0.002550760126517668,0.002550760126517668,0.02295684113865928,0.0637690031629426,0.1249872461993676,0.20661157024793353,0.30864197530864174,0.4310784613814917,0.5739210284664833,0.7371696765636152,0.92082440567289,1.1248852157943066,1.349352106927865,1.5942250790735626,1.859504132231404,2.1451892664013874,2.4512804815835123,2.7777777777777786,3.124681154984184,3.491990613202734,3.879706152433425,4.287827772676258,4.7163554739312294,5.165289256198346,5.634629119477604,6.124375063769004,6.634527089072541,7.165085195388224,7.716049382716049,8.287419651056016,8.879196000408118,9.491378430772373,10.12396694214876,10.776961534537287,11.450362207937967,12.144168962350777,12.858381797775742,13.593000714212835,14.34802571166207,15.12345679012346,15.919293949596977,16.73553719008264,17.57218651158045,18.429241914090394,19.306703397612495,20.204570962146718,21.122844607693086,22.061524334251608,23.02061014182226,24.000102030405067,25.0],\"z\":[-43.30127018922194,-42.708375122107526,-42.09646686932831,-41.466149778757924,-40.81800946210581,-40.15261396783838,-39.47051486461593,-38.77224824382736,-38.05833564884669,-37.329284937802186,-36.585591085918274,-35.827736932851536,-35.056193879879366,-34.271422541305355,-33.47387335400854,-32.66398714867727,-31.84219568592629,-31.00892216019178,-30.164581674028813,-29.309581685194797,-28.444322428687745,-27.569197315716178,-26.68459331140522,-25.79089129288965,-24.88846638930605,-23.97768830507196,-23.058921627727855,-22.1325261215171,-21.198857007787993,-20.258265233220044,-19.311097726802398,-18.35769764642553,-17.39840461588663,-16.43355495305449,-15.463481889890094,-14.48851578497449,-13.50898432915498,-12.525212744884188,-11.537523979793749,-10.546238895014566,-9.5516764487291,-8.554153875417297,-7.55398686123641,-6.551489715956374,-5.546975541855377,-4.540756399966102,-3.533143474050305,-2.5244472326689387,-1.5149775897058222,-0.5050440636959747,0.5050440636959747,1.5149775897058222,2.5244472326689387,3.533143474050305,4.540756399966093,5.546975541855377,6.551489715956374,7.55398686123641,8.554153875417288,9.5516764487291,10.546238895014566,11.537523979793749,12.525212744884183,13.508984329154977,14.48851578497449,15.463481889890094,16.433554953054493,17.398404615886626,18.357697646425528,19.311097726802398,20.258265233220044,21.198857007787986,22.132526121517095,23.058921627727855,23.97768830507196,24.88846638930605,25.790891292889647,26.68459331140522,27.569197315716178,28.444322428687737,29.3095816851948,30.164581674028813,31.00892216019177,31.84219568592629,32.66398714867727,33.47387335400855,34.271422541305355,35.05619387987936,35.82773693285154,36.585591085918274,37.32928493780218,38.05833564884669,38.772248243827356,39.470514864615936,40.15261396783838,40.81800946210581,41.466149778757924,42.09646686932831,42.70837512210753,43.30127018922194,-43.30127018922194,-42.708375122107526,-42.09646686932831,-41.466149778757924,-40.81800946210581,-40.15261396783838,-39.47051486461593,-38.77224824382736,-38.05833564884669,-37.329284937802186,-36.585591085918274,-35.827736932851536,-35.056193879879366,-34.271422541305355,-33.47387335400854,-32.66398714867727,-31.84219568592629,-31.00892216019178,-30.164581674028813,-29.309581685194797,-28.444322428687745,-27.569197315716178,-26.68459331140522,-25.79089129288965,-24.88846638930605,-23.97768830507196,-23.058921627727855,-22.1325261215171,-21.198857007787993,-20.258265233220044,-19.311097726802398,-18.35769764642553,-17.39840461588663,-16.43355495305449,-15.463481889890094,-14.48851578497449,-13.50898432915498,-12.525212744884188,-11.537523979793749,-10.546238895014566,-9.5516764487291,-8.554153875417297,-7.55398686123641,-6.551489715956374,-5.546975541855377,-4.540756399966102,-3.533143474050305,-2.5244472326689387,-1.5149775897058222,-0.5050440636959747,0.5050440636959747,1.5149775897058222,2.5244472326689387,3.533143474050305,4.540756399966093,5.546975541855377,6.551489715956374,7.55398686123641,8.554153875417288,9.5516764487291,10.546238895014566,11.537523979793749,12.525212744884183,13.508984329154977,14.48851578497449,15.463481889890094,16.433554953054493,17.398404615886626,18.357697646425528,19.311097726802398,20.258265233220044,21.198857007787986,22.132526121517095,23.058921627727855,23.97768830507196,24.88846638930605,25.790891292889647,26.68459331140522,27.569197315716178,28.444322428687737,29.3095816851948,30.164581674028813,31.00892216019177,31.84219568592629,32.66398714867727,33.47387335400855,34.271422541305355,35.05619387987936,35.82773693285154,36.585591085918274,37.32928493780218,38.05833564884669,38.772248243827356,39.470514864615936,40.15261396783838,40.81800946210581,41.466149778757924,42.09646686932831,42.70837512210753,43.30127018922194,-43.30127018922194,-42.708375122107526,-42.09646686932831,-41.466149778757924,-40.81800946210581,-40.15261396783838,-39.47051486461593,-38.77224824382736,-38.05833564884669,-37.329284937802186,-36.585591085918274,-35.827736932851536,-35.056193879879366,-34.271422541305355,-33.47387335400854,-32.66398714867727,-31.84219568592629,-31.00892216019178,-30.164581674028813,-29.309581685194797,-28.444322428687745,-27.569197315716178,-26.68459331140522,-25.79089129288965,-24.88846638930605,-23.97768830507196,-23.058921627727855,-22.1325261215171,-21.198857007787993,-20.258265233220044,-19.311097726802398,-18.35769764642553,-17.39840461588663,-16.43355495305449,-15.463481889890094,-14.48851578497449,-13.50898432915498,-12.525212744884188,-11.537523979793749,-10.546238895014566,-9.5516764487291,-8.554153875417297,-7.55398686123641,-6.551489715956374,-5.546975541855377,-4.540756399966102,-3.533143474050305,-2.5244472326689387,-1.5149775897058222,-0.5050440636959747,0.5050440636959747,1.5149775897058222,2.5244472326689387,3.533143474050305,4.540756399966093,5.546975541855377,6.551489715956374,7.55398686123641,8.554153875417288,9.5516764487291,10.546238895014566,11.537523979793749,12.525212744884183,13.508984329154977,14.48851578497449,15.463481889890094,16.433554953054493,17.398404615886626,18.357697646425528,19.311097726802398,20.258265233220044,21.198857007787986,22.132526121517095,23.058921627727855,23.97768830507196,24.88846638930605,25.790891292889647,26.68459331140522,27.569197315716178,28.444322428687737,29.3095816851948,30.164581674028813,31.00892216019177,31.84219568592629,32.66398714867727,33.47387335400855,34.271422541305355,35.05619387987936,35.82773693285154,36.585591085918274,37.32928493780218,38.05833564884669,38.772248243827356,39.470514864615936,40.15261396783838,40.81800946210581,41.466149778757924,42.09646686932831,42.70837512210753,43.30127018922194,-43.30127018922194,-42.708375122107526,-42.09646686932831,-41.466149778757924,-40.81800946210581,-40.15261396783838,-39.47051486461593,-38.77224824382736,-38.05833564884669,-37.329284937802186,-36.585591085918274,-35.827736932851536,-35.056193879879366,-34.271422541305355,-33.47387335400854,-32.66398714867727,-31.84219568592629,-31.00892216019178,-30.164581674028813,-29.309581685194797,-28.444322428687745,-27.569197315716178,-26.68459331140522,-25.79089129288965,-24.88846638930605,-23.97768830507196,-23.058921627727855,-22.1325261215171,-21.198857007787993,-20.258265233220044,-19.311097726802398,-18.35769764642553,-17.39840461588663,-16.43355495305449,-15.463481889890094,-14.48851578497449,-13.50898432915498,-12.525212744884188,-11.537523979793749,-10.546238895014566,-9.5516764487291,-8.554153875417297,-7.55398686123641,-6.551489715956374,-5.546975541855377,-4.540756399966102,-3.533143474050305,-2.5244472326689387,-1.5149775897058222,-0.5050440636959747,0.5050440636959747,1.5149775897058222,2.5244472326689387,3.533143474050305,4.540756399966093,5.546975541855377,6.551489715956374,7.55398686123641,8.554153875417288,9.5516764487291,10.546238895014566,11.537523979793749,12.525212744884183,13.508984329154977,14.48851578497449,15.463481889890094,16.433554953054493,17.398404615886626,18.357697646425528,19.311097726802398,20.258265233220044,21.198857007787986,22.132526121517095,23.058921627727855,23.97768830507196,24.88846638930605,25.790891292889647,26.68459331140522,27.569197315716178,28.444322428687737,29.3095816851948,30.164581674028813,31.00892216019177,31.84219568592629,32.66398714867727,33.47387335400855,34.271422541305355,35.05619387987936,35.82773693285154,36.585591085918274,37.32928493780218,38.05833564884669,38.772248243827356,39.470514864615936,40.15261396783838,40.81800946210581,41.466149778757924,42.09646686932831,42.70837512210753,43.30127018922194],\"type\":\"scatter3d\"}],                        {\"template\":{\"data\":{\"histogram2dcontour\":[{\"type\":\"histogram2dcontour\",\"colorbar\":{\"outlinewidth\":0,\"ticks\":\"\"},\"colorscale\":[[0.0,\"#0d0887\"],[0.1111111111111111,\"#46039f\"],[0.2222222222222222,\"#7201a8\"],[0.3333333333333333,\"#9c179e\"],[0.4444444444444444,\"#bd3786\"],[0.5555555555555556,\"#d8576b\"],[0.6666666666666666,\"#ed7953\"],[0.7777777777777778,\"#fb9f3a\"],[0.8888888888888888,\"#fdca26\"],[1.0,\"#f0f921\"]]}],\"choropleth\":[{\"type\":\"choropleth\",\"colorbar\":{\"outlinewidth\":0,\"ticks\":\"\"}}],\"histogram2d\":[{\"type\":\"histogram2d\",\"colorbar\":{\"outlinewidth\":0,\"ticks\":\"\"},\"colorscale\":[[0.0,\"#0d0887\"],[0.1111111111111111,\"#46039f\"],[0.2222222222222222,\"#7201a8\"],[0.3333333333333333,\"#9c179e\"],[0.4444444444444444,\"#bd3786\"],[0.5555555555555556,\"#d8576b\"],[0.6666666666666666,\"#ed7953\"],[0.7777777777777778,\"#fb9f3a\"],[0.8888888888888888,\"#fdca26\"],[1.0,\"#f0f921\"]]}],\"heatmap\":[{\"type\":\"heatmap\",\"colorbar\":{\"outlinewidth\":0,\"ticks\":\"\"},\"colorscale\":[[0.0,\"#0d0887\"],[0.1111111111111111,\"#46039f\"],[0.2222222222222222,\"#7201a8\"],[0.3333333333333333,\"#9c179e\"],[0.4444444444444444,\"#bd3786\"],[0.5555555555555556,\"#d8576b\"],[0.6666666666666666,\"#ed7953\"],[0.7777777777777778,\"#fb9f3a\"],[0.8888888888888888,\"#fdca26\"],[1.0,\"#f0f921\"]]}],\"heatmapgl\":[{\"type\":\"heatmapgl\",\"colorbar\":{\"outlinewidth\":0,\"ticks\":\"\"},\"colorscale\":[[0.0,\"#0d0887\"],[0.1111111111111111,\"#46039f\"],[0.2222222222222222,\"#7201a8\"],[0.3333333333333333,\"#9c179e\"],[0.4444444444444444,\"#bd3786\"],[0.5555555555555556,\"#d8576b\"],[0.6666666666666666,\"#ed7953\"],[0.7777777777777778,\"#fb9f3a\"],[0.8888888888888888,\"#fdca26\"],[1.0,\"#f0f921\"]]}],\"contourcarpet\":[{\"type\":\"contourcarpet\",\"colorbar\":{\"outlinewidth\":0,\"ticks\":\"\"}}],\"contour\":[{\"type\":\"contour\",\"colorbar\":{\"outlinewidth\":0,\"ticks\":\"\"},\"colorscale\":[[0.0,\"#0d0887\"],[0.1111111111111111,\"#46039f\"],[0.2222222222222222,\"#7201a8\"],[0.3333333333333333,\"#9c179e\"],[0.4444444444444444,\"#bd3786\"],[0.5555555555555556,\"#d8576b\"],[0.6666666666666666,\"#ed7953\"],[0.7777777777777778,\"#fb9f3a\"],[0.8888888888888888,\"#fdca26\"],[1.0,\"#f0f921\"]]}],\"surface\":[{\"type\":\"surface\",\"colorbar\":{\"outlinewidth\":0,\"ticks\":\"\"},\"colorscale\":[[0.0,\"#0d0887\"],[0.1111111111111111,\"#46039f\"],[0.2222222222222222,\"#7201a8\"],[0.3333333333333333,\"#9c179e\"],[0.4444444444444444,\"#bd3786\"],[0.5555555555555556,\"#d8576b\"],[0.6666666666666666,\"#ed7953\"],[0.7777777777777778,\"#fb9f3a\"],[0.8888888888888888,\"#fdca26\"],[1.0,\"#f0f921\"]]}],\"mesh3d\":[{\"type\":\"mesh3d\",\"colorbar\":{\"outlinewidth\":0,\"ticks\":\"\"}}],\"scatter\":[{\"fillpattern\":{\"fillmode\":\"overlay\",\"size\":10,\"solidity\":0.2},\"type\":\"scatter\"}],\"parcoords\":[{\"type\":\"parcoords\",\"line\":{\"colorbar\":{\"outlinewidth\":0,\"ticks\":\"\"}}}],\"scatterpolargl\":[{\"type\":\"scatterpolargl\",\"marker\":{\"colorbar\":{\"outlinewidth\":0,\"ticks\":\"\"}}}],\"bar\":[{\"error_x\":{\"color\":\"#2a3f5f\"},\"error_y\":{\"color\":\"#2a3f5f\"},\"marker\":{\"line\":{\"color\":\"#E5ECF6\",\"width\":0.5},\"pattern\":{\"fillmode\":\"overlay\",\"size\":10,\"solidity\":0.2}},\"type\":\"bar\"}],\"scattergeo\":[{\"type\":\"scattergeo\",\"marker\":{\"colorbar\":{\"outlinewidth\":0,\"ticks\":\"\"}}}],\"scatterpolar\":[{\"type\":\"scatterpolar\",\"marker\":{\"colorbar\":{\"outlinewidth\":0,\"ticks\":\"\"}}}],\"histogram\":[{\"marker\":{\"pattern\":{\"fillmode\":\"overlay\",\"size\":10,\"solidity\":0.2}},\"type\":\"histogram\"}],\"scattergl\":[{\"type\":\"scattergl\",\"marker\":{\"colorbar\":{\"outlinewidth\":0,\"ticks\":\"\"}}}],\"scatter3d\":[{\"type\":\"scatter3d\",\"line\":{\"colorbar\":{\"outlinewidth\":0,\"ticks\":\"\"}},\"marker\":{\"colorbar\":{\"outlinewidth\":0,\"ticks\":\"\"}}}],\"scattermapbox\":[{\"type\":\"scattermapbox\",\"marker\":{\"colorbar\":{\"outlinewidth\":0,\"ticks\":\"\"}}}],\"scatterternary\":[{\"type\":\"scatterternary\",\"marker\":{\"colorbar\":{\"outlinewidth\":0,\"ticks\":\"\"}}}],\"scattercarpet\":[{\"type\":\"scattercarpet\",\"marker\":{\"colorbar\":{\"outlinewidth\":0,\"ticks\":\"\"}}}],\"carpet\":[{\"aaxis\":{\"endlinecolor\":\"#2a3f5f\",\"gridcolor\":\"white\",\"linecolor\":\"white\",\"minorgridcolor\":\"white\",\"startlinecolor\":\"#2a3f5f\"},\"baxis\":{\"endlinecolor\":\"#2a3f5f\",\"gridcolor\":\"white\",\"linecolor\":\"white\",\"minorgridcolor\":\"white\",\"startlinecolor\":\"#2a3f5f\"},\"type\":\"carpet\"}],\"table\":[{\"cells\":{\"fill\":{\"color\":\"#EBF0F8\"},\"line\":{\"color\":\"white\"}},\"header\":{\"fill\":{\"color\":\"#C8D4E3\"},\"line\":{\"color\":\"white\"}},\"type\":\"table\"}],\"barpolar\":[{\"marker\":{\"line\":{\"color\":\"#E5ECF6\",\"width\":0.5},\"pattern\":{\"fillmode\":\"overlay\",\"size\":10,\"solidity\":0.2}},\"type\":\"barpolar\"}],\"pie\":[{\"automargin\":true,\"type\":\"pie\"}]},\"layout\":{\"autotypenumbers\":\"strict\",\"colorway\":[\"#636efa\",\"#EF553B\",\"#00cc96\",\"#ab63fa\",\"#FFA15A\",\"#19d3f3\",\"#FF6692\",\"#B6E880\",\"#FF97FF\",\"#FECB52\"],\"font\":{\"color\":\"#2a3f5f\"},\"hovermode\":\"closest\",\"hoverlabel\":{\"align\":\"left\"},\"paper_bgcolor\":\"white\",\"plot_bgcolor\":\"#E5ECF6\",\"polar\":{\"bgcolor\":\"#E5ECF6\",\"angularaxis\":{\"gridcolor\":\"white\",\"linecolor\":\"white\",\"ticks\":\"\"},\"radialaxis\":{\"gridcolor\":\"white\",\"linecolor\":\"white\",\"ticks\":\"\"}},\"ternary\":{\"bgcolor\":\"#E5ECF6\",\"aaxis\":{\"gridcolor\":\"white\",\"linecolor\":\"white\",\"ticks\":\"\"},\"baxis\":{\"gridcolor\":\"white\",\"linecolor\":\"white\",\"ticks\":\"\"},\"caxis\":{\"gridcolor\":\"white\",\"linecolor\":\"white\",\"ticks\":\"\"}},\"coloraxis\":{\"colorbar\":{\"outlinewidth\":0,\"ticks\":\"\"}},\"colorscale\":{\"sequential\":[[0.0,\"#0d0887\"],[0.1111111111111111,\"#46039f\"],[0.2222222222222222,\"#7201a8\"],[0.3333333333333333,\"#9c179e\"],[0.4444444444444444,\"#bd3786\"],[0.5555555555555556,\"#d8576b\"],[0.6666666666666666,\"#ed7953\"],[0.7777777777777778,\"#fb9f3a\"],[0.8888888888888888,\"#fdca26\"],[1.0,\"#f0f921\"]],\"sequentialminus\":[[0.0,\"#0d0887\"],[0.1111111111111111,\"#46039f\"],[0.2222222222222222,\"#7201a8\"],[0.3333333333333333,\"#9c179e\"],[0.4444444444444444,\"#bd3786\"],[0.5555555555555556,\"#d8576b\"],[0.6666666666666666,\"#ed7953\"],[0.7777777777777778,\"#fb9f3a\"],[0.8888888888888888,\"#fdca26\"],[1.0,\"#f0f921\"]],\"diverging\":[[0,\"#8e0152\"],[0.1,\"#c51b7d\"],[0.2,\"#de77ae\"],[0.3,\"#f1b6da\"],[0.4,\"#fde0ef\"],[0.5,\"#f7f7f7\"],[0.6,\"#e6f5d0\"],[0.7,\"#b8e186\"],[0.8,\"#7fbc41\"],[0.9,\"#4d9221\"],[1,\"#276419\"]]},\"xaxis\":{\"gridcolor\":\"white\",\"linecolor\":\"white\",\"ticks\":\"\",\"title\":{\"standoff\":15},\"zerolinecolor\":\"white\",\"automargin\":true,\"zerolinewidth\":2},\"yaxis\":{\"gridcolor\":\"white\",\"linecolor\":\"white\",\"ticks\":\"\",\"title\":{\"standoff\":15},\"zerolinecolor\":\"white\",\"automargin\":true,\"zerolinewidth\":2},\"scene\":{\"xaxis\":{\"backgroundcolor\":\"#E5ECF6\",\"gridcolor\":\"white\",\"linecolor\":\"white\",\"showbackground\":true,\"ticks\":\"\",\"zerolinecolor\":\"white\",\"gridwidth\":2},\"yaxis\":{\"backgroundcolor\":\"#E5ECF6\",\"gridcolor\":\"white\",\"linecolor\":\"white\",\"showbackground\":true,\"ticks\":\"\",\"zerolinecolor\":\"white\",\"gridwidth\":2},\"zaxis\":{\"backgroundcolor\":\"#E5ECF6\",\"gridcolor\":\"white\",\"linecolor\":\"white\",\"showbackground\":true,\"ticks\":\"\",\"zerolinecolor\":\"white\",\"gridwidth\":2}},\"shapedefaults\":{\"line\":{\"color\":\"#2a3f5f\"}},\"annotationdefaults\":{\"arrowcolor\":\"#2a3f5f\",\"arrowhead\":0,\"arrowwidth\":1},\"geo\":{\"bgcolor\":\"white\",\"landcolor\":\"#E5ECF6\",\"subunitcolor\":\"white\",\"showland\":true,\"showlakes\":true,\"lakecolor\":\"white\"},\"title\":{\"x\":0.05},\"mapbox\":{\"style\":\"light\"}}},\"scene\":{\"domain\":{\"x\":[0.0,1.0],\"y\":[0.0,1.0]},\"xaxis\":{\"title\":{\"text\":\"X1_Square\"}},\"yaxis\":{\"title\":{\"text\":\"X2_Square\"}},\"zaxis\":{\"title\":{\"text\":\"X1*X2\"}}},\"coloraxis\":{\"colorbar\":{\"title\":{\"text\":\"Y\"}},\"colorscale\":[[0.0,\"#0d0887\"],[0.1111111111111111,\"#46039f\"],[0.2222222222222222,\"#7201a8\"],[0.3333333333333333,\"#9c179e\"],[0.4444444444444444,\"#bd3786\"],[0.5555555555555556,\"#d8576b\"],[0.6666666666666666,\"#ed7953\"],[0.7777777777777778,\"#fb9f3a\"],[0.8888888888888888,\"#fdca26\"],[1.0,\"#f0f921\"]]},\"legend\":{\"tracegroupgap\":0},\"margin\":{\"t\":60}},                        {\"responsive\": true}                    ).then(function(){\n",
       "                            \n",
       "var gd = document.getElementById('04f32a37-6ec3-4b93-985d-6e8243133419');\n",
       "var x = new MutationObserver(function (mutations, observer) {{\n",
       "        var display = window.getComputedStyle(gd).display;\n",
       "        if (!display || display === 'none') {{\n",
       "            console.log([gd, 'removed!']);\n",
       "            Plotly.purge(gd);\n",
       "            observer.disconnect();\n",
       "        }}\n",
       "}});\n",
       "\n",
       "// Listen for the removal of the full notebook cells\n",
       "var notebookContainer = gd.closest('#notebook-container');\n",
       "if (notebookContainer) {{\n",
       "    x.observe(notebookContainer, {childList: true});\n",
       "}}\n",
       "\n",
       "// Listen for the clearing of the current output cell\n",
       "var outputEl = gd.closest('.output');\n",
       "if (outputEl) {{\n",
       "    x.observe(outputEl, {childList: true});\n",
       "}}\n",
       "\n",
       "                        })                };                });            </script>        </div>"
      ]
     },
     "metadata": {},
     "output_type": "display_data"
    }
   ],
   "source": [
    "import plotly.express as px\n",
    "import plotly.express as px\n",
    "fig = px.scatter_3d(df, x='X1_Square', y='X2_Square', z='X1*X2',\n",
    "              color='Y')\n",
    "fig.show()\n",
    "plt.show()\n"
   ]
  },
  {
   "cell_type": "code",
   "execution_count": 16,
   "id": "d9b0f3bb-8d6e-4253-b9b6-de69fcd7dfb3",
   "metadata": {},
   "outputs": [
    {
     "data": {
      "text/plain": [
       "0.45"
      ]
     },
     "execution_count": 16,
     "metadata": {},
     "output_type": "execute_result"
    }
   ],
   "source": [
    "from sklearn.metrics import accuracy_score\n",
    "from sklearn.svm import SVC\n",
    "classifier = SVC(kernel=\"linear\")\n",
    "classifier.fit(X_train, y_train)\n",
    "y_pred = classifier.predict(X_test)\n",
    "accuracy_score(y_test, y_pred)"
   ]
  },
  {
   "cell_type": "markdown",
   "id": "941e6034-f3f1-48d6-b669-1a80b9c3edab",
   "metadata": {},
   "source": [
    "## Radial Basis Function Kernel"
   ]
  },
  {
   "cell_type": "code",
   "execution_count": 17,
   "id": "e2039acc-c8b8-414e-a09c-71694b1b8f6a",
   "metadata": {},
   "outputs": [
    {
     "data": {
      "text/html": [
       "<div>\n",
       "<style scoped>\n",
       "    .dataframe tbody tr th:only-of-type {\n",
       "        vertical-align: middle;\n",
       "    }\n",
       "\n",
       "    .dataframe tbody tr th {\n",
       "        vertical-align: top;\n",
       "    }\n",
       "\n",
       "    .dataframe thead th {\n",
       "        text-align: right;\n",
       "    }\n",
       "</style>\n",
       "<table border=\"1\" class=\"dataframe\">\n",
       "  <thead>\n",
       "    <tr style=\"text-align: right;\">\n",
       "      <th></th>\n",
       "      <th>X1</th>\n",
       "      <th>X2</th>\n",
       "      <th>Y</th>\n",
       "      <th>X1_Square</th>\n",
       "      <th>X2_Square</th>\n",
       "      <th>X1*X2</th>\n",
       "    </tr>\n",
       "  </thead>\n",
       "  <tbody>\n",
       "    <tr>\n",
       "      <th>0</th>\n",
       "      <td>8.660254</td>\n",
       "      <td>-5.00000</td>\n",
       "      <td>0</td>\n",
       "      <td>75.000000</td>\n",
       "      <td>25.000000</td>\n",
       "      <td>-43.301270</td>\n",
       "    </tr>\n",
       "    <tr>\n",
       "      <th>1</th>\n",
       "      <td>8.717792</td>\n",
       "      <td>-4.89899</td>\n",
       "      <td>0</td>\n",
       "      <td>75.999898</td>\n",
       "      <td>24.000102</td>\n",
       "      <td>-42.708375</td>\n",
       "    </tr>\n",
       "    <tr>\n",
       "      <th>2</th>\n",
       "      <td>8.773790</td>\n",
       "      <td>-4.79798</td>\n",
       "      <td>0</td>\n",
       "      <td>76.979390</td>\n",
       "      <td>23.020610</td>\n",
       "      <td>-42.096467</td>\n",
       "    </tr>\n",
       "    <tr>\n",
       "      <th>3</th>\n",
       "      <td>8.828277</td>\n",
       "      <td>-4.69697</td>\n",
       "      <td>0</td>\n",
       "      <td>77.938476</td>\n",
       "      <td>22.061524</td>\n",
       "      <td>-41.466150</td>\n",
       "    </tr>\n",
       "    <tr>\n",
       "      <th>4</th>\n",
       "      <td>8.881281</td>\n",
       "      <td>-4.59596</td>\n",
       "      <td>0</td>\n",
       "      <td>78.877155</td>\n",
       "      <td>21.122845</td>\n",
       "      <td>-40.818009</td>\n",
       "    </tr>\n",
       "  </tbody>\n",
       "</table>\n",
       "</div>"
      ],
      "text/plain": [
       "         X1       X2  Y  X1_Square  X2_Square      X1*X2\n",
       "0  8.660254 -5.00000  0  75.000000  25.000000 -43.301270\n",
       "1  8.717792 -4.89899  0  75.999898  24.000102 -42.708375\n",
       "2  8.773790 -4.79798  0  76.979390  23.020610 -42.096467\n",
       "3  8.828277 -4.69697  0  77.938476  22.061524 -41.466150\n",
       "4  8.881281 -4.59596  0  78.877155  21.122845 -40.818009"
      ]
     },
     "execution_count": 17,
     "metadata": {},
     "output_type": "execute_result"
    }
   ],
   "source": [
    "df.head()"
   ]
  },
  {
   "cell_type": "code",
   "execution_count": 18,
   "id": "1b4f3553-8bda-4c48-8398-4a2c6eca3936",
   "metadata": {},
   "outputs": [],
   "source": [
    "## Indpeendent Features\n",
    "X=df.iloc[:,0:2]\n",
    "y=df.Y"
   ]
  },
  {
   "cell_type": "code",
   "execution_count": 19,
   "id": "b51ca79f-5ddd-407f-ad28-629d9431c871",
   "metadata": {},
   "outputs": [
    {
     "data": {
      "text/html": [
       "<div>\n",
       "<style scoped>\n",
       "    .dataframe tbody tr th:only-of-type {\n",
       "        vertical-align: middle;\n",
       "    }\n",
       "\n",
       "    .dataframe tbody tr th {\n",
       "        vertical-align: top;\n",
       "    }\n",
       "\n",
       "    .dataframe thead th {\n",
       "        text-align: right;\n",
       "    }\n",
       "</style>\n",
       "<table border=\"1\" class=\"dataframe\">\n",
       "  <thead>\n",
       "    <tr style=\"text-align: right;\">\n",
       "      <th></th>\n",
       "      <th>X1</th>\n",
       "      <th>X2</th>\n",
       "    </tr>\n",
       "  </thead>\n",
       "  <tbody>\n",
       "    <tr>\n",
       "      <th>0</th>\n",
       "      <td>8.660254</td>\n",
       "      <td>-5.00000</td>\n",
       "    </tr>\n",
       "    <tr>\n",
       "      <th>1</th>\n",
       "      <td>8.717792</td>\n",
       "      <td>-4.89899</td>\n",
       "    </tr>\n",
       "    <tr>\n",
       "      <th>2</th>\n",
       "      <td>8.773790</td>\n",
       "      <td>-4.79798</td>\n",
       "    </tr>\n",
       "    <tr>\n",
       "      <th>3</th>\n",
       "      <td>8.828277</td>\n",
       "      <td>-4.69697</td>\n",
       "    </tr>\n",
       "    <tr>\n",
       "      <th>4</th>\n",
       "      <td>8.881281</td>\n",
       "      <td>-4.59596</td>\n",
       "    </tr>\n",
       "  </tbody>\n",
       "</table>\n",
       "</div>"
      ],
      "text/plain": [
       "         X1       X2\n",
       "0  8.660254 -5.00000\n",
       "1  8.717792 -4.89899\n",
       "2  8.773790 -4.79798\n",
       "3  8.828277 -4.69697\n",
       "4  8.881281 -4.59596"
      ]
     },
     "execution_count": 19,
     "metadata": {},
     "output_type": "execute_result"
    }
   ],
   "source": [
    "X.head()"
   ]
  },
  {
   "cell_type": "code",
   "execution_count": 20,
   "id": "cd34e5cc-2998-4680-a00b-df0b50120bef",
   "metadata": {},
   "outputs": [
    {
     "data": {
      "text/plain": [
       "0      0\n",
       "1      0\n",
       "2      0\n",
       "3      0\n",
       "4      0\n",
       "      ..\n",
       "195    1\n",
       "196    1\n",
       "197    1\n",
       "198    1\n",
       "199    1\n",
       "Name: Y, Length: 400, dtype: int64"
      ]
     },
     "execution_count": 20,
     "metadata": {},
     "output_type": "execute_result"
    }
   ],
   "source": [
    "y"
   ]
  },
  {
   "cell_type": "code",
   "execution_count": 21,
   "id": "64e10b6c-50d5-4f8f-ae42-fc2f61cf912d",
   "metadata": {},
   "outputs": [],
   "source": [
    "from sklearn.model_selection import train_test_split\n",
    "X_train, X_test, y_train, y_test = train_test_split(X, y,\n",
    "                                                    test_size = 0.25,\n",
    "                                                    random_state = 0)"
   ]
  },
  {
   "cell_type": "code",
   "execution_count": 22,
   "id": "9420266e-0b63-49c0-a51c-f919128853dc",
   "metadata": {},
   "outputs": [
    {
     "data": {
      "text/plain": [
       "0.45"
      ]
     },
     "execution_count": 22,
     "metadata": {},
     "output_type": "execute_result"
    }
   ],
   "source": [
    "classifier = SVC(kernel=\"rbf\")\n",
    "classifier.fit(X_train, y_train)\n",
    "y_pred = classifier.predict(X_test)\n",
    "accuracy_score(y_test, y_pred)"
   ]
  },
  {
   "cell_type": "code",
   "execution_count": 23,
   "id": "c16a06e7-4e00-4892-ae62-3a00395e9848",
   "metadata": {},
   "outputs": [
    {
     "data": {
      "text/plain": [
       "0.43"
      ]
     },
     "execution_count": 23,
     "metadata": {},
     "output_type": "execute_result"
    }
   ],
   "source": [
    "classifier = SVC(kernel=\"poly\")\n",
    "classifier.fit(X_train, y_train)\n",
    "y_pred = classifier.predict(X_test)\n",
    "accuracy_score(y_test, y_pred)"
   ]
  },
  {
   "cell_type": "code",
   "execution_count": null,
   "id": "3b81a544-6b42-425c-b17e-58547ca816a8",
   "metadata": {},
   "outputs": [],
   "source": []
  }
 ],
 "metadata": {
  "kernelspec": {
   "display_name": "Python 3 (ipykernel)",
   "language": "python",
   "name": "python3"
  },
  "language_info": {
   "codemirror_mode": {
    "name": "ipython",
    "version": 3
   },
   "file_extension": ".py",
   "mimetype": "text/x-python",
   "name": "python",
   "nbconvert_exporter": "python",
   "pygments_lexer": "ipython3",
   "version": "3.10.8"
  }
 },
 "nbformat": 4,
 "nbformat_minor": 5
}
